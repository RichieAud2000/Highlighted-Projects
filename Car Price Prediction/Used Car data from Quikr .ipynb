{
 "cells": [
  {
   "cell_type": "code",
   "execution_count": null,
   "id": "eb853609",
   "metadata": {},
   "outputs": [],
   "source": [
    "# Importing Libraries\n",
    "import selenium\n",
    "import pandas as pd\n",
    "import time\n",
    "from bs4 import BeautifulSoup\n",
    "from selenium.webdriver.common.by import By\n",
    "\n",
    "# Importing selenium webdriver \n",
    "from selenium import webdriver\n",
    "\n",
    "# Importing required Exceptions which needs to handled\n",
    "from selenium.common.exceptions import StaleElementReferenceException, NoSuchElementException\n",
    "\n",
    "#Importing requests\n",
    "import requests\n",
    "\n",
    "# importing regex\n",
    "import re"
   ]
  },
  {
   "cell_type": "code",
   "execution_count": null,
   "id": "f3746c95",
   "metadata": {},
   "outputs": [],
   "source": [
    "# Activating the chrome browser\n",
    "driver=webdriver.Chrome(\"chromedriver.exe\")\n",
    "time.sleep(3)\n",
    "\n",
    "# Opening the homepage of yatra.in/schedule\n",
    "url = \"https://www.quikr.com/\"\n",
    "driver.get(url)\n",
    "\n",
    "time.sleep(2)\n"
   ]
  },
  {
   "cell_type": "code",
   "execution_count": null,
   "id": "3c15566e",
   "metadata": {},
   "outputs": [],
   "source": [
    "inspect_button = driver.find_element(By.XPATH,'/html/body/div[8]/div[2]/div[2]/button[1]')       # closing the pop-up\n",
    "inspect_button.click()\n",
    "menu_button = driver.find_element(By.XPATH,'/html/body/header/div/div[2]/div[1]/div[3]/div[1]/div[1]/a')       # closing the pop-up\n",
    "menu_button.click()\n",
    "car_button = driver.find_element(By.XPATH,'/html/body/header/div/div[2]/div[1]/div[3]/div[1]/div[1]/div/ul/li[2]/a')       # closing the pop-up\n",
    "car_button.click()\n",
    "search_bar = driver.find_element(By.XPATH,'/html/body/header/div/div[2]/div[1]/div[3]/div[1]/div[2]/form/input[1]')    # Finding the search bar using it's xpath\n",
    "search_bar.send_keys(\"used cars\")       # Inputing keyword to search\n",
    "search_button = driver.find_element(By.XPATH,'/html/body/header/div/div[2]/div[1]/div[3]/div[2]/div[1]/div[2]/a[1]')    # Finding the xpath of search button\n",
    "search_button.click() "
   ]
  },
  {
   "cell_type": "code",
   "execution_count": null,
   "id": "0a4a6885",
   "metadata": {},
   "outputs": [],
   "source": [
    "for _ in range(1000):\n",
    "    driver.execute_script(\"window.scrollBy(0,10000)\")\n",
    "    time.sleep(1)\n",
    "car_urls = []\n",
    "urls = driver.find_elements(By.XPATH,'//a[@class=\"qc-ads__card\"]')\n",
    "for url in urls:\n",
    "    car_urls.append(url.get_attribute(\"href\"))"
   ]
  },
  {
   "cell_type": "code",
   "execution_count": null,
   "id": "ec2a713f",
   "metadata": {},
   "outputs": [],
   "source": [
    "for _ in range(20):\n",
    "    driver.execute_script(\"window.scrollBy(0,1000)\")\n",
    "# scrape all destinations urls\n",
    "\n",
    "destination_urls = []\n",
    "start=0\n",
    "end=1\n",
    "for page in range(start,end):#for loop for scrapping all destinations in one page\n",
    "    url=driver.find_elements(By.XPATH,'/html/body/div[3]/section/aside/section[2]/section/ul[1]/li[1]/a')       #scraping urls\n",
    "    for i in url:\n",
    "        product_urls.append(i.get_attribute(\"href\"))                       \n",
    "\n",
    "#Make empty lists\n",
    "name = []   \n",
    "company = []\n",
    "year = []\n",
    "Price = []\n",
    "kms_driven = []\n",
    "fuel_type = []\n",
    "\n",
    "for url in car_urls:\n",
    "    driver.get(url)\n",
    "    time.sleep(1)\n",
    "    \n",
    "    # Extracting name from xpath\n",
    "    try:\n",
    "        name = driver.find_elements(By.XPATH,'//h1[@class=\"sc-dxhf6u-0 igItXx sc-gs8z27-1 jIEFnn\"]//h1')      \n",
    "        name.append(name.text)\n",
    "    except NoSuchElementException:\n",
    "        name.append(' ')    \n",
    "\n",
    "\n",
    "    time.sleep(1)\n",
    "    # Extracting company name\n",
    "    try:\n",
    "        company = driver.find_element(By.XPATH,'/html/body/div/div[2]/div[1]/div[1]/div[2]/div/div[1]/ul/li[3]/span')      \n",
    "        company.append(company.text)\n",
    "    except NoSuchElementException:\n",
    "        company.append(' ')\n",
    "\n",
    "\n",
    "    time.sleep(1)    \n",
    "    # Extracting year from xpath    \n",
    "    try:\n",
    "        year = driver.find_element(By.XPATH,'/html/body/div/div[2]/div[1]/div[1]/div[2]/div/div[1]/ul/li[4]/span')  \n",
    "        year.append(year.text)\n",
    "    except NoSuchElementException:\n",
    "        year.append(' ')\n",
    "\n",
    "\n",
    "    time.sleep(1)\n",
    "    # Extracting price from xpath\n",
    "    try:\n",
    "        Price = driver.find_element(By.XPATH,'//div[@class=\"sc-dxhf6u-0 hoLrKb sc-jj9qsf-1 jPDsvr\"\"]/label')  \n",
    "        Price.append(Price.text)\n",
    "    except NoSuchElementException:\n",
    "        Price.append(' ')\n",
    "\n",
    "\n",
    "    time.sleep(1)\n",
    "    # Extracting kms_driven from xpath    \n",
    "    try:\n",
    "        kms_driven = driver.find_element(By.XPATH,'/html/body/div/div[2]/div[1]/div[1]/div[2]/div/div[1]/ul/li[5]/span')  \n",
    "        kms_driven.append(kms_driven.text)\n",
    "    except NoSuchElementException:\n",
    "        kms_driven.append(' ')\n",
    "\n",
    "\n",
    "    time.sleep(1)\n",
    "    # Extracting fuel_type from xpath\n",
    "    try:\n",
    "        fuel_type = driver.find_element(By.XPATH,'/html/body/div/div[2]/div[1]/div[1]/div[2]/div/div[1]/ul/li[6]/span')  \n",
    "        fuel_type.append(fuel_type.text)\n",
    "    except NoSuchElementException:\n",
    "        fuel_type.append(' ')\n",
    "\n",
    "# Make dataframe\n",
    "df = pd.DataFrame({'name':name,'company':company,'year':year,'Price':Price,'kms_driven':kms_driven,\n",
    "                        'fuel_type':fuel_type})"
   ]
  },
  {
   "cell_type": "code",
   "execution_count": null,
   "id": "87cf04fa",
   "metadata": {},
   "outputs": [],
   "source": [
    "df.to_csv(r'quikr_car samp1.csv', index=False)"
   ]
  },
  {
   "cell_type": "markdown",
   "id": "1d77d375",
   "metadata": {},
   "source": [
    "Suceesfully imported the data to a excel file for model building"
   ]
  },
  {
   "cell_type": "code",
   "execution_count": null,
   "id": "eca54b51",
   "metadata": {},
   "outputs": [],
   "source": [
    "driver.close()"
   ]
  }
 ],
 "metadata": {
  "kernelspec": {
   "display_name": "Python 3 (ipykernel)",
   "language": "python",
   "name": "python3"
  },
  "language_info": {
   "codemirror_mode": {
    "name": "ipython",
    "version": 3
   },
   "file_extension": ".py",
   "mimetype": "text/x-python",
   "name": "python",
   "nbconvert_exporter": "python",
   "pygments_lexer": "ipython3",
   "version": "3.9.12"
  }
 },
 "nbformat": 4,
 "nbformat_minor": 5
}
