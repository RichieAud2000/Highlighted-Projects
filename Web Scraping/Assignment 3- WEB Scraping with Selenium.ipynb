{
 "cells": [
  {
   "cell_type": "markdown",
   "id": "a2d0c8bd",
   "metadata": {},
   "source": [
    "# WEB SCRAPING-ASSIGNMENT - 3"
   ]
  },
  {
   "cell_type": "markdown",
   "id": "e4409af1",
   "metadata": {},
   "source": [
    "## Exercise 1 &2:"
   ]
  },
  {
   "cell_type": "code",
   "execution_count": 2,
   "id": "2b5cbaf5",
   "metadata": {},
   "outputs": [],
   "source": [
    "#Lets import all the necessary libraries \n",
    "\n",
    "import selenium                                     #library that is used to work with Selenium\n",
    "from selenium import webdriver                      # importing webdriver module from selenium to open automated chrome window\n",
    "import pandas as pd                                 # To create a Database\n",
    "from selenium.webdriver.common.by import By         # importing inbuilt class By\n",
    "import warnings\n",
    "warnings.filterwarnings('ignore')                   # to ignore any sort of warning\n",
    "import time                                         #used to stop search engine for a few secods\n",
    "\n",
    "#Importing required Exceptions which needs to be handled\n",
    "from selenium.common.exceptions import StaleElementReferenceException , NoSuchElementException\n",
    "\n",
    "#importing regax\n",
    "import re\n"
   ]
  },
  {
   "cell_type": "code",
   "execution_count": 3,
   "id": "eb2463b0",
   "metadata": {},
   "outputs": [],
   "source": [
    "driver = webdriver.Chrome('chromedriver.exe') # Lets connect to the web driver"
   ]
  },
  {
   "cell_type": "code",
   "execution_count": 231,
   "id": "f71119c5",
   "metadata": {},
   "outputs": [],
   "source": [
    "#Opening up amazon.in website on automated chrome window\n",
    "\n",
    "url = 'https://www.amazon.in/'\n",
    "driver.get(url)"
   ]
  },
  {
   "cell_type": "code",
   "execution_count": 232,
   "id": "5872b5a0",
   "metadata": {},
   "outputs": [
    {
     "name": "stdout",
     "output_type": "stream",
     "text": [
      "Type the name of the product you wish to search for guitar\n"
     ]
    }
   ],
   "source": [
    "#finding the web element for the Search bar and enter user input for entering a product\n",
    "Product = input('Type the name of the product you wish to search for ')\n",
    "search_prod = driver.find_element(By.XPATH,\"/html/body/div[1]/header/div/div[1]/div[2]/div/form/div[2]/div[1]/input\") \n",
    "search_prod.send_keys(Product)"
   ]
  },
  {
   "cell_type": "code",
   "execution_count": 233,
   "id": "9e97cb68",
   "metadata": {},
   "outputs": [],
   "source": [
    "#clicking using absolute xpath function to click the search button after user entered the name of the product\n",
    "\n",
    "search_btn =  driver.find_element(By.XPATH,\"/html/body/div[1]/header/div/div[1]/div[2]/div/form/div[3]/div/span/input\")\n",
    "search_btn.click()"
   ]
  },
  {
   "cell_type": "code",
   "execution_count": 234,
   "id": "fbc1e555",
   "metadata": {},
   "outputs": [],
   "source": [
    "#fetching Urls from 3 pages to open each product page and get the desired features\n",
    "\n",
    "Prod_url =[]\n",
    "\n",
    "start = 0\n",
    "\n",
    "end = 3\n",
    "\n",
    "for page in range(start,end):\n",
    "    url = driver.find_elements(By.XPATH,'//a[@class=\"a-link-normal s-underline-text s-underline-link-text s-link-style a-text-normal\"]')\n",
    "    for i in url:\n",
    "        Prod_url.append(i.get_attribute('href')) #to retrieve any link we use get attribute\n",
    "    next_button = driver.find_element(By.XPATH,'//a[@class=\"s-pagination-item s-pagination-next s-pagination-button s-pagination-separator\"]') #to scrap data from the next page \n",
    "    next_button.click()\n",
    "    time.sleep(3)"
   ]
  },
  {
   "cell_type": "code",
   "execution_count": 235,
   "id": "79a11f8b",
   "metadata": {},
   "outputs": [
    {
     "data": {
      "text/plain": [
       "192"
      ]
     },
     "execution_count": 235,
     "metadata": {},
     "output_type": "execute_result"
    }
   ],
   "source": [
    "len(Prod_url) #we have acquired the links of the product in 3 search pages"
   ]
  },
  {
   "cell_type": "code",
   "execution_count": 236,
   "id": "0f0a5703",
   "metadata": {},
   "outputs": [],
   "source": [
    "#To scrap data from multiple pages with brand name alone from amazon \n",
    "\n",
    "brand_name  = []\n",
    "\n",
    "\n",
    "for i in Prod_url:\n",
    "    driver.get(i)\n",
    "    time.sleep(0)\n",
    "    try:\n",
    "        description=driver.find_element(By.XPATH,'/html/body/div[2]/div[2]/div[6]/div[4]/div[4]/div[40]/div/table/tbody/tr[1]/td[2]/span')\n",
    "        brand_name.append(description.text)\n",
    "    except NoSuchElementException :\n",
    "        brand_name.append('-')\n",
    "    "
   ]
  },
  {
   "cell_type": "code",
   "execution_count": 237,
   "id": "c3d322a9",
   "metadata": {},
   "outputs": [],
   "source": [
    "#To scrap data from multiple pages with prod name alone from amazon \n",
    "\n",
    "prod_name  = []\n",
    "\n",
    "\n",
    "for i in Prod_url:\n",
    "    driver.get(i)\n",
    "    time.sleep(0)\n",
    "    try:\n",
    "        description=driver.find_element(By.XPATH,'/html/body/div[2]/div[2]/div[5]/div[4]/div[4]/div[1]/div/h1/span')\n",
    "        prod_name.append(description.text)\n",
    "    except NoSuchElementException :\n",
    "        prod_name.append('-')"
   ]
  },
  {
   "cell_type": "code",
   "execution_count": 238,
   "id": "302d3bf4",
   "metadata": {},
   "outputs": [],
   "source": [
    "#To scrap data from multiple pages with prod price alone from amazon \n",
    "\n",
    "prod_price  = []\n",
    "\n",
    "\n",
    "for i in Prod_url:\n",
    "    driver.get(i)\n",
    "    time.sleep(0)\n",
    "    try:\n",
    "        description=driver.find_element(By.XPATH,'/html/body/div[2]/div[2]/div[5]/div[4]/div[4]/div[10]/div[3]/div[1]/span/span[2]/span[2]')\n",
    "        prod_price.append(description.text)\n",
    "    except NoSuchElementException :\n",
    "        prod_price.append('-')"
   ]
  },
  {
   "cell_type": "code",
   "execution_count": 239,
   "id": "66db09ba",
   "metadata": {},
   "outputs": [],
   "source": [
    "#To scrap data from multiple pages with return/Exchange alone from amazon \n",
    "\n",
    "return_exchange  = []\n",
    "\n",
    "\n",
    "for i in Prod_url:\n",
    "    driver.get(i)\n",
    "    time.sleep(0)\n",
    "    try:\n",
    "        description=driver.find_element(By.XPATH,'/html/body/div[2]/div[2]/div[5]/div[4]/div[4]/div[21]/div[2]/div/div/div/div[2]/span/div[2]/a')\n",
    "        return_exchange.append(description.text)\n",
    "    except NoSuchElementException :\n",
    "        return_exchange.append('-')"
   ]
  },
  {
   "cell_type": "code",
   "execution_count": 240,
   "id": "9c29d4eb",
   "metadata": {},
   "outputs": [],
   "source": [
    "#To scrap data from multiple pages with Expected Delivery alone from amazon \n",
    "\n",
    "Exp_Delivery  = []\n",
    "\n",
    "\n",
    "for i in Prod_url:\n",
    "    driver.get(i)\n",
    "    time.sleep(0)\n",
    "    try:\n",
    "        description=driver.find_element(By.XPATH,'/html/body/div[2]/div[2]/div[5]/div[4]/div[1]/div[3]/div/div/div/div/form/div/div/div/div/div[3]/div/div[2]/div[8]/div[1]/div/div/div[2]/span/span[1]')\n",
    "        Exp_Delivery.append(description.text)\n",
    "    except NoSuchElementException :\n",
    "        Exp_Delivery.append('-')"
   ]
  },
  {
   "cell_type": "code",
   "execution_count": 241,
   "id": "95c80d3c",
   "metadata": {},
   "outputs": [],
   "source": [
    "#To scrap data from multiple pages with Prod_availability  alone from amazon \n",
    "\n",
    "prod_avail  = []\n",
    "\n",
    "\n",
    "for i in Prod_url:\n",
    "    driver.get(i)\n",
    "    time.sleep(0)\n",
    "    try:\n",
    "        description=driver.find_element(By.XPATH,'/html/body/div[2]/div[2]/div[5]/div[4]/div[1]/div[3]/div/div/div/div/form/div/div/div/div/div[3]/div/div[4]/div/div[1]/span')\n",
    "        prod_avail.append(description.text)\n",
    "    except NoSuchElementException :\n",
    "        prod_avail.append('-')"
   ]
  },
  {
   "cell_type": "code",
   "execution_count": 242,
   "id": "a34768c7",
   "metadata": {},
   "outputs": [],
   "source": [
    "#Creating a DataFrame with the extracted elements\n",
    "import pandas as pd\n",
    "\n",
    "Product = pd.DataFrame()\n",
    "Product['Brand_name'] = brand_name\n",
    "Product['Product name'] = prod_name\n",
    "Product['Price'] = prod_price\n",
    "Product['Return/Exchange'] = return_exchange\n",
    "Product['Expected Delivery'] = Exp_Delivery\n",
    "Product['Availability'] = prod_avail\n",
    "Product['Product link'] = Prod_url"
   ]
  },
  {
   "cell_type": "code",
   "execution_count": 245,
   "id": "5b71864d",
   "metadata": {},
   "outputs": [
    {
     "data": {
      "text/html": [
       "<div>\n",
       "<style scoped>\n",
       "    .dataframe tbody tr th:only-of-type {\n",
       "        vertical-align: middle;\n",
       "    }\n",
       "\n",
       "    .dataframe tbody tr th {\n",
       "        vertical-align: top;\n",
       "    }\n",
       "\n",
       "    .dataframe thead th {\n",
       "        text-align: right;\n",
       "    }\n",
       "</style>\n",
       "<table border=\"1\" class=\"dataframe\">\n",
       "  <thead>\n",
       "    <tr style=\"text-align: right;\">\n",
       "      <th></th>\n",
       "      <th>Brand_name</th>\n",
       "      <th>Product name</th>\n",
       "      <th>Price</th>\n",
       "      <th>Return/Exchange</th>\n",
       "      <th>Expected Delivery</th>\n",
       "      <th>Availability</th>\n",
       "      <th>Product link</th>\n",
       "    </tr>\n",
       "  </thead>\n",
       "  <tbody>\n",
       "    <tr>\n",
       "      <th>0</th>\n",
       "      <td>-</td>\n",
       "      <td>Kadence Slowhand Premium Jumbo Semi Acoustic G...</td>\n",
       "      <td>-</td>\n",
       "      <td>-</td>\n",
       "      <td>-</td>\n",
       "      <td>-</td>\n",
       "      <td>https://www.amazon.in/sspa/click?ie=UTF8&amp;spc=M...</td>\n",
       "    </tr>\n",
       "    <tr>\n",
       "      <th>1</th>\n",
       "      <td>-</td>\n",
       "      <td>Bestonl String Decor Guitar Children's Musical...</td>\n",
       "      <td>899</td>\n",
       "      <td>-</td>\n",
       "      <td>Monday, 28 November</td>\n",
       "      <td>-</td>\n",
       "      <td>https://www.amazon.in/sspa/click?ie=UTF8&amp;spc=M...</td>\n",
       "    </tr>\n",
       "    <tr>\n",
       "      <th>2</th>\n",
       "      <td>-</td>\n",
       "      <td>Vault DA40 41 Inch Premium Solid Spruce-Top Dr...</td>\n",
       "      <td>6,930</td>\n",
       "      <td>-</td>\n",
       "      <td>Monday, 28 November</td>\n",
       "      <td>-</td>\n",
       "      <td>https://www.amazon.in/sspa/click?ie=UTF8&amp;spc=M...</td>\n",
       "    </tr>\n",
       "    <tr>\n",
       "      <th>3</th>\n",
       "      <td>-</td>\n",
       "      <td>-</td>\n",
       "      <td>-</td>\n",
       "      <td>-</td>\n",
       "      <td>-</td>\n",
       "      <td>-</td>\n",
       "      <td>https://www.amazon.in/sspa/click?ie=UTF8&amp;spc=M...</td>\n",
       "    </tr>\n",
       "    <tr>\n",
       "      <th>4</th>\n",
       "      <td>-</td>\n",
       "      <td>-</td>\n",
       "      <td>-</td>\n",
       "      <td>-</td>\n",
       "      <td>-</td>\n",
       "      <td>-</td>\n",
       "      <td>https://www.amazon.in/Juarez-Acoustic-Cutaway-...</td>\n",
       "    </tr>\n",
       "    <tr>\n",
       "      <th>...</th>\n",
       "      <td>...</td>\n",
       "      <td>...</td>\n",
       "      <td>...</td>\n",
       "      <td>...</td>\n",
       "      <td>...</td>\n",
       "      <td>...</td>\n",
       "      <td>...</td>\n",
       "    </tr>\n",
       "    <tr>\n",
       "      <th>187</th>\n",
       "      <td>-</td>\n",
       "      <td>-</td>\n",
       "      <td>-</td>\n",
       "      <td>-</td>\n",
       "      <td>-</td>\n",
       "      <td>-</td>\n",
       "      <td>https://www.amazon.in/Epiphone-String-Electric...</td>\n",
       "    </tr>\n",
       "    <tr>\n",
       "      <th>188</th>\n",
       "      <td>-</td>\n",
       "      <td>SG Musical - Store - Capo, Quick Change Capo F...</td>\n",
       "      <td>249</td>\n",
       "      <td>-</td>\n",
       "      <td>Wednesday, 30 November</td>\n",
       "      <td>-</td>\n",
       "      <td>https://www.amazon.in/sspa/click?ie=UTF8&amp;spc=M...</td>\n",
       "    </tr>\n",
       "    <tr>\n",
       "      <th>189</th>\n",
       "      <td>-</td>\n",
       "      <td>-</td>\n",
       "      <td>-</td>\n",
       "      <td>-</td>\n",
       "      <td>-</td>\n",
       "      <td>-</td>\n",
       "      <td>https://www.amazon.in/sspa/click?ie=UTF8&amp;spc=M...</td>\n",
       "    </tr>\n",
       "    <tr>\n",
       "      <th>190</th>\n",
       "      <td>-</td>\n",
       "      <td>SG Musical - Silver - - Capo For Acoustic Guit...</td>\n",
       "      <td>249</td>\n",
       "      <td>-</td>\n",
       "      <td>Wednesday, 30 November</td>\n",
       "      <td>-</td>\n",
       "      <td>https://www.amazon.in/sspa/click?ie=UTF8&amp;spc=M...</td>\n",
       "    </tr>\n",
       "    <tr>\n",
       "      <th>191</th>\n",
       "      <td>-</td>\n",
       "      <td>Pack of 2 Universal Guitar Stand by Hola! Musi...</td>\n",
       "      <td>999</td>\n",
       "      <td>-</td>\n",
       "      <td>Tuesday, 29 November</td>\n",
       "      <td>-</td>\n",
       "      <td>https://www.amazon.in/sspa/click?ie=UTF8&amp;spc=M...</td>\n",
       "    </tr>\n",
       "  </tbody>\n",
       "</table>\n",
       "<p>192 rows × 7 columns</p>\n",
       "</div>"
      ],
      "text/plain": [
       "    Brand_name                                       Product name  Price  \\\n",
       "0            -  Kadence Slowhand Premium Jumbo Semi Acoustic G...      -   \n",
       "1            -  Bestonl String Decor Guitar Children's Musical...    899   \n",
       "2            -  Vault DA40 41 Inch Premium Solid Spruce-Top Dr...  6,930   \n",
       "3            -                                                  -      -   \n",
       "4            -                                                  -      -   \n",
       "..         ...                                                ...    ...   \n",
       "187          -                                                  -      -   \n",
       "188          -  SG Musical - Store - Capo, Quick Change Capo F...    249   \n",
       "189          -                                                  -      -   \n",
       "190          -  SG Musical - Silver - - Capo For Acoustic Guit...    249   \n",
       "191          -  Pack of 2 Universal Guitar Stand by Hola! Musi...    999   \n",
       "\n",
       "    Return/Exchange       Expected Delivery Availability  \\\n",
       "0                 -                       -            -   \n",
       "1                 -     Monday, 28 November            -   \n",
       "2                 -     Monday, 28 November            -   \n",
       "3                 -                       -            -   \n",
       "4                 -                       -            -   \n",
       "..              ...                     ...          ...   \n",
       "187               -                       -            -   \n",
       "188               -  Wednesday, 30 November            -   \n",
       "189               -                       -            -   \n",
       "190               -  Wednesday, 30 November            -   \n",
       "191               -    Tuesday, 29 November            -   \n",
       "\n",
       "                                          Product link  \n",
       "0    https://www.amazon.in/sspa/click?ie=UTF8&spc=M...  \n",
       "1    https://www.amazon.in/sspa/click?ie=UTF8&spc=M...  \n",
       "2    https://www.amazon.in/sspa/click?ie=UTF8&spc=M...  \n",
       "3    https://www.amazon.in/sspa/click?ie=UTF8&spc=M...  \n",
       "4    https://www.amazon.in/Juarez-Acoustic-Cutaway-...  \n",
       "..                                                 ...  \n",
       "187  https://www.amazon.in/Epiphone-String-Electric...  \n",
       "188  https://www.amazon.in/sspa/click?ie=UTF8&spc=M...  \n",
       "189  https://www.amazon.in/sspa/click?ie=UTF8&spc=M...  \n",
       "190  https://www.amazon.in/sspa/click?ie=UTF8&spc=M...  \n",
       "191  https://www.amazon.in/sspa/click?ie=UTF8&spc=M...  \n",
       "\n",
       "[192 rows x 7 columns]"
      ]
     },
     "execution_count": 245,
     "metadata": {},
     "output_type": "execute_result"
    }
   ],
   "source": [
    "Product"
   ]
  },
  {
   "cell_type": "code",
   "execution_count": 246,
   "id": "4de1d3df",
   "metadata": {},
   "outputs": [],
   "source": [
    "#Creating file csv to file \n",
    "\n",
    "Product.to_csv('Product_amazon.csv', index =True)"
   ]
  },
  {
   "cell_type": "markdown",
   "id": "38c65917",
   "metadata": {},
   "source": [
    "# Excercise 3:"
   ]
  },
  {
   "cell_type": "markdown",
   "id": "fba73571",
   "metadata": {},
   "source": [
    "## scrape 10 images each for keywords ‘fruits’, ‘cars’ and ‘Machine Learning’, ‘Guitar’, ‘Cakes’."
   ]
  },
  {
   "cell_type": "code",
   "execution_count": 112,
   "id": "f82ae3e9",
   "metadata": {},
   "outputs": [],
   "source": [
    "#Opening up google images website on automated chrome window\n",
    "\n",
    "url = 'https://www.google.co.in/imghp?hl=en&ogbl'\n",
    "driver.get(url)"
   ]
  },
  {
   "cell_type": "code",
   "execution_count": 113,
   "id": "a294ad77",
   "metadata": {},
   "outputs": [],
   "source": [
    "#finding the web element for the Search bar and enter fruits\n",
    "search_prod = driver.find_element(By.XPATH,\"/html/body/div[1]/div[3]/form/div[1]/div[1]/div[1]/div/div[2]/input\") \n",
    "search_prod.send_keys('fruits')"
   ]
  },
  {
   "cell_type": "code",
   "execution_count": 114,
   "id": "3f08ded3",
   "metadata": {},
   "outputs": [],
   "source": [
    "#clicking using absolute xpath function to click the search button\n",
    "\n",
    "search_btn =  driver.find_element(By.XPATH,\"/html/body/div[1]/div[3]/form/div[1]/div[1]/div[1]/button/div/span\")\n",
    "search_btn.click()"
   ]
  },
  {
   "cell_type": "code",
   "execution_count": 115,
   "id": "e23b29eb",
   "metadata": {},
   "outputs": [],
   "source": [
    "#fetching Url of images for 10 images in the search page\n",
    "\n",
    "Img_url = []\n",
    "url = driver.find_elements(By.XPATH,'//img[@class=\"rg_i Q4LuWd\"]')\n",
    "for i in url:\n",
    "    Img_url.append(i.get_attribute('src')) #to retrieve any link we use get attribute\n",
    "    time.sleep(0)\n"
   ]
  },
  {
   "cell_type": "code",
   "execution_count": 116,
   "id": "18d52ee3",
   "metadata": {},
   "outputs": [
    {
     "data": {
      "text/plain": [
       "'data:image/jpeg;base64,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'"
      ]
     },
     "execution_count": 116,
     "metadata": {},
     "output_type": "execute_result"
    }
   ],
   "source": [
    "Img_url[10]"
   ]
  },
  {
   "cell_type": "code",
   "execution_count": 118,
   "id": "3abb07a9",
   "metadata": {},
   "outputs": [
    {
     "data": {
      "text/plain": [
       "'data:image/jpeg;base64,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'"
      ]
     },
     "execution_count": 118,
     "metadata": {},
     "output_type": "execute_result"
    }
   ],
   "source": [
    "#Opening up google images website on automated chrome window\n",
    "\n",
    "url = 'https://www.google.co.in/imghp?hl=en&ogbl'\n",
    "driver.get(url)\n",
    "\n",
    "#finding the web element for the Search bar and enter cars\n",
    "search_prod = driver.find_element(By.XPATH,\"/html/body/div[1]/div[3]/form/div[1]/div[1]/div[1]/div/div[2]/input\") \n",
    "search_prod.send_keys('cars')\n",
    "\n",
    "#clicking using absolute xpath function to click the search button\n",
    "\n",
    "search_btn =  driver.find_element(By.XPATH,\"/html/body/div[1]/div[3]/form/div[1]/div[1]/div[1]/button/div/span\")\n",
    "search_btn.click()\n",
    "\n",
    "\n",
    "#fetching Url of images for 10 images in the search page\n",
    "\n",
    "Img_url2 = []\n",
    "url = driver.find_elements(By.XPATH,'//img[@class=\"rg_i Q4LuWd\"]')\n",
    "for i in url:\n",
    "    Img_url2.append(i.get_attribute('src')) #to retrieve any link we use get attribute\n",
    "    time.sleep(0)\n",
    "Img_url2[10]"
   ]
  },
  {
   "cell_type": "code",
   "execution_count": 89,
   "id": "17324c41",
   "metadata": {},
   "outputs": [
    {
     "data": {
      "text/plain": [
       "'data:image/jpeg;base64,/9j/4AAQSkZJRgABAQAAAQABAAD/2wCEAAoHCBUUFBcVFBQXFxcXFxsaFxsYGxcXFxgXGhcaGBcbGhgbICwkGx0pIBoaJTYlKS4wMzMzGiI5PjkyPSwyMzABCwsLEA4QHRISHTIpIikyMjIyMjIyMjIyMjIyMjIyMjIyMjIyMjIyMjIyMjIyMjIyMjIyMjIyMjIyMjIyMjIyMv/AABEIAKgBLAMBIgACEQEDEQH/xAAcAAABBQEBAQAAAAAAAAAAAAAEAQIDBQYABwj/xABFEAACAQIEAwUFBAYIBQUAAAABAgMAEQQSITEFQVEGEyJhcTJCgZGxI1JyoRRigsHR4QckM3OSorKzFUNjwvBTg5PD8f/EABkBAAMBAQEAAAAAAAAAAAAAAAECAwAEBf/EACQRAAMAAgMBAAIDAQEBAAAAAAABAhEhAxIxQRNRBCIycWFC/9oADAMBAAIRAxEAPwCXCz666VcRxpIpSRVdGFirAEGszE9XfC5De1CXsra0YntP2BdM0uDzSJqWjOsifh/9RfL2vxamsGK+h8PJVB2o7FRYy8kdopyPaA8Eh/XUc/1xr1zU6om4PGK6juLcJmwrmOZCjcjurjqrbMPT42NAiqImxbUuWuBp16bAuRlcDSmutQDk4CnBa4U7NTJAbJI5LaHakkj5jao70+OS1MI/2h6jMPMVEUohVB1XfpUohLkBQSxNrDckmwsPXlTdci9sDoY7wSf3sf8AomqtIrQNg3ihcOBrJHYhldT4cQpsyEqbEEEX051SypY0KnQZrZCBT0TWkq14TghLuxXxogsubxOSFzaiy3FidTqNDQmRqrQPilyrH+A/7j1qo+08H3JTp0S5N/xdNazHET4Yv7s/7slCxrbU02NiZ0a3trMGigKEFHzsDzNsg/efiPKsaqXNW2BgfFNHDGoBGa7EnLYm7O5OiqotcgbDmbUvExCrBobhSiGzEkq5UF1BIBIDXAPO163XIc4KyYW0qCpXe9RmkoadISrSUfYx/tfUVWWq0lP2KftfUU0L0Tk+B/ZWMNKbgH7OQ6i4uENqvngVgjEXKxRZT0u2tY3AcTeI+Brbj4EWP5VcQdotLMoOiLppohuKeWsE6l5LpsOtiLA6yetU+N4aEiIHiObU+VqOj4vG/OxOY6+dFF1YaEEfyphTFfoJYEgaULJhyp2rbNGqjKBYXqm4jD7bdQPpSVCKRdAERvH6U3EYrMqjmKiw8mhWly6XNvSpsogSY1EDT5TTAak2VR6TDNV3wrEeIelYyDGVd8IxILjXkahK2dFVo1GGxQv8atsPOOtVuHjgKg5he2uvOi44oxs/5imcgVBOPwEWJjMc0ayIeR5HqpGqt5g3ryvtN/R/Lh7yYfNNENSLXlTrmVR4h+so9QBrXrMa9GqWMm+9jRTaFaTPmxTTq9w7R9hMPi7uB3Mp1LxgZWPV49Ax8xY9Sa8v7Qdk8TgmAkUMjGySJcox6G4ureR6G17E1WaySpYKCuoo8PkHuN8qjbDMN1I9Qap1ZPsiGlqQoelMKmjg2UJS0gFOoYMcptRmDxhR1Ye0rBlPRlIK+uoFB0q0ybQtJM1PG8VCyCHDLljusupJIkZGzqL8gGRfVDve9UMmHJHnVphu0TLGImjjdALWINzrfXW2/lVbicYCxKKVU65b5gPjYaVTWCf9s6AxGb2rVdnMHKmZ4XAdo2Rr5SFDi4uVYsrAgHVd1rPJiuoHy/hUi4sb21Gx5/OgkjU6/RPxDD5RED7qMNPKaUaUAyFttqlkxF+W/wAdfjUDyE1ngM5JY3yXIJvYjQ8iLMNNwQSCPOh5XLG5rq40rGXoiITtTmw5HKicAvi+I+oq8fAx9CN9j8t70yhNC1yNPRlyhqxm/sU/a+oo3F4EAXBJHmP3ihcWPs0/a+orKMCu+2CotXWq84Fw39Imji+8dT0Uak1Zdq+zqQSqsQYq63Ubm43pehTuZJZCOdGJiyo0Y3pV4ezEhVJI3AGooRoSK39pNmaLGPjDjc39aXE8RDoRaxIqq7s9DpvURpHbGUL4SK1jpT3nJ5C/WmIt6VlpNj6yRHakApzCkFKxkWKT9DVzwPGESA+RrKHerHhE7B+uh3pZjYarR6FiZDHGJCVN7aWtvQ2H46p935GguNYwfoqX0vbzrLxYno1a00aGj03CcYHn86tYOKAj2jXluH4iVq4wXGOtRbZecM9Nh4iD71Tzqk8bRyAMjizA/lYjYg2II1BFYiHHg2savMBjL1lYXxpoz+N7OYvDE90P0mLdbf2ijoyD2vVb36LtVdJxK32c2GIJ5MMjfJgDXpkMlEuFcZXUMOjAEfI6V0xyP6ct8S+M8twGKjF0kwxeP3WyBmHkQN/WicRDw11IaNoiRo3dyoVPUeEr862OL7L4FxrAqHe8ZaI/5CAfjVVL2EUX7nG4qLpdhIB8FyH86quSWS/G1+jKYXAcNclJHVHA0dJLRyDqO8vkfqh25EimS9mcMHt3/wBmxAR1aOQKx92QDa52caa2NjbNacd4DjcNE8iY0zrGMzqykMEHtMA7OGAGpFxoDvWM/wCMuTdlib8UMH1CXpk0/Gak59ReYvsZkI+1Hdn3yhAVr6BwGOVT97UX3tpcTEdkZVcJnj8XsElgGPNR4dGtrY2uNr2NgF4sLW7mLXQ5RImn7DiiouK5rIUexsLLLMBuLWVmYaaW9KZIRvBW8R4VJA2WQWNrgjUEdQedB5K0GP4jnLRu0rKrG2Zo3NwSL/2YI+dAd3CffkH/ALan/wCyj1B2K61darI4SM7SgfiRx/pDUq8OU7TRH4uv+tBW6A7lbSWqzHCXOzRH0lh+me9PPAp+UTt+AZ/9N63U3cqSlNK1ZS8KmT2opF/Ejr9RQjRnY0OoVRNw5fEPUf6hWjI36H+fy3+vwzmGup/863qyXiLdF+Fx9TVEtE6eyfFISpA3+vX19KrMWPs0/a+oqbEYxmFgAAd9jUWK/s0H4vqKz8FXprP6N8FcyTH3RkX1OrflattLhkZldlBZL5SeV968WwmJdPZdl/CSPpVhF2jxCbTP8Tf61JrOyyrGsHoeB4MkUkrg37w7dAdxWO7S9nijhogSrHXyJpkPa/EDdlb1FFr2tcjxxqfSt1ozqcDk4QkceQi5YeI+dZafhOVZCdMp8PmK0MnaSNt0Iqux/EY3RgCbkc6Dn9jKl8M3HXNSrXNU2h16QvTRSsaQUjKoNbCU/AxWk+dMGJqbBSXkFUSRHNfS748P6vGPSsmyVtONMvcxacqy2IA5UakEXvANE7DY0ZHiOun0puEgzGi58AQL0n400P8AkaYfw/HlSATW04XiLgGvOeF4Z3kCDUE1skvC+W+hGlc98bnZ1cfKm8G1w+KtzqxgxdZGHFaUrcRKnf8AOkV4HrjTNi2NFtvpXJj16qPW1YqfjF9m9aFbigDD9/l/+0/cX8S/ZviUkGUkHrba1eQcU7C42C5VO+QbNES7W5XjsHvboCPOtnF2hXQE/uq0w3GFbUN+Yozbl5NXEqWDxZlsSCLMNCDoQehB1Bo3CyFV0JBLAEjQ2sdL9PKvZMXHDiAO+ijlsLAuisV05Fhp8KxvabsWYwZcIjNHcM0dyzpYalLkl18tWHmNunj5k3hnLycLlZRicQLyN+Jvqab3dOLXYnqTT7a10o5KyhndV3dHrUq1KqdafCJO2DiJutO7k0SsZ6U4j+f50VKFdsHjlkT2GZfwkr9Kf/xjED/nS/8AyOR8ibVKDbfTQ2vpyIqbHsjvnzFgBdzmdybaAXdFNzoOfXkaWpRSLbA24xKfaEbebRQsfmyGkHFb6NFE37AjPzjyVJH47lYYyB5yAf6xQuMQC3hCnMykAkjwhTzJ+8efKptYKp5NOnDcOY45JHgi7xQyqwxP3VzHP3hG56fOgeK4bDIqgSxuPFbupGYjY+IGM28tetD9pj/V8H/dt9I6zIak77KdEyzvCdu8HrlP8KeUiPvH4ih4CAuwNzzq7i4KXUNdBflVJ8JU9lX3acnFSLCWFlsfTel4hge6sGAN+hqtjxDo10NjQdYNMdvpPLhXXcEetDPGatjK8sRLG5DVVtGwPOp0UljBGaje9W0ODYigcXGVNaksBmssDK3pREaMgtzojOtJ0G/JgqCaJwB8dDGiMB7dIvSteF3x+X7OIX92s+Wq44/YCL8AqlpqYkoKws2U0dJjSRaqlaKw0Rdgqi5JsKeXoS5+my7FYS+aUjyFW/aPCZo867rr8Kl4bE0UaoIm0Gvrz5UfnZgQYmsRatSzoEvBneGYlSou421q7bg6SrfNcdVOo/OsHxFGw8zLYgX28uVXPCePlCLfEdfWuS46vw7ePk7L07iPCDA3jkGQ3OYg6baG2xN9qz+KxDd4pWQEA+FRmvbTVrjX4fzr1XDYmKdPEAbjUG3xB8qpcd2QjZs8TZD90jMm/LmD+VBP/wAHqcr0zMcjuATbX9Vv41Y8RgyYczxs2ZCt192zMF6XBuRzNMx/BJorsVzKNSyEEW813HqKp8TxVjC8K6h8tzcAAKwbS+50A+NUmez8JVXVenQdppUYXJUDzuPiK3XAe1QksHIHmK8nZdaIwzlT4SRTXwr/AORY535Wz1LtD2TixeabDkJKbkgWySnnmHuufvfPqMA+DZWZWBDKxUg7gg2IPncVoeBdo2jNj1PPz5Vt3wuHxyB8gE2gBGhYXAsw97TnuPyocfI5/rRTk4ZpdkeTfo9qQacq3vH+yUkYuqZvwkE/KsXjcFJHq8boL2BZSBfU2uRvv8vKuuOVM8/k/j42QAX2FOUAeeh+etvXkagz+XyqQSnlpy0+N7nnvV08nJU4IcYpttb56+etTYeG8Y0vcm4va50A159AP1vOhcQ+nxq34FhjKAoYLYM9zrohWQj45bfGkprJWE8Af6Mw2S3pIP4/+WPQ0Jjo7Kv4m5g8k5jf1rSRcNkMkkbAK8USuyk3NgXNhlvckMKo+JxlVRWBVlLBgQQQQqAgg7EdKV7KLQ7tJODDhUF7pECelnCWt/hNZy1W3F3zGMW9mKMDz+zVv+78qlwfDldQcxvzFv331qfR09FHyKFlldhnOwF/zo6UyJYMhW+24qywGHSOTPbNkXOAeZ6VY4+VZZG0sudCoPINYEVSYa0Qrll7wZ2aN8oZkNjsTQYhJ1tW/wC1SKmRFHgMXwvpWYliUJcHWt0dLIPyKXg7h8irCwO+YGq+d7m4GgqNJTlYVGkmhHWleNDpNNlmMcNNLC1VONlvT81hQ8zXpbeh+OcVkjz6UgkpG2poNQbZ0JIaTRPD/bFC0VgB4/hQn0avCw4+39n+AVT1LM5Y6m9qjtTP0E6QqVtewXC+8kMrDwpt61j8PHmYAbk16/wHgoihRSWBIu1jbU1SVhZJ08vBaiOnhRUK8PTq3zp4wCdD86xtmT7e4EZVmW110b91YdeKOu1vlXr+N4XHJGyZfaBA335V5FiOHhJGR2ylTbWm/wBLAmpeWWGB7TyRncfIVqcJ20TJ4736cqwn6PH9/wCSmlSOMEZWLG+oKgC3+I3+VSfDl+lV/IwvDcJ2sUsSxIBIsM2U6c71i+KYlXlkMYyoWuo29bdBe5A6Wozugfdt+yv7jQssWuoP5D61SeLr9JVzd14AGp4BqKjnsDp/GnQNqPWjjYE8IPV7M3qfrWh4L2kMDAjkQfkfKsu/tsPM/U1E41oVx5LRzpaZ6fJ29RvbVjzswjlF+nuWHnYmq/GYpJ4ZZ0mLSu+WKAqphUMAqoYj4AeRY+p0tfCKtRtAD09TS/gM/wCRLPVOKcAweITvFZI2A1ZPDlI0IdNM9juRqTpcWtWPx/Z6WNHkRUljTdo2fNrexyk69coLGwJ2BIC4fxySN7vmvykiIimUjYm3gkHXMMxv7QrT8LwicQaTE4ich41Vo1BRQl0QkgKLZr5lZiLEodDsF7XAHMXs8/knz2soHpzrVdk7Bun2U/8AtMT+V6scLwD9Pw0k5ASXvWWOXxLHMqRoLuCToxzeMC99Tm1tmsmS8coEckbMHSQOCG0+6p8/yIq0WrJXDjZ6JisRGGlJdAcsg1Kgm0WF0/P86wfapw00pUggzy2INwRmXUHmKFZ4h5/hRj/qkX6ULi8Qpyqt7Ak6gLqQosACdPD15mn6qSfZ0Q8S9tf7uL/ZSlh4iUWwA/P+NN4kfGP7uP8A2kqGPBuwuAbHnypE2noelLX9gzC8R8d2HhIKtboamxeJRABGxe5uSRbbYV3AuEmSdI2G519KsOOYVO+eMKB3cgUEC11PWqJ19JUozleHcW7RmWBEyWI52rONjGItetl2k4WY1VVS8YjBJsNGrLzYIBb0NtaCnKe1sEw+oNETKqqpBueYoeH2WpuHcZxm1F9aTOijWW2SlLgmoXK5bW1vvRUkwBIXQE6ULMqjnfShSDAK+1MFSNTAtRaOiWKiXa1H4JgHygddTQcPtD1orAD7T50ZQKBX3NMNSvuaaq3NMwI0XY3BK8wZwcqanS+vKvUf09eSsfhVT2M4b3OHUkeJ/Ef3VoxRb+CpfQMYw8o3p36RIdoz8TRYpaAcAmeX7ij4/wA6wHbzhjrIJSBZ97bXFelmqrtBg0mgdCVva63I3FNPolrWTxrumPI1NHhXuNCLmwJBAv61M2KdTlDEW000+lOTEvcFmLAG9iSRTqUTdPAScDJzb55/qVtQ78PPJgfS38aJfifRQPTN/Gh34i5PL/Cp+op3gSWwSWDLzB9Delw6eIeo+tPnkZ9/oB9KfhV8S+o+tLjYzrRLiFtK4/Xb6mmOniPqfrRGKH28o/6j8wPebma6SPxHzY/kf51RIlTwNU226fu1qXD4R5ZEjXLmc2FzYDcktYXAABJNthSBbezqbdNtLn5dfKtRwHgrNgpZVOWSZxHE98oRYi0jnNY3R2VVPoemo5K6zkPFHesFHiuHxx6yGURggd8E8D3IvlQnkLkEMSQtwp1qw/4BGQTHPl8pEUjbQqWYA+oBqx4jxGXHYIQfo2QqEzlSAXzOrr3eYAXLLaxJygc7ipIuLBoRIkjYeLNlVZY4ypsga4ZVchQOp5H4cf5K+nd+NfA3AcRfD2lMneoFVcSminQWMgF7AaA5uRHiNiXWw7QcAw+MCSBrHw93Io8RUmwjdDa+ugBsQdByR6bC8RckrEeHSOefeFZvgAikG/L4GoE41Fg5DG7ZUIvJAPH3T28Sq6hlMbDQxkEgNsBbIu08ofGVhlbxLs1NFJkUxMpF1YIQpANjdnQhCDobtYHc0yLslJKrNK6xd22S+UNmIGY2CsoAUEX53NtwQDz2llxFi8RwqZw+HdhI4Ld22UM5UZ1ZDrlb2QLKVW1WXAZycPh0yAd6zlguZlv3rLIEKjWyhV8Oimw2p/yton+JJ5KXi3YV8gdMRGXCIMki90GyxhbJIXILeA6G3rpes7G/d/ZyAo6mzIwYMp6FSNDt869qgxYNhlBBYLmvl16Mu2a/uKSdb2tXcUwS5o5WjVnvkjYAF1voSJQLIL31v00NwK08rlg5OFWsHiuGxal7Bst1Kg7WJ21qXFSGOxYjOWB0N9BzJrZ8e/o2jRRLEZYt8yvaWMAWt41JZb309v4VkuOcCaJgCjLYgZj4lbNsQw01103q88nZHNfCpa/RZcd7TrJhwijxEDN8KxsuKZhblWx4xwDu4bhRlVFJbmWNr/Wsy+EVVves0/hlST2tgcHstQ4OtERey1DqtzU38Lr6W+MhjypkYsSPF5GqeY61ZRYdiLjWgcSljRvwXjeyIbUoFcNqWlwVFi0YX60fgcOc+bQix51VM9G8JuXA6g0E14ak8ZBnOponhkiLIpk9kEE2qdeESMb2A9SBUy8FA9uWNfjeik8iulg2bdvIVACRsQBYcqEl/pCb3Ih8TWbGBw6+1Nf8K118IvKRvkKfqJ2/6XEvbzEH2VUfCg5O1mLf/mW9BQq4+EezAD+I3p3/ABor7Mca+i0Ul+xXT/RK2PxcnvyH0v8AupVweJca5z6n+JoeTj0p2a3oAKZDPPKbKXY9Bc06aEap+hY4K+7GNfxOo/fXHhsQ9vExD8PeSH/KlvzoTF8OxEds8brfa4Ott6rWc86DpIyhv6XZiwinWWV/wRIo+byX/wAtIMRhQdIpX/HIoHyWO/8AmoCGC9iSLE6C+p1te1XceBjU+ySL7m+luWm/P50VsL0Bnica+xhoR+LvXP8Amky/lTsNxiTOoURpcj2I4kO/3gmb86g4rAqAZfO55H05fKg8C/2i/iH1FZ6ZksrJY4pf6zL/AHknLN7zcjRMotm1AF9fPxEgDz/lQXE5cuJlP/Vk/wBbU5+I5rnIoJ6C4GvRr080iVy2FYKFZJYoySqu6KxFybEgMQAD56WNvOtnxLjGGljWGGWNYE0lIuhSI5VZVSQB2JVFUHLrc+V8RgOIESJc5FN1J90ZlK5mA93W5sDpewJrR9qEnmaMvBFE6RMkQjbvFlPgZ/EACpsLqNb+LlrXPzPNL9HT/HWJf7HR8TQYUzM8QleZzDHnS6RQwvDDGBm+/IW6HU86FxmJiGEwcAdXfx94iupZFR4kIKDUlkjmPW7kC96D7J4skSwCPDyPIrCMTEqBnAvkIVg/si6aEi1tjbUdn+FpNBJg2lZZo5UkZZApdhHlKGOUWORmFybXAcephSaZ0S8rJ5jxfGCaR5Ny7Fj0FzoALCwA056AUVwyJMni2OYHTNb2De3MC1yOgNSdo+CfozeEMEJK2a2dHUDOjWsD1DDQjzDAR4JvAvm5B9GVVJ/Oqwk2TtufDb9ru0CS4ZMLHAxlkAsVyFTmdJQxcE3GgPiCnmbWtVlwT7GGGMxxv3Q9o5szMxZ2JPQszna9rDkKy/DeOxpH3WIRQLZRJFlaUC1gCFuTb71wQBaxOoucPjLn7PFQykubISsTBdLKIyufMLDU2vU+illJrKNzBxHDzizjun9i9xbXdLg2sSDdb2NtdCLsxuGeEFjZ4rXJN8oUD2jlF100ugNtQsai71jsZi1jR2aKZHVSLABtOgZLjkN7bKbaWoThPE24gI8GzuuUmTvUZ1CXkRFWOJMudwXWzvoNwvIrU4GyarATh1ZsFiSuXQojo0aka6BS0ex5XAuNGbSgJOMPE9sRho31toDEWNjoy6oxsTplB18QF7U/H4GXhpCI8c8Zu0jNeGdXIuDnRgHJC6HKTcG/Wl4dxIYoSKU7xUVMxIUlSc2ZTay6Fb+IKlmuTcWrLzIunoqO22JyRWjRjFIVKSAEx2YBlQk3KuAy6NvuL6285lxDEWr3Dh+CYRmNMUgDXHczRq+GdGNkD5yXY28IIdQwUWXc1he03Y4rLlhgaOQnxRXzx2YGzwyk3ePMMtmVSpZBbXWk8r8ZOuJf6Rg4x4WqGM2NFYaxBpVlRSQy3qmNJk+22sHHFG2UXtQ8isdTRLzBtlAtUDZm3NathnRA1IGp0gtUYqTbRVbGmjuEg57+RoSJbtY1Z4Gez5QLCxrSjU/gFLOxJ8R+dRZjSuup9aQram2BYLLB8OLi9xVnHwMWveq/BYpVAuaNPHABYCrrokclPkdDXwSKpNAYiNctwaTEcTLXHWkhGZTrzrOpekGZqd0P4PgGnlWNeZ+Q517FwnhcWHQJGovzPMn1rDf0eQr3zm9yE0r0R72Nt7aetTetF1vYBhvtZ3kOqRDInQsfbP7qwPbjg6x4gGNbLKucKBs17MAOmx+Nbzs+47m3vK7B/wAWbU/SsV/SNxAGZI1OsaWb1c3t8gPnWT2BrWV6ZrEhkEdwQcuxH67cjTG4g594/T8hXSDOIx1X/vajo+DC9mblfQE/mbU2X8FwvpVPKW3qbAL9on4h9RTsdhQlrb8/ECb/AIbAj8/Wo+Ht9on4h9RW+7D80WWPQHFTAi/2snML77czTXQAkAbEjrzp+NP9altf+1k2AY+03I/+DenS6MSbHxEgX38RGttQNKrGMHPaZHlNr/w6a6b2861WDxay4FQZESXDOCmd1TMoDZACxG6l0HTKKyguddbXtfztsPOm4knMelzzzX1OuYaMfOhcqlgPHTl5RNxSRGmkeMeFnLKVzLY7kgGxGtyBoRptsLbG9oneNDldcRFde+VshIYEFmjtfMQNbGwOt7EqaFXsDqdeh00vuOe/1pdNRe+uhtbrqCdee3P1tSOEUXJSLzFwYziiiaVkAByI2VI1dwt210zGyjU3tsBuKhj7M4mOO0kMmjH3BlIIWxDOyjlyvvWo7J9oo0wyRPPHG8TSavkGbM7vmDuLNfOw1+Wtzex4+OdWVHw0rHQtEYzLr5qTb/DUHVTWkdEpVOzzTB8KxEzGOHDOzXsQ7ZRe19MmQbW1NxqOovHD2UnafusTE6MAQqI2HTxe1Ys7hVFrtexJHWtzxmOfDPHicEjs8YyyRuWlzqWFmRVUHODa9hsOYuDTYDC43GYp8XMoikRMkYeLNlL5ix7qTnZibsCPGLCw0S6dDzPUO4dgXiiZDLE4Sy2DM8MNlyhZsW5Eam9iY40Zifd1NZ3H4bDwAy4TGSS4wMSxgizQMGvnUi2ULre+Z7/dHIri0+DiYfpcz4yRfZQeJEB5Ktwij9UH9mq6Xtyii0WEVbeyXe4H7CqvyvQ142N/xFZjeJY3Guomd2tmF8gQC6WYtlAv4d73svlpXpfDOMxBEQO6siKL2JcAaAlgCDcg772OmlYbs72vCOf0hfE5N5VFyLtezIPd29ixsBo1hWtkgiYd7FltIbkoQyNYZcysNBtqNCDfS96eFLWBayC43tc6TyIgWWJAbsFZJGky+Jc4JGb3TIyltwOtH8O7VxYh41dpIGidZIy6pJEmQEvfLqiFcysLrYWbcErlJ+zLI+fDSZWNyUcnKw97xb21HtA7702IzB0WaDuCMziZAWyqiFj4iTtbN4mNrWAFK5/YUyy7Z8DZ+JuIQg/SFWZAG8LKwILgqCAGKsddbk2uNaoMX2fnjVXkhbKwvdRnAH6xS4U+RsRSYDtBCXQzQRWVQgsnhTxO5cC5y+J75UA8vPd9iONGSIiPI7AsSrviElUAKGKYizDu7+IBz4c1iTuTPI0sCVxpvJ5m0Q3BB9KGZuQr2LG4fCTL3mJgbK2YNIYzJkKnnioACw1uORGoNR4PA8OMqrhsJhMS8a2UNLl7wZFzXjkBV3Gce1roTobXZ8mRVx4+njUjVGDXsWO4LwoSl8XgZsJcWtaRYc2lmRoyRe2mgA8r61Ryf0fYZmZoeK4cRliVDlQyi+inNICSBYXsL9Km2x0kef4ZPEPWicMLSfOoI3Ab41NDbNe451RYEeWwYtqaY73pGOtNFLkdSOBpQhozDIltb3oxEUcqooJ1yY8RVCFulTqPAfWj5XAU7VWvMTpyo9VIqp2WvZfi36NMHPsnRvSvVcNxeF1zLItvMgGvEL08SHrW0Nh/D0TG9p48NJP3ZEneAMtvZEmzX8q8+xuJaR2dzdmJJPUmoS1NNK6yGZwEw4tlsLkqDfLfTe+1HycZJ0VQOfU39f5VUItzYVZQ8JkO4tz10+fMUZ7ApSvQXEYhnN2OvwH0p+AH2ifiX6iiMXgVjXVvHp4bH60PgP7RPxD6imxvYMprRYY8f1qa9v7WTe9vbbprRDi75SOetrKdWJ9o6bHc6Cosa39al/vZNiF99uZqbE6uVUG+xtckkHp8hbyq0LRDkewdm0tYeut9tvT86ZmO3Xccja9rj4n51M0X3iF9Tc/JbkfG1JZb2F2a+230vcfEUWIskDm5J0HpoPhT1hbpb18IPoTv8KWTEFSQgA6EWv5+IEn/ADVGS7XubX1PwoDf9I8fpoWuxJvvvzvcDWjeFxKwjVlZg0hFkCF2YqoQKH8N8xA12zG2tV+JisL1ZcLykIGTOC5GXP3YN1AF390XIJPQHbela2OnpYLOficjIFM7RxhwMrySTSgoHbNkFgU8Six0uq2t4qoeLzPqFkfLIzFt0Em1mdAbX8tbbVbtkJynKFuAUw65tQLoTK5I17xxcH/li4NgRVcZTK2WxFmYWJDEWsLFhoSOo0NTqVgpNPJX4nD5nA/6cWwuf7FNAOZuRQ0sIUgWPnf1tsKuRHeQAXuYoQLAElu7iAAB87Uk2HIco4yMoObMQzAhiDrt8RU/xlHyYKpolA6/kKseA8Xmwz2jOZWN2jb2X8/1W/WGvqNKHmCgEbnrv+dJHCzMoPhvsaDjYFej0XAccwk4H2gikU+zIwRlOxyufA48udgSosKC7VcYgSBo0kSaSSwsr5wAGDEuUNgNLZBa99t74GRACb6m9QW6UKbHmhuIHiJve5uD1vrr0PlV32ZgkLr3ZlWQPGyd3nA1JVyWUXXwE63AsTc7A0gcjYkag6aajY+orQYDttjYtO97xfuyjOP8WjAeQNqmsJlPT1CLiciMTKrSf9SM9ziLDbMyFVlH6rZR1JqCHiuD7yZcTGZI5WU968ELA5FChZURb3Vi/jCi1z4uZreCdpkxkZWwTEDUofZZLjMyE+0RfVTqN/EAbLiMNblVpma2hHTRrsJgWMYfAYsiO1gEKYqIjUkNHK2ZQL6BXLDbawAEmDluc+B4XI33iZMMW8zE8dwfifWsWIGjfvI3eOT76MUb4kaN6MCKusP2z4gihc8L296SMhj65GUH1sKD4mvDK0eRE1JhzrXV1KvTPwjbekFdXVjE6YjKKU4ljzrq6j2YOqGGQnnSXrq6mRkkLVlwng0mIbLGvqeQ9aSuooSjSP2AlyXWRC33dR+dZDFYZo3KOpVlNiDuDSV1avDL0KgVECMb3OvKwAYja2u1W03F0Gq3bcHkDpoR5+orq6nTwhGslNi8UH2VV9NPnVhwaFFUSsuciVEVSbLcgtma2pAt7ItcnU2Fj1dW+heloH4u5GJmI/8AVk/3Gp7Y6R/qehJN7lfZ/KurqMt5EojysdCdN7fyp/dBd9xob73HlXV1VJZJNrgg3+VvUVIfDcE6X1GzX1tpytr866uoiguP5/iPIjryOo+NFcKcBVJWNgDIbSX7s2juL2IubgWF9TYc66uqb/0Vn/IcJQB3ZLyKWZggLRRliqZWCDxsfbFgOljqRVRxJrZV5jcaaaAWIGx023GldXUKGkKiLCVSntiODJbfN3cWXfztTcTCWkImNmGYve182dr+W9dXVl4LXoPO6AFVW/nTFQswDnKDz6CkrqBgeSwJA16GhWFdXVGi0ELCmmurqky6HxSspupIOuoJB1FjqPIn51ecL7VzxWVz3qfdc+IfhfUj43HlXV1BNrwJsuG8RhxQ+zbx2uUbRx8PeHmL+dqJ/RfKurq6opv0i1s//9k='"
      ]
     },
     "execution_count": 89,
     "metadata": {},
     "output_type": "execute_result"
    }
   ],
   "source": [
    "#Opening up google images website on automated chrome window\n",
    "\n",
    "url = 'https://www.google.co.in/imghp?hl=en&ogbl'\n",
    "driver.get(url)\n",
    "\n",
    "#finding the web element for the Search bar and enter Machine Learning\n",
    "search_prod = driver.find_element(By.XPATH,\"/html/body/div[1]/div[3]/form/div[1]/div[1]/div[1]/div/div[2]/input\") \n",
    "search_prod.send_keys('Machine Learning')\n",
    "\n",
    "#clicking using absolute xpath function to click the search button\n",
    "\n",
    "search_btn =  driver.find_element(By.XPATH,\"/html/body/div[1]/div[3]/form/div[1]/div[1]/div[1]/button/div/span\")\n",
    "search_btn.click()\n",
    "\n",
    "#fetching Url of images for 10 images in the search page\n",
    "\n",
    "Img_url3 = []\n",
    "url = driver.find_elements(By.XPATH,'//img[@class=\"rg_i Q4LuWd\"]')\n",
    "for i in url:\n",
    "    Img_url3.append(i.get_attribute('src')) #to retrieve any link we use get attribute\n",
    "    time.sleep(0)\n",
    "Img_url3[10]"
   ]
  },
  {
   "cell_type": "code",
   "execution_count": 90,
   "id": "5f321a62",
   "metadata": {},
   "outputs": [
    {
     "data": {
      "text/plain": [
       "'data:image/jpeg;base64,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'"
      ]
     },
     "execution_count": 90,
     "metadata": {},
     "output_type": "execute_result"
    }
   ],
   "source": [
    "#Opening up google images website on automated chrome window\n",
    "\n",
    "url = 'https://www.google.co.in/imghp?hl=en&ogbl'\n",
    "driver.get(url)\n",
    "\n",
    "#finding the web element for the Search bar and enter Guitar\n",
    "search_prod = driver.find_element(By.XPATH,\"/html/body/div[1]/div[3]/form/div[1]/div[1]/div[1]/div/div[2]/input\") \n",
    "search_prod.send_keys('Guitar')\n",
    "\n",
    "#clicking using absolute xpath function to click the search button\n",
    "\n",
    "search_btn =  driver.find_element(By.XPATH,\"/html/body/div[1]/div[3]/form/div[1]/div[1]/div[1]/button/div/span\")\n",
    "search_btn.click()\n",
    "\n",
    "#fetching Url of images for 10 images in the search page\n",
    "\n",
    "Img_url4 = []\n",
    "url = driver.find_elements(By.XPATH,'//img[@class=\"rg_i Q4LuWd\"]')\n",
    "for i in url:\n",
    "    Img_url4.append(i.get_attribute('src')) #to retrieve any link we use get attribute\n",
    "    time.sleep(0)\n",
    "Img_url4[10]"
   ]
  },
  {
   "cell_type": "code",
   "execution_count": 91,
   "id": "209bc56b",
   "metadata": {},
   "outputs": [
    {
     "data": {
      "text/plain": [
       "'data:image/jpeg;base64,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'"
      ]
     },
     "execution_count": 91,
     "metadata": {},
     "output_type": "execute_result"
    }
   ],
   "source": [
    "#Opening up google images website on automated chrome window\n",
    "\n",
    "url = 'https://www.google.co.in/imghp?hl=en&ogbl'\n",
    "driver.get(url)\n",
    "\n",
    "#finding the web element for the Search bar and enter Cakes\n",
    "search_prod = driver.find_element(By.XPATH,\"/html/body/div[1]/div[3]/form/div[1]/div[1]/div[1]/div/div[2]/input\") \n",
    "search_prod.send_keys('Cakes')\n",
    "\n",
    "#clicking using absolute xpath function to click the search button\n",
    "\n",
    "search_btn =  driver.find_element(By.XPATH,\"/html/body/div[1]/div[3]/form/div[1]/div[1]/div[1]/button/div/span\")\n",
    "search_btn.click()\n",
    "\n",
    "#fetching Url of images for 10 images in the search page\n",
    "\n",
    "Img_url5 = []\n",
    "url = driver.find_elements(By.XPATH,'//img[@class=\"rg_i Q4LuWd\"]')\n",
    "for i in url:\n",
    "    Img_url5.append(i.get_attribute('src')) #to retrieve any link we use get attribute\n",
    "    time.sleep(0)\n",
    "Img_url5[10]"
   ]
  },
  {
   "cell_type": "markdown",
   "id": "25fd0c8f",
   "metadata": {},
   "source": [
    "# Exercise 4:"
   ]
  },
  {
   "cell_type": "markdown",
   "id": "2e23b079",
   "metadata": {},
   "source": [
    "## python program to search for a smartphone"
   ]
  },
  {
   "cell_type": "code",
   "execution_count": 119,
   "id": "37bea6af",
   "metadata": {},
   "outputs": [],
   "source": [
    "#Opening up Flipkart website on automated chrome window\n",
    "\n",
    "url = 'https://www.flipkart.com/'\n",
    "driver.get(url)"
   ]
  },
  {
   "cell_type": "code",
   "execution_count": 122,
   "id": "40a318aa",
   "metadata": {},
   "outputs": [
    {
     "name": "stdout",
     "output_type": "stream",
     "text": [
      "Type the name of the product you wish to search for Oneplus Nord\n"
     ]
    }
   ],
   "source": [
    "#finding the web element for the Search bar and enter user input\n",
    "Product = input('Type the name of the product you wish to search for ')\n",
    "search_prod = driver.find_element(By.XPATH,\"/html/body/div[1]/div/div[1]/div[1]/div[2]/div[2]/form/div/div/input\") \n",
    "search_prod.send_keys(Product)\n",
    "\n",
    "#clicking using absolute xpath function to click the search button\n",
    "\n",
    "search_btn =  driver.find_element(By.XPATH,\"/html/body/div[1]/div/div[1]/div[1]/div[2]/div[2]/form/div/button\")\n",
    "search_btn.click()"
   ]
  },
  {
   "cell_type": "code",
   "execution_count": null,
   "id": "0fd58e5a",
   "metadata": {},
   "outputs": [],
   "source": [
    "#clicking using absolute xpath function to click the search button\n",
    "\n",
    "search_btn =  driver.find_element(By.XPATH,\"/html/body/div[1]/header/div/div[1]/div[2]/div/form/div[3]/div/span/input\")\n",
    "search_btn.click()"
   ]
  },
  {
   "cell_type": "code",
   "execution_count": 125,
   "id": "19e18d09",
   "metadata": {},
   "outputs": [],
   "source": [
    "#fetching Url to open each product page\n",
    "\n",
    "Prod_url =[]\n",
    "\n",
    "start = 0\n",
    "\n",
    "end = 1\n",
    "\n",
    "for page in range(start,end):\n",
    "    url = driver.find_elements(By.XPATH,'//a[@class=\"s1Q9rs\"]')\n",
    "    for i in url:\n",
    "        Prod_url.append(i.get_attribute('href')) #to retrieve any link we use get attribute\n",
    "    next_button = driver.find_element(By.XPATH,'//a[@class=\"_1LKTO3\"]') #to scrap data from the next page \n",
    "    next_button.click()\n",
    "    time.sleep(1)"
   ]
  },
  {
   "cell_type": "code",
   "execution_count": 127,
   "id": "0496cf02",
   "metadata": {},
   "outputs": [
    {
     "data": {
      "text/plain": [
       "40"
      ]
     },
     "execution_count": 127,
     "metadata": {},
     "output_type": "execute_result"
    }
   ],
   "source": [
    "len(Prod_url)"
   ]
  },
  {
   "cell_type": "code",
   "execution_count": 132,
   "id": "f4dcf4a4",
   "metadata": {},
   "outputs": [],
   "source": [
    "#To scrap data from multiple pages with brand name alone from Flipkart \n",
    "\n",
    "brand_name  = []\n",
    "prod_name  = []\n",
    "\n",
    "for i in Prod_url:\n",
    "    driver.get(i)\n",
    "    time.sleep(0)\n",
    "    try:\n",
    "        description=driver.find_element(By.XPATH,'/html/body/div[1]/div/div[3]/div[1]/div[2]/div[1]/div[1]/div/div[4]/a')\n",
    "        desc1 = driver.find_element(By.XPATH,'/html/body/div[1]/div/div[3]/div[1]/div[2]/div[2]/div/div[1]/h1/span')\n",
    "        brand_name.append(description.text)\n",
    "        prod_name.append(desc1.text)\n",
    "    except NoSuchElementException :\n",
    "        brand_name.append('-')\n",
    "        prod_name.append('-')\n",
    "   "
   ]
  },
  {
   "cell_type": "code",
   "execution_count": 206,
   "id": "ce2c3e33",
   "metadata": {},
   "outputs": [],
   "source": [
    "#To scrap data from multiple pages with brand name alone from Flipkart \n",
    "\n",
    "Colour  = []\n",
    "RAM  = []\n",
    "Storage = []\n",
    "Primary_Camera = []\n",
    "Secondary_Camera = []\n",
    "Display_Size = []\n",
    "Battery_capacity = []\n",
    "Price = []\n",
    "\n",
    "\n",
    "for i in Prod_url:\n",
    "    driver.get(i)\n",
    "    time.sleep(2)\n",
    "    try:\n",
    "        description=driver.find_element(By.XPATH,'/html/body/div[1]/div/div[3]/div[1]/div[2]/div[2]/div/div[3]/div[1]/div/div')\n",
    "        Price.append(description.text)\n",
    "        driver.find_element(By.XPATH,\"//button[@class='_2KpZ6l _1FH0tX']\").click() # Finding the Read More button and clicking it\n",
    "        time.sleep(1)\n",
    "    \n",
    "    \n",
    "    # Storing all the table rows\n",
    "        model=driver.find_elements(By.XPATH,\"//tr[@class='_1s_Smc row']\")\n",
    "        \n",
    "    # Iterating through the Table rows to get required data\n",
    "        for name in model:\n",
    "            text1= name.find_element(By.XPATH,\"td[1]\").text # Storing text for first Table Data for each row to check 'if' condition\n",
    "    # Extracting Phone Color\n",
    "            if text1=='Color':\n",
    "                Colour.append(name.find_element(By.XPATH,\"td[2]\").text)\n",
    "    # Extracting RAM Memory\n",
    "            if text1=='RAM':\n",
    "                 RAM.append(name.find_element(By.XPATH,\"td[2]\").text)\n",
    "    # Extracting Internal Storage(ROM)\n",
    "            if text1=='Internal Storage':\n",
    "                 Storage.append(name.find_element(By.XPATH,\"td[2]\").text)\n",
    "    # Extracting Primary Camera Details\n",
    "            if text1=='Primary Camera':\n",
    "                  Primary_Camera.append(name.find_element(By.XPATH,\"td[2]\").text)\n",
    "    # Extracting Secondary Camera Details\n",
    "            if text1=='Secondary Camera':\n",
    "                  Secondary_Camera.append(name.find_element(By.XPATH,\"td[2]\").text)\n",
    "    # Extracting Display Size\n",
    "            if text1=='Display Size':\n",
    "                  Display_Size.append(name.find_element(By.XPATH,\"td[2]\").text)\n",
    "    # Extracting Battery Capacity\n",
    "            if text1=='Battery Capacity':\n",
    "                  Battery_capacity.append(name.find_element(By.XPATH,\"td[2]\").text)\n",
    "       \n",
    "    except NoSuchElementException :  \n",
    "            Colour.append('-')\n",
    "            RAM.append('-')\n",
    "            Storage.append('-')\n",
    "            Primary_Camera.append('-')\n",
    "            Secondary_Camera.append('-')\n",
    "            Display_Size.append('-')\n",
    "            Battery_capacity.append('-')\n",
    "            Price.append('-')\n"
   ]
  },
  {
   "cell_type": "code",
   "execution_count": 209,
   "id": "cc81e33e",
   "metadata": {},
   "outputs": [
    {
     "name": "stdout",
     "output_type": "stream",
     "text": [
      "40 40 40 40 40 39 5 40 40 40 40\n"
     ]
    }
   ],
   "source": [
    "print(len(brand_name),len(prod_name),len(Colour),len(RAM),len(Storage),len(Primary_Camera),len(Secondary_Camera),len(Display_Size),len(Storage),len(Battery_capacity),len(Price))"
   ]
  },
  {
   "cell_type": "markdown",
   "id": "07242ae2",
   "metadata": {},
   "source": [
    "WE need to treat the columns having less than 40 as we cant make a dataframe if its not equal"
   ]
  },
  {
   "cell_type": "code",
   "execution_count": 215,
   "id": "1388bd13",
   "metadata": {},
   "outputs": [
    {
     "data": {
      "text/plain": [
       "['-', '-', '-', '16MP Front Camera', '-']"
      ]
     },
     "execution_count": 215,
     "metadata": {},
     "output_type": "execute_result"
    }
   ],
   "source": [
    "Secondary_Camera"
   ]
  },
  {
   "cell_type": "code",
   "execution_count": 216,
   "id": "e53ecac0",
   "metadata": {},
   "outputs": [],
   "source": [
    "x='-'\n",
    "Secondary_Camera.extend([x] * 35) \n",
    "\n",
    "#using Extend function to add in the missing values as when the table did not append '-' as we expected"
   ]
  },
  {
   "cell_type": "code",
   "execution_count": 217,
   "id": "eaa9ec3b",
   "metadata": {},
   "outputs": [
    {
     "data": {
      "text/plain": [
       "40"
      ]
     },
     "execution_count": 217,
     "metadata": {},
     "output_type": "execute_result"
    }
   ],
   "source": [
    "len(Secondary_Camera) # we have got equal rows and columns "
   ]
  },
  {
   "cell_type": "code",
   "execution_count": 218,
   "id": "2957b96c",
   "metadata": {},
   "outputs": [],
   "source": [
    "Primary_Camera.append('-') #balancing this list as well from 39 to 40 by adding a '-'"
   ]
  },
  {
   "cell_type": "code",
   "execution_count": 219,
   "id": "9568e371",
   "metadata": {},
   "outputs": [
    {
     "name": "stdout",
     "output_type": "stream",
     "text": [
      "40 40 40 40 40 40 40 40 40 40 40\n"
     ]
    }
   ],
   "source": [
    "#Doing a chcek to make sure all the lists are same size to make a dataframe\n",
    "print(len(brand_name),len(prod_name),len(Colour),len(RAM),len(Storage),len(Primary_Camera),len(Secondary_Camera),len(Display_Size),len(Storage),len(Battery_capacity),len(Price))"
   ]
  },
  {
   "cell_type": "code",
   "execution_count": 220,
   "id": "785863c1",
   "metadata": {},
   "outputs": [],
   "source": [
    "#Creating a DataFrame with the extracted elements\n",
    "import pandas as pd\n",
    "\n",
    "Product1 = pd.DataFrame()\n",
    "Product1['Brand_name'] = brand_name\n",
    "Product1['Product name'] = prod_name\n",
    "Product1['Colour'] = Colour\n",
    "Product1['RAM'] = RAM\n",
    "Product1['Storage'] = Storage\n",
    "Product1['Primary Camera'] = Primary_Camera\n",
    "Product1['Secondary Camera'] = Secondary_Camera\n",
    "Product1['Display Size'] = Display_Size\n",
    "Product1['Storage'] = Storage\n",
    "Product1['Battery capacity'] = Battery_capacity\n",
    "Product1['Price'] = Price\n",
    "Product1['Product Link'] = Prod_url"
   ]
  },
  {
   "cell_type": "code",
   "execution_count": 383,
   "id": "2cc59485",
   "metadata": {},
   "outputs": [
    {
     "data": {
      "text/html": [
       "<div>\n",
       "<style scoped>\n",
       "    .dataframe tbody tr th:only-of-type {\n",
       "        vertical-align: middle;\n",
       "    }\n",
       "\n",
       "    .dataframe tbody tr th {\n",
       "        vertical-align: top;\n",
       "    }\n",
       "\n",
       "    .dataframe thead th {\n",
       "        text-align: right;\n",
       "    }\n",
       "</style>\n",
       "<table border=\"1\" class=\"dataframe\">\n",
       "  <thead>\n",
       "    <tr style=\"text-align: right;\">\n",
       "      <th></th>\n",
       "      <th>Brand_name</th>\n",
       "      <th>Product name</th>\n",
       "      <th>Colour</th>\n",
       "      <th>RAM</th>\n",
       "      <th>Storage</th>\n",
       "      <th>Primary Camera</th>\n",
       "      <th>Secondary Camera</th>\n",
       "      <th>Display Size</th>\n",
       "      <th>Battery capacity</th>\n",
       "      <th>Price</th>\n",
       "      <th>Product Link</th>\n",
       "    </tr>\n",
       "  </thead>\n",
       "  <tbody>\n",
       "    <tr>\n",
       "      <th>0</th>\n",
       "      <td>OnePlus Mobiles</td>\n",
       "      <td>OnePlus Nord N20 SE (Blue Oasis, 64 GB)  (4 GB...</td>\n",
       "      <td>Blue Oasis</td>\n",
       "      <td>4 GB</td>\n",
       "      <td>64 GB</td>\n",
       "      <td>50MP Rear Camera</td>\n",
       "      <td>-</td>\n",
       "      <td>16.66 cm (6.56 inch)</td>\n",
       "      <td>5000 mAh</td>\n",
       "      <td>₹14,499</td>\n",
       "      <td>https://www.flipkart.com/oneplus-nord-n20-se-b...</td>\n",
       "    </tr>\n",
       "    <tr>\n",
       "      <th>1</th>\n",
       "      <td>OnePlus Mobiles</td>\n",
       "      <td>OnePlus Nord CE 2 Lite 5G (Blue Tide, 128 GB) ...</td>\n",
       "      <td>Blue Tide</td>\n",
       "      <td>6 GB</td>\n",
       "      <td>128 GB</td>\n",
       "      <td>64MP Rear Camera</td>\n",
       "      <td>-</td>\n",
       "      <td>16.74 cm (6.59 inch)</td>\n",
       "      <td>5000 mAh</td>\n",
       "      <td>₹19,790</td>\n",
       "      <td>https://www.flipkart.com/oneplus-nord-ce-2-lit...</td>\n",
       "    </tr>\n",
       "    <tr>\n",
       "      <th>2</th>\n",
       "      <td>OnePlus Mobiles</td>\n",
       "      <td>OnePlus Nord CE 2 Lite 5G (Blue Tide, 128 GB) ...</td>\n",
       "      <td>-</td>\n",
       "      <td>-</td>\n",
       "      <td>-</td>\n",
       "      <td>-</td>\n",
       "      <td>-</td>\n",
       "      <td>-</td>\n",
       "      <td>-</td>\n",
       "      <td>-</td>\n",
       "      <td>https://www.flipkart.com/oneplus-nord-ce-2-lit...</td>\n",
       "    </tr>\n",
       "    <tr>\n",
       "      <th>3</th>\n",
       "      <td>OnePlus Mobiles</td>\n",
       "      <td>OnePlus Nord N20 SE (Blue Oasis, 64 MB)  (4 MB...</td>\n",
       "      <td>Blue Oasis</td>\n",
       "      <td>4 MB</td>\n",
       "      <td>64 MB</td>\n",
       "      <td>50MP Rear Camera</td>\n",
       "      <td>16MP Front Camera</td>\n",
       "      <td>16.66 cm (6.56 inch)</td>\n",
       "      <td>5000 mAh</td>\n",
       "      <td>₹14,499</td>\n",
       "      <td>https://www.flipkart.com/oneplus-nord-n20-se-b...</td>\n",
       "    </tr>\n",
       "    <tr>\n",
       "      <th>4</th>\n",
       "      <td>OnePlus Mobiles</td>\n",
       "      <td>OnePlus Nord CE 2 Lite 5G (Black Dusk, 128 GB)...</td>\n",
       "      <td>Black Dusk</td>\n",
       "      <td>6 GB</td>\n",
       "      <td>128 GB</td>\n",
       "      <td>64MP Rear Camera</td>\n",
       "      <td>-</td>\n",
       "      <td>16.74 cm (6.59 inch)</td>\n",
       "      <td>5000 mAh</td>\n",
       "      <td>₹19,981</td>\n",
       "      <td>https://www.flipkart.com/oneplus-nord-ce-2-lit...</td>\n",
       "    </tr>\n",
       "  </tbody>\n",
       "</table>\n",
       "</div>"
      ],
      "text/plain": [
       "        Brand_name                                       Product name  \\\n",
       "0  OnePlus Mobiles  OnePlus Nord N20 SE (Blue Oasis, 64 GB)  (4 GB...   \n",
       "1  OnePlus Mobiles  OnePlus Nord CE 2 Lite 5G (Blue Tide, 128 GB) ...   \n",
       "2  OnePlus Mobiles  OnePlus Nord CE 2 Lite 5G (Blue Tide, 128 GB) ...   \n",
       "3  OnePlus Mobiles  OnePlus Nord N20 SE (Blue Oasis, 64 MB)  (4 MB...   \n",
       "4  OnePlus Mobiles  OnePlus Nord CE 2 Lite 5G (Black Dusk, 128 GB)...   \n",
       "\n",
       "       Colour   RAM Storage    Primary Camera   Secondary Camera  \\\n",
       "0  Blue Oasis  4 GB   64 GB  50MP Rear Camera                  -   \n",
       "1   Blue Tide  6 GB  128 GB  64MP Rear Camera                  -   \n",
       "2           -     -       -                 -                  -   \n",
       "3  Blue Oasis  4 MB   64 MB  50MP Rear Camera  16MP Front Camera   \n",
       "4  Black Dusk  6 GB  128 GB  64MP Rear Camera                  -   \n",
       "\n",
       "           Display Size Battery capacity    Price  \\\n",
       "0  16.66 cm (6.56 inch)         5000 mAh  ₹14,499   \n",
       "1  16.74 cm (6.59 inch)         5000 mAh  ₹19,790   \n",
       "2                     -                -        -   \n",
       "3  16.66 cm (6.56 inch)         5000 mAh  ₹14,499   \n",
       "4  16.74 cm (6.59 inch)         5000 mAh  ₹19,981   \n",
       "\n",
       "                                        Product Link  \n",
       "0  https://www.flipkart.com/oneplus-nord-n20-se-b...  \n",
       "1  https://www.flipkart.com/oneplus-nord-ce-2-lit...  \n",
       "2  https://www.flipkart.com/oneplus-nord-ce-2-lit...  \n",
       "3  https://www.flipkart.com/oneplus-nord-n20-se-b...  \n",
       "4  https://www.flipkart.com/oneplus-nord-ce-2-lit...  "
      ]
     },
     "execution_count": 383,
     "metadata": {},
     "output_type": "execute_result"
    }
   ],
   "source": [
    "Product1.head()"
   ]
  },
  {
   "cell_type": "code",
   "execution_count": 227,
   "id": "f645c05f",
   "metadata": {},
   "outputs": [],
   "source": [
    "#Creating  file csv to file \n",
    "\n",
    "Product1.to_csv('Product_flipkart.csv', index =True)"
   ]
  },
  {
   "cell_type": "code",
   "execution_count": 247,
   "id": "f6221f58",
   "metadata": {},
   "outputs": [],
   "source": [
    "driver.close()"
   ]
  },
  {
   "cell_type": "markdown",
   "id": "ab5b6514",
   "metadata": {},
   "source": [
    "# Exercise 5:"
   ]
  },
  {
   "cell_type": "markdown",
   "id": "72e728d2",
   "metadata": {},
   "source": [
    "## scrap geospatial coordinates (latitude, longitude) of a city searched on google maps"
   ]
  },
  {
   "cell_type": "code",
   "execution_count": 92,
   "id": "dc03a28c",
   "metadata": {},
   "outputs": [],
   "source": [
    "#Opening up google maps  website on automated chrome window\n",
    "\n",
    "url = 'https://www.google.com/maps/'\n",
    "driver.get(url)"
   ]
  },
  {
   "cell_type": "code",
   "execution_count": 102,
   "id": "1f350007",
   "metadata": {},
   "outputs": [
    {
     "name": "stdout",
     "output_type": "stream",
     "text": [
      "Type the name of the city you wish to search for Hyderabad\n",
      "Hyderabad, Bahadurpura mandal, Hyderabad, Telangana, India\n",
      "('Latitude =', 17.360589, 'Longitude = ', 78.4740613)\n"
     ]
    }
   ],
   "source": [
    "#finding the web element for the Search bar and enter user input which is City \n",
    "City = input('Type the name of the city you wish to search for ')\n",
    "search_prod = driver.find_element(By.XPATH,\"/html/body/div[3]/div[9]/div[3]/div[1]/div[1]/div/div[2]/form/input[1]\") \n",
    "search_prod.send_keys(City)\n",
    "\n",
    "#clicking using absolute xpath function to click the search button after the city is inputted \n",
    "\n",
    "search_btn =  driver.find_element(By.XPATH,\"/html/body/div[3]/div[9]/div[3]/div[1]/div[1]/div/div[2]/div[1]/button\")\n",
    "search_btn.click()\n",
    "\n",
    "#Using the API fuction to directly scrape data from the google maps website , the details pertaining to LAtitude as well as longitude\n",
    "\n",
    "from geopy.geocoders import Nominatim\n",
    "address= City\n",
    "geolocator = Nominatim(user_agent=\"Your_Name\")\n",
    "location = geolocator.geocode(address)\n",
    "print(location.address)\n",
    "print(('Latitude =', location.latitude, 'Longitude = ',location.longitude))"
   ]
  },
  {
   "cell_type": "markdown",
   "id": "ebe14d3f",
   "metadata": {},
   "source": [
    "### We could have acquired the codes from Google map Api  since they charge money we used this API, but we are getting the accurate results wityh the zipcodes and other info as well from Google maps itself"
   ]
  },
  {
   "cell_type": "markdown",
   "id": "4d2ec654",
   "metadata": {},
   "source": [
    "# Exercise 6 :"
   ]
  },
  {
   "cell_type": "markdown",
   "id": "3be2e04f",
   "metadata": {},
   "source": [
    "## scrap details of all the funding deals for second quarter (i.e Jan 21 – March 21)"
   ]
  },
  {
   "cell_type": "code",
   "execution_count": 248,
   "id": "4603bea3",
   "metadata": {},
   "outputs": [],
   "source": [
    "driver = webdriver.Chrome('chromedriver.exe') # Lets connect to the web driver"
   ]
  },
  {
   "cell_type": "code",
   "execution_count": 249,
   "id": "fcf94121",
   "metadata": {},
   "outputs": [],
   "source": [
    "#Opening up trak.in  website on automated chrome window\n",
    "\n",
    "url = 'https://trak.in/'\n",
    "driver.get(url)"
   ]
  },
  {
   "cell_type": "code",
   "execution_count": 250,
   "id": "f96db58f",
   "metadata": {},
   "outputs": [],
   "source": [
    "#clicking using absolute xpath function to click the Funding deals button\n",
    "\n",
    "search_btn =  driver.find_element(By.XPATH,\"/html/body/div[1]/header/div[2]/div/div/div/div/nav/ul/li[9]/a\")\n",
    "search_btn.click()"
   ]
  },
  {
   "cell_type": "code",
   "execution_count": 262,
   "id": "56600fb9",
   "metadata": {},
   "outputs": [
    {
     "data": {
      "text/html": [
       "<div>\n",
       "<style scoped>\n",
       "    .dataframe tbody tr th:only-of-type {\n",
       "        vertical-align: middle;\n",
       "    }\n",
       "\n",
       "    .dataframe tbody tr th {\n",
       "        vertical-align: top;\n",
       "    }\n",
       "\n",
       "    .dataframe thead th {\n",
       "        text-align: right;\n",
       "    }\n",
       "</style>\n",
       "<table border=\"1\" class=\"dataframe\">\n",
       "  <thead>\n",
       "    <tr style=\"text-align: right;\">\n",
       "      <th></th>\n",
       "      <th>Sr. No.</th>\n",
       "      <th>Date (dd/mm/yyyy)</th>\n",
       "      <th>Startup Name</th>\n",
       "      <th>Industry / Vertical</th>\n",
       "      <th>Sub-Vertical</th>\n",
       "      <th>City / Location</th>\n",
       "      <th>Investors' Name</th>\n",
       "      <th>Investment Type</th>\n",
       "      <th>Amount (In USD)</th>\n",
       "    </tr>\n",
       "  </thead>\n",
       "  <tbody>\n",
       "    <tr>\n",
       "      <th>0</th>\n",
       "      <td>1</td>\n",
       "      <td>01/04/2021</td>\n",
       "      <td>BYJU’S</td>\n",
       "      <td>Edu-tech</td>\n",
       "      <td>Online tutoring</td>\n",
       "      <td>Bengaluru</td>\n",
       "      <td>Innoven Capital</td>\n",
       "      <td>Series F</td>\n",
       "      <td>460000000</td>\n",
       "    </tr>\n",
       "    <tr>\n",
       "      <th>1</th>\n",
       "      <td>2</td>\n",
       "      <td>05/04/2021</td>\n",
       "      <td>Meesho</td>\n",
       "      <td>E-commerce</td>\n",
       "      <td>Online reselling platform</td>\n",
       "      <td>Bengaluru</td>\n",
       "      <td>SoftBank Vision Fund 2</td>\n",
       "      <td>Series E</td>\n",
       "      <td>300000000</td>\n",
       "    </tr>\n",
       "    <tr>\n",
       "      <th>2</th>\n",
       "      <td>3</td>\n",
       "      <td>14/04/2021</td>\n",
       "      <td>Swiggy</td>\n",
       "      <td>Online Food Delivery</td>\n",
       "      <td>Online Food Delivery</td>\n",
       "      <td>Bengaluru</td>\n",
       "      <td>Amansa Holdings, Carmignac, Falcon Edge Capita...</td>\n",
       "      <td>Series J</td>\n",
       "      <td>343000000</td>\n",
       "    </tr>\n",
       "    <tr>\n",
       "      <th>3</th>\n",
       "      <td>4</td>\n",
       "      <td>07/04/2021</td>\n",
       "      <td>Groww</td>\n",
       "      <td>FinTech</td>\n",
       "      <td>Investment platform</td>\n",
       "      <td>Bengaluru</td>\n",
       "      <td>MC Global Edtech, B Capital, Baron, others</td>\n",
       "      <td>Series D</td>\n",
       "      <td>83000000</td>\n",
       "    </tr>\n",
       "    <tr>\n",
       "      <th>4</th>\n",
       "      <td>5</td>\n",
       "      <td>14/04/2021</td>\n",
       "      <td>Beldara</td>\n",
       "      <td>E-commerce</td>\n",
       "      <td>Global B2B marketplace</td>\n",
       "      <td>Mumbai</td>\n",
       "      <td>Hindustan Media Ventures</td>\n",
       "      <td>Venture</td>\n",
       "      <td>7400000</td>\n",
       "    </tr>\n",
       "  </tbody>\n",
       "</table>\n",
       "</div>"
      ],
      "text/plain": [
       "   Sr. No. Date (dd/mm/yyyy) Startup Name   Industry / Vertical  \\\n",
       "0        1        01/04/2021       BYJU’S              Edu-tech   \n",
       "1        2        05/04/2021       Meesho            E-commerce   \n",
       "2        3        14/04/2021       Swiggy  Online Food Delivery   \n",
       "3        4        07/04/2021        Groww               FinTech   \n",
       "4        5        14/04/2021      Beldara            E-commerce   \n",
       "\n",
       "                Sub-Vertical City / Location  \\\n",
       "0            Online tutoring       Bengaluru   \n",
       "1  Online reselling platform       Bengaluru   \n",
       "2       Online Food Delivery       Bengaluru   \n",
       "3        Investment platform       Bengaluru   \n",
       "4     Global B2B marketplace          Mumbai   \n",
       "\n",
       "                                     Investors' Name Investment Type  \\\n",
       "0                                    Innoven Capital        Series F   \n",
       "1                             SoftBank Vision Fund 2        Series E   \n",
       "2  Amansa Holdings, Carmignac, Falcon Edge Capita...        Series J   \n",
       "3         MC Global Edtech, B Capital, Baron, others        Series D   \n",
       "4                           Hindustan Media Ventures         Venture   \n",
       "\n",
       "   Amount (In USD)  \n",
       "0        460000000  \n",
       "1        300000000  \n",
       "2        343000000  \n",
       "3         83000000  \n",
       "4          7400000  "
      ]
     },
     "execution_count": 262,
     "metadata": {},
     "output_type": "execute_result"
    }
   ],
   "source": [
    "#Pulling the data from Apr 2021\n",
    "\n",
    "from selenium.webdriver.support.ui import WebDriverWait\n",
    "from selenium.webdriver.common.by import By\n",
    "from selenium.webdriver.support import expected_conditions as EC # expected_conditions module contains a set of predefined conditions to use with WebDriverWait used for the visibility_of_element_located to be able to get the elements in the table as shown on website list  \n",
    "import pandas as pd\n",
    "import html5lib\n",
    "import lxml\n",
    "from bs4 import BeautifulSoup\n",
    "\n",
    "\n",
    "data = WebDriverWait(driver, 20).until(EC.visibility_of_element_located((By.XPATH, \"/html/body/div[1]/main/div/div/div/div[2]/div[1]/div/div/div/div[1]/div/div[2]/div[3]\"))).get_attribute(\"outerHTML\")\n",
    "df = pd.read_html(data)\n",
    "df[1]\n",
    "# So finally we see that by using the dataframe from pandas we read the data from html as it is storing the table data as list data and display as dataframe"
   ]
  },
  {
   "cell_type": "code",
   "execution_count": 263,
   "id": "fc78d1ef",
   "metadata": {},
   "outputs": [
    {
     "data": {
      "text/html": [
       "<div>\n",
       "<style scoped>\n",
       "    .dataframe tbody tr th:only-of-type {\n",
       "        vertical-align: middle;\n",
       "    }\n",
       "\n",
       "    .dataframe tbody tr th {\n",
       "        vertical-align: top;\n",
       "    }\n",
       "\n",
       "    .dataframe thead th {\n",
       "        text-align: right;\n",
       "    }\n",
       "</style>\n",
       "<table border=\"1\" class=\"dataframe\">\n",
       "  <thead>\n",
       "    <tr style=\"text-align: right;\">\n",
       "      <th></th>\n",
       "      <th>Sr. No.</th>\n",
       "      <th>Date (dd/mm/yyyy)</th>\n",
       "      <th>Startup Name</th>\n",
       "      <th>Industry / Vertical</th>\n",
       "      <th>Sub-Vertical</th>\n",
       "      <th>City / Location</th>\n",
       "      <th>Investors' Name</th>\n",
       "      <th>Investment Type</th>\n",
       "      <th>Amount (In USD)</th>\n",
       "    </tr>\n",
       "  </thead>\n",
       "  <tbody>\n",
       "    <tr>\n",
       "      <th>0</th>\n",
       "      <td>1</td>\n",
       "      <td>15/01/2021</td>\n",
       "      <td>Digit Insurance</td>\n",
       "      <td>Financial Services</td>\n",
       "      <td>Insurance Services</td>\n",
       "      <td>Bengaluru</td>\n",
       "      <td>A91 Partners, Faering Capital, TVS Capital Funds</td>\n",
       "      <td>Venture</td>\n",
       "      <td>18000000.0</td>\n",
       "    </tr>\n",
       "    <tr>\n",
       "      <th>1</th>\n",
       "      <td>2</td>\n",
       "      <td>28/01/2021</td>\n",
       "      <td>Bombay Shaving Company</td>\n",
       "      <td>Consumer Goods Company</td>\n",
       "      <td>Shave care, beard care, and skincare products</td>\n",
       "      <td>New Delhi</td>\n",
       "      <td>Reckitt Benckiser</td>\n",
       "      <td>Venture</td>\n",
       "      <td>6172258.5</td>\n",
       "    </tr>\n",
       "    <tr>\n",
       "      <th>2</th>\n",
       "      <td>3</td>\n",
       "      <td>19/01/2021</td>\n",
       "      <td>DeHaat</td>\n",
       "      <td>AgriTech Startup</td>\n",
       "      <td>online marketplace for farm products and services</td>\n",
       "      <td>Patna</td>\n",
       "      <td>Prosus Ventures</td>\n",
       "      <td>Series C</td>\n",
       "      <td>30000000.0</td>\n",
       "    </tr>\n",
       "    <tr>\n",
       "      <th>3</th>\n",
       "      <td>4</td>\n",
       "      <td>19/01/2021</td>\n",
       "      <td>Darwinbox</td>\n",
       "      <td>SaaS</td>\n",
       "      <td>HR Tech</td>\n",
       "      <td>Mumbai</td>\n",
       "      <td>Salesforce Ventures</td>\n",
       "      <td>Seed</td>\n",
       "      <td>15000000.0</td>\n",
       "    </tr>\n",
       "    <tr>\n",
       "      <th>4</th>\n",
       "      <td>5</td>\n",
       "      <td>18/01/2021</td>\n",
       "      <td>mfine</td>\n",
       "      <td>Health Tech Startup</td>\n",
       "      <td>AI-powered telemedicine mobile app</td>\n",
       "      <td>Bengaluru</td>\n",
       "      <td>Heritas Capital Management</td>\n",
       "      <td>Venture Round</td>\n",
       "      <td>16000000.0</td>\n",
       "    </tr>\n",
       "    <tr>\n",
       "      <th>5</th>\n",
       "      <td>6</td>\n",
       "      <td>18/01/2021</td>\n",
       "      <td>Udayy</td>\n",
       "      <td>EdTech</td>\n",
       "      <td>Online learning platform for kids in class 1-5</td>\n",
       "      <td>Gurgaon</td>\n",
       "      <td>Sequoia Capital</td>\n",
       "      <td>Seed Funding</td>\n",
       "      <td>15000000.0</td>\n",
       "    </tr>\n",
       "    <tr>\n",
       "      <th>6</th>\n",
       "      <td>7</td>\n",
       "      <td>11/01/2021</td>\n",
       "      <td>True Elements</td>\n",
       "      <td>Food Startup</td>\n",
       "      <td>Whole Food plant based Nashta</td>\n",
       "      <td>Pune</td>\n",
       "      <td>SIDBI Venture Capital</td>\n",
       "      <td>Series</td>\n",
       "      <td>100000000.0</td>\n",
       "    </tr>\n",
       "    <tr>\n",
       "      <th>7</th>\n",
       "      <td>8</td>\n",
       "      <td>13/01/2021</td>\n",
       "      <td>Saveo</td>\n",
       "      <td>B2B E-commerce</td>\n",
       "      <td>Pharmacies</td>\n",
       "      <td>Bengaluru</td>\n",
       "      <td>Matrix Partners India, RTP Global, others</td>\n",
       "      <td>Seed</td>\n",
       "      <td>4000000.0</td>\n",
       "    </tr>\n",
       "  </tbody>\n",
       "</table>\n",
       "</div>"
      ],
      "text/plain": [
       "   Sr. No. Date (dd/mm/yyyy)            Startup Name     Industry / Vertical  \\\n",
       "0        1        15/01/2021         Digit Insurance      Financial Services   \n",
       "1        2        28/01/2021  Bombay Shaving Company  Consumer Goods Company   \n",
       "2        3        19/01/2021                  DeHaat        AgriTech Startup   \n",
       "3        4        19/01/2021               Darwinbox                    SaaS   \n",
       "4        5        18/01/2021                   mfine     Health Tech Startup   \n",
       "5        6        18/01/2021                   Udayy                  EdTech   \n",
       "6        7        11/01/2021           True Elements            Food Startup   \n",
       "7        8        13/01/2021                   Saveo          B2B E-commerce   \n",
       "\n",
       "                                        Sub-Vertical City / Location  \\\n",
       "0                                 Insurance Services       Bengaluru   \n",
       "1      Shave care, beard care, and skincare products       New Delhi   \n",
       "2  online marketplace for farm products and services           Patna   \n",
       "3                                            HR Tech          Mumbai   \n",
       "4                 AI-powered telemedicine mobile app       Bengaluru   \n",
       "5     Online learning platform for kids in class 1-5         Gurgaon   \n",
       "6                      Whole Food plant based Nashta            Pune   \n",
       "7                                         Pharmacies       Bengaluru   \n",
       "\n",
       "                                    Investors' Name Investment Type  \\\n",
       "0  A91 Partners, Faering Capital, TVS Capital Funds         Venture   \n",
       "1                                 Reckitt Benckiser         Venture   \n",
       "2                                   Prosus Ventures        Series C   \n",
       "3                               Salesforce Ventures            Seed   \n",
       "4                        Heritas Capital Management   Venture Round   \n",
       "5                                   Sequoia Capital    Seed Funding   \n",
       "6                             SIDBI Venture Capital          Series   \n",
       "7         Matrix Partners India, RTP Global, others            Seed   \n",
       "\n",
       "   Amount (In USD)  \n",
       "0       18000000.0  \n",
       "1        6172258.5  \n",
       "2       30000000.0  \n",
       "3       15000000.0  \n",
       "4       16000000.0  \n",
       "5       15000000.0  \n",
       "6      100000000.0  \n",
       "7        4000000.0  "
      ]
     },
     "execution_count": 263,
     "metadata": {},
     "output_type": "execute_result"
    }
   ],
   "source": [
    "#Pulling the data from Jan 2021\n",
    "\n",
    "data = WebDriverWait(driver, 20).until(EC.visibility_of_element_located((By.XPATH, \"/html/body/div[1]/main/div/div/div/div[2]/div[1]/div/div/div/div[1]/div/div[5]/div[3]\"))).get_attribute(\"outerHTML\")\n",
    "df = pd.read_html(data)\n",
    "df[1]\n",
    "# So finally we see that by using the dataframe from pandas we read the data from html as it is storing the table data as list data and display as dataframe"
   ]
  },
  {
   "cell_type": "code",
   "execution_count": 264,
   "id": "4f9ee029",
   "metadata": {},
   "outputs": [
    {
     "data": {
      "text/html": [
       "<div>\n",
       "<style scoped>\n",
       "    .dataframe tbody tr th:only-of-type {\n",
       "        vertical-align: middle;\n",
       "    }\n",
       "\n",
       "    .dataframe tbody tr th {\n",
       "        vertical-align: top;\n",
       "    }\n",
       "\n",
       "    .dataframe thead th {\n",
       "        text-align: right;\n",
       "    }\n",
       "</style>\n",
       "<table border=\"1\" class=\"dataframe\">\n",
       "  <thead>\n",
       "    <tr style=\"text-align: right;\">\n",
       "      <th></th>\n",
       "      <th>Sr. No.</th>\n",
       "      <th>Date (dd/mm/yyyy)</th>\n",
       "      <th>Startup Name</th>\n",
       "      <th>Industry / Vertical</th>\n",
       "      <th>Sub-Vertical</th>\n",
       "      <th>City / Location</th>\n",
       "      <th>Investors' Name</th>\n",
       "      <th>Investment Type</th>\n",
       "      <th>Amount (In USD)</th>\n",
       "    </tr>\n",
       "  </thead>\n",
       "  <tbody>\n",
       "    <tr>\n",
       "      <th>0</th>\n",
       "      <td>1</td>\n",
       "      <td>11/02/2021</td>\n",
       "      <td>Doubtnut</td>\n",
       "      <td>Edu Tech</td>\n",
       "      <td>E-Learning Platform</td>\n",
       "      <td>Gurgaon</td>\n",
       "      <td>SIG Global, Sequoia Capital, WaterBridge Ventu...</td>\n",
       "      <td>Series B</td>\n",
       "      <td>2500000.0</td>\n",
       "    </tr>\n",
       "    <tr>\n",
       "      <th>1</th>\n",
       "      <td>2</td>\n",
       "      <td>22/02/2021</td>\n",
       "      <td>Zomato</td>\n",
       "      <td>Hospitality</td>\n",
       "      <td>Online Food Delivery Platform</td>\n",
       "      <td>Gurgaon</td>\n",
       "      <td>Tiger Global, Kora</td>\n",
       "      <td>Venture</td>\n",
       "      <td>250000000.0</td>\n",
       "    </tr>\n",
       "    <tr>\n",
       "      <th>2</th>\n",
       "      <td>3</td>\n",
       "      <td>19/02/2021</td>\n",
       "      <td>Fingerlix</td>\n",
       "      <td>Hospitality</td>\n",
       "      <td>Semi-cooked food delivery app</td>\n",
       "      <td>Mumbai</td>\n",
       "      <td>Rhodium Trust, Accel Partners and Swiggy</td>\n",
       "      <td>Series C</td>\n",
       "      <td>2747045.2</td>\n",
       "    </tr>\n",
       "    <tr>\n",
       "      <th>3</th>\n",
       "      <td>4</td>\n",
       "      <td>17/02/2021</td>\n",
       "      <td>Zolve</td>\n",
       "      <td>FinTech</td>\n",
       "      <td>Global Neobank Venture</td>\n",
       "      <td>Mumbai</td>\n",
       "      <td>Accel Partners and Lightspeed Venture Partners</td>\n",
       "      <td>Seed</td>\n",
       "      <td>15000000.0</td>\n",
       "    </tr>\n",
       "    <tr>\n",
       "      <th>4</th>\n",
       "      <td>5</td>\n",
       "      <td>15/02/2021</td>\n",
       "      <td>KreditBee</td>\n",
       "      <td>Finance</td>\n",
       "      <td>Digital lending platform</td>\n",
       "      <td>Bengaluru</td>\n",
       "      <td>Azim Premji’s PremjiInvest and South Korea’s M...</td>\n",
       "      <td>Series C</td>\n",
       "      <td>75000000.0</td>\n",
       "    </tr>\n",
       "    <tr>\n",
       "      <th>5</th>\n",
       "      <td>6</td>\n",
       "      <td>12/02/2021</td>\n",
       "      <td>Pepperfry</td>\n",
       "      <td>E-commerce</td>\n",
       "      <td>Multi-brand furniture brand</td>\n",
       "      <td>Mumbai</td>\n",
       "      <td>InnoVen Capital</td>\n",
       "      <td>Debt Financing</td>\n",
       "      <td>4773958.0</td>\n",
       "    </tr>\n",
       "    <tr>\n",
       "      <th>6</th>\n",
       "      <td>7</td>\n",
       "      <td>12/02/2021</td>\n",
       "      <td>Grofers</td>\n",
       "      <td>E-Commerce</td>\n",
       "      <td>Online supermarket</td>\n",
       "      <td>Gurgaon</td>\n",
       "      <td>SoftBank Vision Fund (SVF)</td>\n",
       "      <td>Unspecified</td>\n",
       "      <td>55000000.0</td>\n",
       "    </tr>\n",
       "    <tr>\n",
       "      <th>7</th>\n",
       "      <td>8</td>\n",
       "      <td>09/02/2021</td>\n",
       "      <td>Nothing</td>\n",
       "      <td>Technology</td>\n",
       "      <td>Consumer Technology Venture</td>\n",
       "      <td>London</td>\n",
       "      <td>GV</td>\n",
       "      <td>Series A</td>\n",
       "      <td>15000000.0</td>\n",
       "    </tr>\n",
       "    <tr>\n",
       "      <th>8</th>\n",
       "      <td>9</td>\n",
       "      <td>09/02/2021</td>\n",
       "      <td>SplashLearn</td>\n",
       "      <td>EdTech</td>\n",
       "      <td>Game-based learning programme</td>\n",
       "      <td>Gurgaon</td>\n",
       "      <td>Owl Ventures</td>\n",
       "      <td>Series C</td>\n",
       "      <td>18000000.0</td>\n",
       "    </tr>\n",
       "  </tbody>\n",
       "</table>\n",
       "</div>"
      ],
      "text/plain": [
       "   Sr. No. Date (dd/mm/yyyy) Startup Name Industry / Vertical  \\\n",
       "0        1        11/02/2021     Doubtnut            Edu Tech   \n",
       "1        2        22/02/2021       Zomato         Hospitality   \n",
       "2        3        19/02/2021    Fingerlix         Hospitality   \n",
       "3        4        17/02/2021        Zolve             FinTech   \n",
       "4        5        15/02/2021    KreditBee             Finance   \n",
       "5        6        12/02/2021    Pepperfry          E-commerce   \n",
       "6        7        12/02/2021      Grofers          E-Commerce   \n",
       "7        8        09/02/2021      Nothing          Technology   \n",
       "8        9        09/02/2021  SplashLearn              EdTech   \n",
       "\n",
       "                    Sub-Vertical City / Location  \\\n",
       "0            E-Learning Platform         Gurgaon   \n",
       "1  Online Food Delivery Platform         Gurgaon   \n",
       "2  Semi-cooked food delivery app          Mumbai   \n",
       "3         Global Neobank Venture          Mumbai   \n",
       "4       Digital lending platform       Bengaluru   \n",
       "5    Multi-brand furniture brand          Mumbai   \n",
       "6             Online supermarket         Gurgaon   \n",
       "7    Consumer Technology Venture          London   \n",
       "8  Game-based learning programme         Gurgaon   \n",
       "\n",
       "                                     Investors' Name Investment Type  \\\n",
       "0  SIG Global, Sequoia Capital, WaterBridge Ventu...        Series B   \n",
       "1                                 Tiger Global, Kora         Venture   \n",
       "2           Rhodium Trust, Accel Partners and Swiggy        Series C   \n",
       "3     Accel Partners and Lightspeed Venture Partners            Seed   \n",
       "4  Azim Premji’s PremjiInvest and South Korea’s M...        Series C   \n",
       "5                                    InnoVen Capital  Debt Financing   \n",
       "6                         SoftBank Vision Fund (SVF)     Unspecified   \n",
       "7                                                 GV        Series A   \n",
       "8                                       Owl Ventures        Series C   \n",
       "\n",
       "   Amount (In USD)  \n",
       "0        2500000.0  \n",
       "1      250000000.0  \n",
       "2        2747045.2  \n",
       "3       15000000.0  \n",
       "4       75000000.0  \n",
       "5        4773958.0  \n",
       "6       55000000.0  \n",
       "7       15000000.0  \n",
       "8       18000000.0  "
      ]
     },
     "execution_count": 264,
     "metadata": {},
     "output_type": "execute_result"
    }
   ],
   "source": [
    "#Pulling the data from Feb 2021\n",
    "\n",
    "data = WebDriverWait(driver, 20).until(EC.visibility_of_element_located((By.XPATH, \"/html/body/div[1]/main/div/div/div/div[2]/div[1]/div/div/div/div[1]/div/div[4]/div[3]\"))).get_attribute(\"outerHTML\")\n",
    "df = pd.read_html(data)\n",
    "df[1]\n",
    "# So finally we see that by using the dataframe from pandas we read the data from html as it is storing the table data as list data and display as dataframe"
   ]
  },
  {
   "cell_type": "code",
   "execution_count": 265,
   "id": "23899c47",
   "metadata": {},
   "outputs": [
    {
     "data": {
      "text/html": [
       "<div>\n",
       "<style scoped>\n",
       "    .dataframe tbody tr th:only-of-type {\n",
       "        vertical-align: middle;\n",
       "    }\n",
       "\n",
       "    .dataframe tbody tr th {\n",
       "        vertical-align: top;\n",
       "    }\n",
       "\n",
       "    .dataframe thead th {\n",
       "        text-align: right;\n",
       "    }\n",
       "</style>\n",
       "<table border=\"1\" class=\"dataframe\">\n",
       "  <thead>\n",
       "    <tr style=\"text-align: right;\">\n",
       "      <th></th>\n",
       "      <th>Sr. No.</th>\n",
       "      <th>Date (dd/mm/yyyy)</th>\n",
       "      <th>Startup Name</th>\n",
       "      <th>Industry / Vertical</th>\n",
       "      <th>Sub-Vertical</th>\n",
       "      <th>City / Location</th>\n",
       "      <th>Investors' Name</th>\n",
       "      <th>Investment Type</th>\n",
       "      <th>Amount (In USD)</th>\n",
       "    </tr>\n",
       "  </thead>\n",
       "  <tbody>\n",
       "    <tr>\n",
       "      <th>0</th>\n",
       "      <td>1</td>\n",
       "      <td>04/03/2021</td>\n",
       "      <td>DealShare</td>\n",
       "      <td>E-commerce</td>\n",
       "      <td>Online shopping platform</td>\n",
       "      <td>Jaipur, Rajasthan</td>\n",
       "      <td>Innoven Capital</td>\n",
       "      <td>Debt Financing</td>\n",
       "      <td>250000000</td>\n",
       "    </tr>\n",
       "    <tr>\n",
       "      <th>1</th>\n",
       "      <td>2</td>\n",
       "      <td>31/03/2021</td>\n",
       "      <td>Uniphore</td>\n",
       "      <td>Technology</td>\n",
       "      <td>Conversational Service Automation (CSA)</td>\n",
       "      <td>Palo Alto</td>\n",
       "      <td>Sorenson Capital Partners</td>\n",
       "      <td>Series D</td>\n",
       "      <td>140000000</td>\n",
       "    </tr>\n",
       "    <tr>\n",
       "      <th>2</th>\n",
       "      <td>3</td>\n",
       "      <td>30/03/2021</td>\n",
       "      <td>Dunzo</td>\n",
       "      <td>E-commerce</td>\n",
       "      <td>Hyper-local delivery app</td>\n",
       "      <td>Bengaluru</td>\n",
       "      <td>Krishtal Advisors Pte Ltd</td>\n",
       "      <td>Series E</td>\n",
       "      <td>8000000</td>\n",
       "    </tr>\n",
       "    <tr>\n",
       "      <th>3</th>\n",
       "      <td>4</td>\n",
       "      <td>30/03/2021</td>\n",
       "      <td>BYJU’S</td>\n",
       "      <td>Edu-tech</td>\n",
       "      <td>Online tutoring</td>\n",
       "      <td>Bengaluru</td>\n",
       "      <td>MC Global Edtech, B Capital, Baron, others</td>\n",
       "      <td>Series F</td>\n",
       "      <td>460000000</td>\n",
       "    </tr>\n",
       "    <tr>\n",
       "      <th>4</th>\n",
       "      <td>5</td>\n",
       "      <td>23/03/2021</td>\n",
       "      <td>SkilloVilla</td>\n",
       "      <td>Edu-tech</td>\n",
       "      <td>Career and job-oriented upskilling.</td>\n",
       "      <td>Bengaluru</td>\n",
       "      <td>Titan Capital, others</td>\n",
       "      <td>Seed</td>\n",
       "      <td>300000000</td>\n",
       "    </tr>\n",
       "    <tr>\n",
       "      <th>5</th>\n",
       "      <td>6</td>\n",
       "      <td>25/03/2021</td>\n",
       "      <td>CityMall</td>\n",
       "      <td>E-commerce</td>\n",
       "      <td>Social ecommerce and online grocery platform</td>\n",
       "      <td>Gurgaon</td>\n",
       "      <td>Accel Partners</td>\n",
       "      <td>Series A</td>\n",
       "      <td>11000000</td>\n",
       "    </tr>\n",
       "    <tr>\n",
       "      <th>6</th>\n",
       "      <td>7</td>\n",
       "      <td>26/03/2021</td>\n",
       "      <td>DotPe</td>\n",
       "      <td>FinTech</td>\n",
       "      <td>Commerce and payments platform to offline ente...</td>\n",
       "      <td>Gurgaon</td>\n",
       "      <td>PayU</td>\n",
       "      <td>Series A</td>\n",
       "      <td>27500000</td>\n",
       "    </tr>\n",
       "  </tbody>\n",
       "</table>\n",
       "</div>"
      ],
      "text/plain": [
       "   Sr. No. Date (dd/mm/yyyy) Startup Name Industry / Vertical  \\\n",
       "0        1        04/03/2021    DealShare          E-commerce   \n",
       "1        2        31/03/2021     Uniphore          Technology   \n",
       "2        3        30/03/2021        Dunzo          E-commerce   \n",
       "3        4        30/03/2021       BYJU’S            Edu-tech   \n",
       "4        5        23/03/2021  SkilloVilla            Edu-tech   \n",
       "5        6        25/03/2021     CityMall          E-commerce   \n",
       "6        7        26/03/2021        DotPe             FinTech   \n",
       "\n",
       "                                        Sub-Vertical    City / Location  \\\n",
       "0                           Online shopping platform  Jaipur, Rajasthan   \n",
       "1            Conversational Service Automation (CSA)          Palo Alto   \n",
       "2                           Hyper-local delivery app          Bengaluru   \n",
       "3                                    Online tutoring          Bengaluru   \n",
       "4                Career and job-oriented upskilling.          Bengaluru   \n",
       "5       Social ecommerce and online grocery platform            Gurgaon   \n",
       "6  Commerce and payments platform to offline ente...            Gurgaon   \n",
       "\n",
       "                              Investors' Name Investment Type  Amount (In USD)  \n",
       "0                             Innoven Capital  Debt Financing        250000000  \n",
       "1                   Sorenson Capital Partners        Series D        140000000  \n",
       "2                   Krishtal Advisors Pte Ltd        Series E          8000000  \n",
       "3  MC Global Edtech, B Capital, Baron, others        Series F        460000000  \n",
       "4                       Titan Capital, others            Seed        300000000  \n",
       "5                              Accel Partners        Series A         11000000  \n",
       "6                                        PayU        Series A         27500000  "
      ]
     },
     "execution_count": 265,
     "metadata": {},
     "output_type": "execute_result"
    }
   ],
   "source": [
    "#Pulling the data from Mar 2021\n",
    "\n",
    "data = WebDriverWait(driver, 20).until(EC.visibility_of_element_located((By.XPATH, \"/html/body/div[1]/main/div/div/div/div[2]/div[1]/div/div/div/div[1]/div/div[3]/div[3]\"))).get_attribute(\"outerHTML\")\n",
    "df = pd.read_html(data)\n",
    "df[1]\n",
    "# So finally we see that by using the dataframe from pandas we read the data from html as it is storing the table data as list data and display as dataframe"
   ]
  },
  {
   "cell_type": "code",
   "execution_count": null,
   "id": "b291ae28",
   "metadata": {},
   "outputs": [],
   "source": []
  },
  {
   "cell_type": "markdown",
   "id": "8e8742cb",
   "metadata": {},
   "source": [
    "# Exercise 7:"
   ]
  },
  {
   "cell_type": "markdown",
   "id": "c77fba77",
   "metadata": {},
   "source": [
    "## scrap all the available details of best gaming laptops from digit.in"
   ]
  },
  {
   "cell_type": "code",
   "execution_count": 268,
   "id": "dfc36689",
   "metadata": {},
   "outputs": [],
   "source": [
    "#Opening up digit.in  website on automated chrome window\n",
    "\n",
    "url = 'https://www.digit.in'\n",
    "driver.get(url)"
   ]
  },
  {
   "cell_type": "code",
   "execution_count": 269,
   "id": "b18859ba",
   "metadata": {},
   "outputs": [],
   "source": [
    "#clicking using absolute xpath function to click the LAptops button\n",
    "\n",
    "search_btn =  driver.find_element(By.XPATH,\"/html/body/div[1]/div/div[4]/ul/li[3]/a\")\n",
    "search_btn.click()\n",
    "\n",
    "search_btn =  driver.find_element(By.XPATH,\"/html/body/div[6]/div/div[1]/div[4]/div/div/a[2]\")\n",
    "search_btn.click()\n",
    "\n",
    "\n"
   ]
  },
  {
   "cell_type": "code",
   "execution_count": 270,
   "id": "b6c8d9b6",
   "metadata": {},
   "outputs": [
    {
     "data": {
      "text/plain": [
       "['1.\\nApple 16-Inch MacBook Pro M1 Max',\n",
       " '3.\\nDell New XPS 13 Plus',\n",
       " '4.\\nApple MacBook Air M2',\n",
       " '5.\\nAcer Nitro 5',\n",
       " '6.\\nLenovo IdeaPad Gaming 3i',\n",
       " '7.\\nAcer Swift X']"
      ]
     },
     "execution_count": 270,
     "metadata": {},
     "output_type": "execute_result"
    }
   ],
   "source": [
    "#Lets extract all the elements having laptop titles\n",
    "\n",
    "laptop_titles = []\n",
    "title_tags = driver.find_elements(By.XPATH,\"//div[@class='TopNumbeHeading']\")\n",
    "for i in title_tags:\n",
    "    laptop_titles.append(i.text)\n",
    "laptop_titles"
   ]
  },
  {
   "cell_type": "code",
   "execution_count": 273,
   "id": "a85b3381",
   "metadata": {},
   "outputs": [
    {
     "data": {
      "text/plain": [
       "[['MORE SPECIFICATIONS',\n",
       "  'Processor : 10-core processor with 3.1 GHz clock speed',\n",
       "  'Display : 16.2″ (3456 x 2234) screen',\n",
       "  'OS : Mac Monterey',\n",
       "  'Memory : 32 GB DDR4 RAM & 1 TB SSD',\n",
       "  'Body : 355.7 x 248.1 x 16.8 mm dimension & 2.2 kg weight',\n",
       "  'Price : ₹ 306,990'],\n",
       " ['MORE SPECIFICATIONS',\n",
       "  'Processor : 11th Gen Intel Core i7-1185G7 4 core processor with 3.00 GHz clock speed',\n",
       "  'Display : 14″ (1920 x 1080) screen',\n",
       "  'OS : Windows 10 Home',\n",
       "  'Memory : 16 GB DDR4 RAM & 1 TB SSD',\n",
       "  'Graphics Processor : Intel Iris Xe Graphics card',\n",
       "  'Body : 319.4 x 216.4 x 15.7 mm dimension & 1.37 kg weight',\n",
       "  'Price : ₹ 178,490'],\n",
       " ['MORE SPECIFICATIONS',\n",
       "  'Processor : 12th Gen Intel EVO Core i7-1260P processor with 3.40 GHz clock speed',\n",
       "  'Display : 13.4″ (3840 x 2160) screen',\n",
       "  'OS : Windows 11',\n",
       "  'Memory : 16 GB DDR5 RAM & 1 TB SSD',\n",
       "  'Graphics Processor : Intel Iris Xe Graphics card',\n",
       "  'Body : 199 x 295 x 15 mm dimension & 1.24 kg weight',\n",
       "  'Price : ₹ 215,000'],\n",
       " ['MORE SPECIFICATIONS',\n",
       "  'Processor : Apple M2 8 core processor',\n",
       "  'Display : 13.6″ (2560 x 1600) screen, 60 Hz refresh rate',\n",
       "  'OS : iOS',\n",
       "  'Memory : & 512 GB SSD',\n",
       "  'Body : 304.1 x 215 x 11.3 mm dimension & 1.24 kg weight',\n",
       "  'Price : ₹ 136,490'],\n",
       " ['MORE SPECIFICATIONS',\n",
       "  'Processor : 12th Gen Intel Core i7-12700H 14 core processor with 4.70 GHz clock speed',\n",
       "  'Display : 15.6″ (1920 x 1080) screen, 144 Hz refresh rate',\n",
       "  'OS : Windows 11 Home',\n",
       "  'Memory : 16 GB DDR4 RAM & 512 GB SSD',\n",
       "  'Graphics Processor : 4 GB DDR6 NVIDIA GeForce RTX 3050 Ti Graphics card',\n",
       "  'Body : 271 x 360 x 27 mm dimension & 2.6 kg weight',\n",
       "  'Price : ₹ 103,999'],\n",
       " ['MORE SPECIFICATIONS',\n",
       "  'Processor : 12th Gen Intel Core i5-12450H processor with 2.0 GHz clock speed',\n",
       "  'Display : 15.6″ (1920 x 1080) screen, 120 Hz refresh rate',\n",
       "  'OS : Windows 11 Home',\n",
       "  'Memory : 16 GB DDR4 RAM & 512 GB SSD',\n",
       "  'Graphics Processor : 4 GB DDR6 NVIDIA GeForce RTX 3050 Graphics card',\n",
       "  'Body : 360 x 266 x 22 mm dimension & 2.31 kg weight',\n",
       "  'Price : ₹ 85,225'],\n",
       " ['MORE SPECIFICATIONS',\n",
       "  'Processor : AMD Ryzen 7-5800U 8 core processor with 1.9 GHz clock speed',\n",
       "  'Display : 14″ (1920 x 1080) screen',\n",
       "  'OS : Windows 11 Home',\n",
       "  'Memory : 16 GB DDR4 RAM & 1 TB SSD',\n",
       "  'Graphics Processor : 4 GB DDR6 NVIDIA GeForce RTX 3050 Ti Graphics card',\n",
       "  'Body : 212 x 323 x 18 mm dimension & 1.39 kg weight',\n",
       "  'Price : ₹ 99,999']]"
      ]
     },
     "execution_count": 273,
     "metadata": {},
     "output_type": "execute_result"
    }
   ],
   "source": [
    "#Lets extract all the elements having the specifications features\n",
    "\n",
    "specifications = []\n",
    "title_tags = driver.find_elements(By.XPATH,\"//div[@class='Spcs-details']\")\n",
    "for i in title_tags:\n",
    "    specifications.append(i.text.split('\\n'))\n",
    "specifications"
   ]
  },
  {
   "cell_type": "code",
   "execution_count": 275,
   "id": "1c8ab968",
   "metadata": {},
   "outputs": [],
   "source": [
    "driver = webdriver.Chrome('chromedriver.exe') # Lets connect to the web driver"
   ]
  },
  {
   "cell_type": "markdown",
   "id": "7d9ecad8",
   "metadata": {},
   "source": [
    "# Exercise 8:"
   ]
  },
  {
   "cell_type": "markdown",
   "id": "a7793b9c",
   "metadata": {},
   "source": [
    "## scrape details for all billionaires from www.forbes.com."
   ]
  },
  {
   "cell_type": "code",
   "execution_count": 276,
   "id": "771ba4be",
   "metadata": {},
   "outputs": [],
   "source": [
    "#Opening up www.forbes.com.  website on automated chrome window\n",
    "\n",
    "url = 'https://www.forbes.com.'\n",
    "driver.get(url)"
   ]
  },
  {
   "cell_type": "code",
   "execution_count": 281,
   "id": "7e81867c",
   "metadata": {},
   "outputs": [],
   "source": [
    "#clicking using absolute xpath function to click the Menu button\n",
    "\n",
    "search_btn =  driver.find_element(By.XPATH,\"/html/body/div[1]/header/nav/div[1]/div/div/div[1]\")\n",
    "search_btn.click()\n"
   ]
  },
  {
   "cell_type": "code",
   "execution_count": 282,
   "id": "53a4457c",
   "metadata": {},
   "outputs": [],
   "source": [
    "#Clicking on the billionaires option in dropdown\n",
    "search_btn =  driver.find_element(By.XPATH,\"/html/body/div[1]/header/nav/div[1]/div/div/div[2]/ul/li[1]/div[1]\")\n",
    "search_btn.click()"
   ]
  },
  {
   "cell_type": "code",
   "execution_count": 284,
   "id": "43c845cb",
   "metadata": {},
   "outputs": [],
   "source": [
    "#Clicking on all billionaires option\n",
    "search_btn =  driver.find_element(By.XPATH,\"/html/body/div[1]/main/div/section/section[1]/div/div/div[1]/div/div[1]/div[1]/div[2]/a/h2\")\n",
    "search_btn.click()"
   ]
  },
  {
   "cell_type": "code",
   "execution_count": 288,
   "id": "9a06ecc8",
   "metadata": {},
   "outputs": [],
   "source": [
    "from selenium.webdriver.support.ui import WebDriverWait\n",
    "from selenium.webdriver.common.by import By\n",
    "from selenium.webdriver.support import expected_conditions as EC # expected_conditions module contains a set of predefined conditions to use with WebDriverWait used for the visibility_of_element_located to be able to get the elements in the table as shown on website list  \n",
    "import pandas as pd\n",
    "import html5lib\n",
    "import lxml\n",
    "from bs4 import BeautifulSoup"
   ]
  },
  {
   "cell_type": "code",
   "execution_count": 367,
   "id": "483e45e2",
   "metadata": {},
   "outputs": [],
   "source": [
    "#To fetch the billionaires data from all the pages we use a loop function\n",
    "\n",
    "Rank_data =[]\n",
    "Name_data=[]\n",
    "NetWorth_data = []\n",
    "Country_data = []\n",
    "Source_data = []\n",
    "Age_data = []\n",
    "Industry_data = []\n",
    "\n",
    "\n",
    "start = 0\n",
    "\n",
    "end = 13\n",
    "\n",
    "for page in range(start,end):\n",
    "    Rank = driver.find_elements(By.XPATH,'//div[@class=\"rank\"]')\n",
    "    Name = driver.find_elements(By.XPATH,'//div[@class=\"personName\"]')\n",
    "    Networth = driver.find_elements(By.XPATH,'//div[@class=\"netWorth\"]')\n",
    "    Country = driver.find_elements(By.XPATH,'//div[@class=\"countryOfCitizenship\"]')\n",
    "    Source = driver.find_elements(By.XPATH,'//div[@class=\"source\"]')\n",
    "    Age = driver.find_elements(By.XPATH,'//div[@class=\"age\"]')\n",
    "    Industry = driver.find_elements(By.XPATH,\"//div[@class='category']\")\n",
    "    wait_button = WebDriverWait(driver, 10)\n",
    "    for i in Rank:\n",
    "        Rank_data.append(i.text)\n",
    "    for i in Name:\n",
    "        Name_data.append(i.text)\n",
    "    for i in Networth:\n",
    "        NetWorth_data.append(i.text)\n",
    "    for i in Country:\n",
    "        Country_data.append(i.text)        \n",
    "    for i in Source:\n",
    "        Source_data.append(i.text)\n",
    "    for i in Age:\n",
    "        Age_data.append(i.text)    \n",
    "    for i in Industry:\n",
    "        Industry_data.append(i.text)\n",
    "    next_button = driver.find_element(By.XPATH,'//button[@class=\"pagination-btn pagination-btn--next \"]') #to scrap data from the next page \n",
    "    next_button.click()\n",
    "    time.sleep(3)"
   ]
  },
  {
   "cell_type": "code",
   "execution_count": 369,
   "id": "7b673d00",
   "metadata": {},
   "outputs": [
    {
     "name": "stdout",
     "output_type": "stream",
     "text": [
      "2600 2600 2600 2600 2600 2600 2600\n"
     ]
    }
   ],
   "source": [
    "#After extrating the data we chcek to see if all the columns have the data from all the pages\n",
    "\n",
    "print(len(Rank_data),len(Name_data),len(NetWorth_data),len(Country_data),len(Source_data),len(Age_data),len(Industry_data))"
   ]
  },
  {
   "cell_type": "code",
   "execution_count": null,
   "id": "3d3e1b51",
   "metadata": {},
   "outputs": [],
   "source": []
  },
  {
   "cell_type": "markdown",
   "id": "3a260046",
   "metadata": {},
   "source": [
    "# Exercise 9:"
   ]
  },
  {
   "cell_type": "markdown",
   "id": "2d226733",
   "metadata": {},
   "source": [
    "## to extract at least 500 Comments, Comment upvote and time when comment was posted"
   ]
  },
  {
   "cell_type": "code",
   "execution_count": 370,
   "id": "cc52c5d0",
   "metadata": {},
   "outputs": [],
   "source": [
    "#Opening up youtube video link website on automated chrome window\n",
    "\n",
    "url = 'https://www.youtube.com/watch?v=S5bBxyDkMhM'\n",
    "driver.get(url)"
   ]
  },
  {
   "cell_type": "code",
   "execution_count": null,
   "id": "eb091a76",
   "metadata": {},
   "outputs": [],
   "source": [
    "# Extracting the Comments upvotes as well the time the comment was posted using the lambda function "
   ]
  },
  {
   "cell_type": "code",
   "execution_count": 376,
   "id": "dd152fa9",
   "metadata": {},
   "outputs": [],
   "source": [
    "Comment = list(map(lambda x: x.text, driver.find_elements(By.XPATH,'//div[@class=\"style-scope ytd-comment-renderer\"]')))\n",
    "Upvote = list(map(lambda x: x.text, driver.find_elements(By.XPATH,'//span[@class=\"style-scope ytd-comment-action-buttons-renderer\"]')))\n",
    "Time = list(map(lambda x: x.text, driver.find_elements(By.XPATH,'//a[@class=\"yt-simple-endpoint style-scope yt-formatted-string\"]')))"
   ]
  },
  {
   "cell_type": "code",
   "execution_count": 380,
   "id": "76388b98",
   "metadata": {},
   "outputs": [
    {
     "name": "stdout",
     "output_type": "stream",
     "text": [
      "500 500 500\n"
     ]
    }
   ],
   "source": [
    "print(len(Comment[:500]),len(Upvote[:500]),len(Time[:500])) #showing the length of the columns as 500"
   ]
  },
  {
   "cell_type": "code",
   "execution_count": null,
   "id": "6bb01f53",
   "metadata": {},
   "outputs": [],
   "source": []
  },
  {
   "cell_type": "markdown",
   "id": "57242cdd",
   "metadata": {},
   "source": [
    "# Exercise 10:"
   ]
  },
  {
   "cell_type": "markdown",
   "id": "dbfe9914",
   "metadata": {},
   "source": [
    "## scrape a data for all available Hostels from https://www.hostelworld.com/ in"
   ]
  },
  {
   "cell_type": "code",
   "execution_count": 136,
   "id": "343b12dd",
   "metadata": {},
   "outputs": [],
   "source": [
    "#Opening up https://www.hostelworld.com/ in website on automated chrome window\n",
    "\n",
    "url = 'https://www.hostelworld.com/in'\n",
    "driver.get(url)"
   ]
  },
  {
   "cell_type": "code",
   "execution_count": 141,
   "id": "c6f3718c",
   "metadata": {},
   "outputs": [],
   "source": [
    "#finding the web element for the Location bar \n",
    "\n",
    "location = driver.find_element(By.XPATH,'/html/body/div[1]/div/div/div/div[1]/div[1]/div/div/div[1]/div/div/div/label/input')\n",
    "location.send_keys(\"London\")"
   ]
  },
  {
   "cell_type": "code",
   "execution_count": 142,
   "id": "5514da48",
   "metadata": {},
   "outputs": [],
   "source": [
    "#clicking the dropdown and selecting the required location\n",
    "\n",
    "search_btn = driver.find_element(By.XPATH,\"/html/body/div[1]/div/div/div/div[1]/div[1]/div/div/div[1]/div/div/ul/li[2]/div/span\")\n",
    "search_btn.click()"
   ]
  },
  {
   "cell_type": "code",
   "execution_count": 143,
   "id": "4eda0b96",
   "metadata": {},
   "outputs": [],
   "source": [
    "#clicking the Search Button to get all the required results\n",
    "\n",
    "search_btn = driver.find_element(By.XPATH,\"/html/body/div[1]/div/div/div/div[1]/div[1]/div/div/div[5]/button\")\n",
    "search_btn.click()"
   ]
  },
  {
   "cell_type": "code",
   "execution_count": 192,
   "id": "debb01fe",
   "metadata": {},
   "outputs": [],
   "source": [
    "#fetching Urls from the search results to open each product page and get the desired features\n",
    "\n",
    "Hostel_url=[]\n",
    "\n",
    "url = driver.find_elements(By.XPATH,\"//h2[@class='title title-6']//a\")\n",
    "for i in url:\n",
    "    Hostel_url.append(i.get_attribute('href')) #to retrieve any link we use get attribute\n"
   ]
  },
  {
   "cell_type": "code",
   "execution_count": 193,
   "id": "944ef331",
   "metadata": {},
   "outputs": [
    {
     "data": {
      "text/plain": [
       "['https://www.hostelworld.com/pwa/hosteldetails.php/Wombat-s-City-Hostel-London/London/88047?from=2022-11-25&to=2022-11-28&guests=2',\n",
       " 'https://www.hostelworld.com/pwa/hosteldetails.php/St-Christopher-s-Village/London/502?from=2022-11-25&to=2022-11-28&guests=2',\n",
       " 'https://www.hostelworld.com/pwa/hosteldetails.php/Generator-London/London/510?from=2022-11-25&to=2022-11-28&guests=2',\n",
       " 'https://www.hostelworld.com/pwa/hosteldetails.php/Safestay-London-Elephant-Castle/London/55551?from=2022-11-25&to=2022-11-28&guests=2',\n",
       " 'https://www.hostelworld.com/pwa/hosteldetails.php/Safestay-London-Kensington-Holland-Park/London/93920?from=2022-11-25&to=2022-11-28&guests=2',\n",
       " 'https://www.hostelworld.com/pwa/hosteldetails.php/St-Christopher-s-Camden/London/505?from=2022-11-25&to=2022-11-28&guests=2',\n",
       " 'https://www.hostelworld.com/pwa/hosteldetails.php/St-Christopher-s-Hammersmith/London/20976?from=2022-11-25&to=2022-11-28&guests=2',\n",
       " 'https://www.hostelworld.com/pwa/hosteldetails.php/Smart-Hyde-Park-View-Hostel/London/8069?from=2022-11-25&to=2022-11-28&guests=2',\n",
       " 'https://www.hostelworld.com/pwa/hosteldetails.php/Saint-James-Backpackers/London/70909?from=2022-11-25&to=2022-11-28&guests=2',\n",
       " 'https://www.hostelworld.com/pwa/hosteldetails.php/St-Christopher-s-Greenwich/London/501?from=2022-11-25&to=2022-11-28&guests=2',\n",
       " 'https://www.hostelworld.com/pwa/hosteldetails.php/Selina-Camden/London/310274?from=2022-11-25&to=2022-11-28&guests=2',\n",
       " 'https://www.hostelworld.com/pwa/hosteldetails.php/PubLove-The-Crown-Battersea/London/60336?from=2022-11-25&to=2022-11-28&guests=2',\n",
       " 'https://www.hostelworld.com/pwa/hosteldetails.php/PubLove-The-Green-Man-Paddington/London/21953?from=2022-11-25&to=2022-11-28&guests=2',\n",
       " 'https://www.hostelworld.com/pwa/hosteldetails.php/Park-Villa/London/98066?from=2022-11-25&to=2022-11-28&guests=2',\n",
       " 'https://www.hostelworld.com/pwa/hosteldetails.php/London-House-Hotel/London/529?from=2022-11-25&to=2022-11-28&guests=2',\n",
       " 'https://www.hostelworld.com/pwa/hosteldetails.php/Kip-Hotel/London/266789?from=2022-11-25&to=2022-11-28&guests=2',\n",
       " 'https://www.hostelworld.com/pwa/hosteldetails.php/Colliers-Hotel/London/308375?from=2022-11-25&to=2022-11-28&guests=2',\n",
       " 'https://www.hostelworld.com/pwa/hosteldetails.php/Beaconsfield/London/11708?from=2022-11-25&to=2022-11-28&guests=2']"
      ]
     },
     "execution_count": 193,
     "metadata": {},
     "output_type": "execute_result"
    }
   ],
   "source": [
    "Hostel_url # we have acquired all the links in the list to scrpae the hostel features"
   ]
  },
  {
   "cell_type": "code",
   "execution_count": 194,
   "id": "932e78fe",
   "metadata": {},
   "outputs": [],
   "source": [
    "#To scrap data from multiple pages with brand name alone from amazon \n",
    "\n",
    "Name  = []\n",
    "Distance  = []\n",
    "ratings = []\n",
    "Total_reviews = []\n",
    "Overall_reviews = []\n",
    "Privates_from_Price = []\n",
    "Dorms_from_price = []\n",
    "Facilities = []\n",
    "Description = []\n",
    "\n",
    "\n",
    "for i in Hostel_url:\n",
    "    driver.get(i)\n",
    "    time.sleep(2)\n",
    "    try:\n",
    "        a1 = driver.find_elements(By.XPATH,'//div[@class=\"title-2\"]')\n",
    "        a2 = driver.find_elements(By.XPATH,'//div[@class=\"personName\"]')\n",
    "        a3 = driver.find_elements(By.XPATH,'//div[@class=\"score orange big\"]')\n",
    "        a4 = driver.find_elements(By.XPATH,'//div[@class=\"reviews\"]')\n",
    "        a5 = driver.find_elements(By.XPATH,'//div[@class=\"keyword\"]')\n",
    "        a6 = driver.find_elements(By.XPATH,'//div[@class=\"price\"]') \n",
    "        a7 = driver.find_elements(By.XPATH,'//div[@class=\"price\"]')\n",
    "        a8 = driver.find_elements(By.XPATH,'//div[@class=\"facilities\"]')\n",
    "        a9 = driver.find_elements(By.XPATH,\"//div[@class='description-container']\")\n",
    "        wait_button = WebDriverWait(driver, 10)\n",
    "        for i in a1:\n",
    "            Name.append(i.text)\n",
    "        for i in a2:\n",
    "            Distance.append(i.text)\n",
    "        for i in a3:\n",
    "            ratings.append(i.text)\n",
    "        for i in a4:\n",
    "            Total_reviews.append(i.text)        \n",
    "        for i in a5:\n",
    "            Overall_reviews.append(i.text)\n",
    "        for i in a6:\n",
    "            Privates_from_Price.append(i.text)    \n",
    "        for i in a7:\n",
    "            Dorms_from_price.append(i.text)\n",
    "        for i in a8:\n",
    "            Facilities.append(i.text)    \n",
    "        for i in a9:\n",
    "            Description.append(i.text)\n",
    "\n",
    "       \n",
    "    except NoSuchElementException :  \n",
    "            Name.append('-')\n",
    "            Distance.append('-')\n",
    "            ratings.append('-')\n",
    "            Total_reviews.append('-')\n",
    "            Overall_reviews.append('-')\n",
    "            Privates_from_Price.append('-')\n",
    "            Dorms_from_price.append('-')\n",
    "            Facilities.append('-')\n",
    "            Description.append('-')\n"
   ]
  },
  {
   "cell_type": "code",
   "execution_count": 197,
   "id": "8f20ea33",
   "metadata": {},
   "outputs": [
    {
     "data": {
      "text/plain": [
       "[\"Wombat's City Hostel London\",\n",
       " \"St Christopher's Village\",\n",
       " 'Generator London',\n",
       " 'Safestay London Elephant & Castle',\n",
       " 'Safestay London Kensington Holland Park',\n",
       " \"St Christopher's Camden\",\n",
       " \"St Christopher's Hammersmith\",\n",
       " 'Smart Hyde Park View Hostel',\n",
       " 'Saint James Backpackers',\n",
       " \"St Christopher's Greenwich\",\n",
       " 'Selina Camden',\n",
       " 'PubLove @ The Crown, Battersea',\n",
       " 'PubLove @ The Green Man, Paddington',\n",
       " 'Park Villa',\n",
       " 'London House Hotel',\n",
       " 'Kip Hotel',\n",
       " 'Colliers Hotel',\n",
       " 'Beaconsfield']"
      ]
     },
     "execution_count": 197,
     "metadata": {},
     "output_type": "execute_result"
    }
   ],
   "source": [
    "Name"
   ]
  },
  {
   "cell_type": "code",
   "execution_count": 195,
   "id": "26ae176e",
   "metadata": {},
   "outputs": [
    {
     "data": {
      "text/plain": [
       "[\"Property Description\\nA safe haven in the middle of the metropolis: We took a traditional brick building with roots going back to the 1800s and set a new standard for hostel life in the UK.\\nWhat used to be sailors' lodgings in the olden days is now a hostel satisfying all needs of the modern traveler. With great attention to detail, we have created a hostel in London that celebrates the legacy of our historic building.\\nOld oak that was previously part of sturdy ships and churches is now immortalized in our furniture throughout the house. The pints you drink here will be served on a bar made from 500-year-old wood. \\n\\nBut as comfortable as our hostel might be, London's calling - and London's call is hard to ignore, given our location: \\nOur Wombat's City Hostel is situated in the London Borough of Tower Hamlets, right next to famous Tower Bridge and Tower of London, charming markets, authentic pubs, and plenty of other historic sights.\\nA short walk will see you in the trendy Borough of Shoreditch with vibrant street art, pulsing nightlife at Hoxton Square and Old Street and finally Brick Lane, where some of the best curries outside of India can be found.\\nAll other hotspots in London are easily accessible by public transport: The Underground- and DLR-Stations Aldgate East and Tower Bridge are just a stone's throw away. \\n\\nAfter a long and exciting day in London, our hostel awaits you with a cozy courtyard, spacious lobby and womBAR. Here you can unwind and enjoy our reliably unexpected offers.\\nAll rooms are equipped with ensuite bathrooms and private lockers. \\n\\nIncluded as always - our Wombat's basics:\\n- bedding\\n- WiFi\\n- our own Wombat's city maps\\n- the womBAR for never-ending parties & WomDollar discount on your drinks\\n- a guest kitchen open to all who want to cater to their own culinary needs\\n- 24/7 Reception\\n- safe luggage storage with personal lockers (small fee)\\n- rentables (umbrellas, hairdryers, adapters: everything an avid traveler could possibly need)\\n- coin-operated laundry facilities (washing and crying ... oops, sorry about the typo, of course we mean drying), so you can re-vitalize your clothes ;)\\n\\nOur famous Tasty Brekkie buffet ensures you have enough energy for your exciting day in London. You can buy your tickets for a small fee at reception. \\n\\n(Minimum age: 18.)\\n\\n(Hooligans out there: please find an alternative accommodation to our hostel)\\nshow more\",\n",
       " \"Hostelworld says\\nHostelworld visitors have said St Christopher's Village is 'the place to go if you are young and want to have fun'. This 'party hostel' has 'nice staff and just the right amount of rooms/travellers', making it 'easy for anyone to meet new people'. One of our guests said this hostel is 'within short walking distance of two subway [stations] and well within walking distance from more of the major attractions in downtown London'.\",\n",
       " \"Property Description\\nCOVID 19 Policy Update.\\nIn response to Coronavirus (COVID-19), additional safety and sanitation measures are currently in effect at this property, including in-house disinfection. \\n\\nSt Christopher's Inn at The Village in London Bridge is the UK's first capsule hostel. Its brand new rooms have been specially designed for our guests to get the best night sleep possible before they wake up in amongst one of London's most vibrant areas. \\n\\nVoted as one of the best party hostels in the world, our multi-award winning hostel offers guests Japanese-style capsule beds with USB ports, cool mood lighting and curtains for privacy. We even have new private rooms with one having an awesome view of the Shard right outside!\\n\\nStep out the door and you'll be just a short walk away from the London Eye, Tower Bridge and the oldest food market in the city, Borough Market. We're also only a two minute walk from TWO tube stations so getting anywhere in London couldn't be easier. \\n\\nParty into the night in our hostel party bar Belushi's, head down to the Dugout to watch live sports and indulge in our legendary burgers with a discount for all our guests.\\n\\n*Please note that we require an in date government approved - drivers license, passport or national ID card at check-in.\\n\\n**Guests under the age of 18 must stay in a private room with guardians. They cannot share in general dormitory rooms with people who are not part of their own group or family. Under-18s are not allowed in the bars or pubs.\\n\\n***The maximum stay policy is 7 days\\n\\n****Please note: non-refundable reservations will be fully charged at the time of booking.\\nshow more\",\n",
       " \"Hostelworld says\\nHostelworld guests have said Generator Hostel London is a clean, secure, 'well-organised hostel with good and professional staff'. We like their 'lively and atmospheric' bar, which travellers tell us is 'a great place to hang out a bit and have a beer while meeting nice people from around the globe'. Our users say this hostel is 'only three minutes' walk to Russell [Square] Underground Station, six minutes to King's Cross Station [and] three minutes to buses'.\",\n",
       " \"Property Description\\nGenerator London is a design hotel-hostel located in Russell Square in the heart of central London, a short stroll to Covent Garden, Regents Park and trendy King's Cross. Guests can choose from shared dorms to private rooms, offering something for everyone. Complete with 24-hour reception, free wifi, cafe and bar Generator is a fun and affordable choice in London.\\n\\nGenerator London was the very first Generator and you'll find it in the area of Russell Square in the heart of the West End. \\n\\nIt's the ideal spot to enjoy London from, everything you need to see is minutes away by tube. You'll never run out of things to do in the UK's capital. You just have to decide where to start and we can help you with that. When you have seen and done it all for the day head back to Generator and unwind. \\n\\nIt's a destination in its own right and a great place to socialise and reflect on your experiences of the day. Head to the bar and chill out areas to get yourself a well deserved drink or two. It's lively, friendly and un-missable. We've also got great beds for sleepy heads and of course you'll be enjoying London life in the most authentic surroundings. \\n\\nChoose from a great selection of rooms, from Dorms, to Quads, to Private rooms with innovative mod cons. Fast and free Wi-Fi is all yours too. To get the most out of your stay visit the travel shop and our city experts will help you devise an itinerary that will take you to all the hidden treasures this dynamic city has to offer. You'll have to stay longer to fit it all in but you'll not need convincing of that. We'll see you there soon.\\n\\nImportant points:\\n\\n Central location Situated close to Russell Square\\n Complimentary Wi-Fi in public areas & guest bedrooms\\n Travel Desk\\n Luggage Store\\n Laundry Room\\n Games Room\\n Bar & Chill Out Areas\\n Nightly Events & Entertainment\\n Dining facilities for breakfast, lunch, dinner and all day snacks\\n Female Dormitories\\n Dormitories for 4, 6 & 8\\n\\nGROUP BOOKINGS\\nReservations for 10 people or more people per night, will be considered a group booking. Special group terms and conditions will apply (please contact the hostel for more information)\\n\\nFREE WI-FI\\nStay connected. Free for all!\\n\\nTHE BAR\\nOrder a classic cocktail. Open from 5pm-2am with fun and games every night.\\n\\nTHE LOUNGE & CAFE \\nOpen everyday\\n\\nBREAKFAST\\n\\nBreakfast not included.\\nInternational breakfast available upon request: 8.50 (GBP) if booked online.\\nMon - Fri from 7 to 10 a.m.\\nWeekend 8 to 11 a.m.\\n\\nDINNER. \\nDelicious meals available between 5-9pm every evening. A dish of the day will also be available together with the bar snack menu.\\n\\nSNACKS\\nVending machines available for night owls to satisfy the midnight munchies.\\n\\nROOMS TO AMAZE\\nA wide selection of contemporary Privates, Twins, Triples & Dorms, with crisp white linen all available at great rates. Towels included complimentary in Twin rooms only.\\n\\nBATHROOMS\\nShared showers on every floor. \\n\\nLAUNDRY\\nOpen 24 hours a day where you can wash, dry and iron for a small fee.\\n\\n24 HOUR RECEPTION\\nNo need to worry about arriving late or early. The Generator Reception is open 24 hours a day with a duty manager who's always around to help.\\n\\nLUGGAGE STORE\\nSecure luggage room is available so you can sightsee without dragging your bag with you.\\n\\nPETS\\nWe would welcome a dog on property but only when staying in a private room/dorm, and subject to a £5 fee per dog per night.\\n\\nGREAT STAFF\\nAll our staff are multi lingual and on hand to help you with whatever info you need.\\n\\nTRAVEL SHOP\\nPurchase tickets, tours and a whole lot more including phone and postal service. We will help you make the most of your stay. Undecided? Take advantage of our complimentary guided walking tour available daily.\\n\\nUnfortunately guests under the age of 18 are not allowed to stay in the dorms .\\n\\nWe look forward to giving you a warm welcome to The Generator in the near future.\\nshow more\",\n",
       " 'Hostelworld says\\nSafestay at Elephant and Castle is located in South London, just five minutes from Elephant and Castle tube station, putting it just a few stops from London Bridge, Leicester Square and Piccadilly Circus. This stylish boutique-style hostel is very clean and features a continental breakfast (£6) and in-room luggage cages. Hostelworld guests have compared it favourably to a hotel. We like the privacy curtains on their beds, which create a sense of personal space even in a busy dorm.',\n",
       " \"Property Description\\nSafestay at Elephant & Castle is ideal if you are looking for budget accommodation in London, whether you see the sights in this amazing city or travelling with your family. If Tate Modern, the National Theatre, The Imperial War Museum, the London Aquarium, the London Dungeon, a cricket match at the Kia Oval or clubbing at the world-famous Ministry of Sound are on your must-do list, Safestay London Elephant & Castle is perfectly located.\\n\\nOur beautiful 18th-century Georgian building is centrally located, close to London's mighty River Thames and the restaurants, bars and cafes the Southbank is famed for, along with the London Eye, Borough Market and Shakespeare's Globe Theatre. It's secure, stylish, comfortable and fun, with an illuminated garden for you to relax in.\\n\\nSo if you're after budget accommodation in London, bringing a group of school children to study the sights or want something different from the usual options in London, why not try this fantastic hostel out for size.\\n\\nClose to all the big London tourist attractions, our staff will happily help you plan your visit and give you top tips on what is happening in London during your stay.\\n\\nSee these London landmarks within 6 stops of the hostel using the Underground:\\n. Oxford Street\\n. Piccadilly Circus\\n. Leicester Square\\n. Covent Garden\\n. Westminster Abbey\\n. Big Ben & the Houses of Parliament\\n. Buckingham Palace\\n. St Paul's Cathedral\\n. The Tower of London and Tower Bridge \\n\\nFREE WI-FI\\nFree across all areas\\n\\nBREAKFAST\\nEnjoy our packed breakfast served between 7:00 am and 10:00 am for only GBP 6.00\\n\\nTravelling with children? Cots are available on request. Please contact the hostel in advance to arrange.\\nLuggage storage subject to availability upon arrival and departure\\n\\nAttractions: We sell discounted and fast track entrance tickets to some of London's most famous sights and best kept secrets. Including the London Eye, Madame Tussauds, The Tower of London, Walking tours, Bike tours, boat trips, and many more.\\n\\nHostel Activities: We organise fun stuff for you to do nearly every day of the week! Such as Free Walking tours, top-rated Pub Crawls, Group trips to famous West End Shows, Jet boating on the Thames\\nshow more\",\n",
       " \"Property Description\\nSafestay Holland Park\\n\\nSafestay Holland Park is ideally located in the heart of London, nestled within one of the capital's most prestigious parks. This stunning hostel consists of 3 buildings, including the East Wing of the park's original Jacobean building, and surrounds our private courtyard garden.\\n\\nThe property has been fully refurbished to the high standards for which Safestay is renowned. \\n\\nThe Grade 1 listed building is located on the edge of London's famous Holland Park (search for Holland walk and duchess of Bedford Walk on your maps) and will provide Safestay guests with the opportunity to stay in the heart of one of the capital's desirable neighborhoods. The property dates back to 1605 along with a 1950's extension and is situated in a huge garden within the middle of one of London's most beautiful parks.\\n\\nHistoric, Jacobean splendor, in a great city location. Who says you can't have it all? This mansion in the middle of Holland Park was visited by Sir Walter Scott, Lord Byron, and Dickens. Today it offers large, comfortable rooms to you. \\n\\nThree different houses with a range of standard & ensuite rooms as well as family rooms & private rooms for everyone!\\nPool room, breakfast room & restaurant as well as the garden, & the whole Park itself with its famous beautiful woodland trails, manicured lawns, the Kyoto Japanese Garden with its resident Coi, and a fantastic ice cream stand in the middle.\\nOpened in 1952, Holland Park used to be a private estate belonging to the Earl of Holland. During the 19th century, the Holland House attracted high-profile visitors from various walks of life, from the politician, Lord Palmerston, to the poet, Lord Byron.\\n\\nSafestay Holland Park has excellent transport links and is within easy reach of The Natural History Museum, Holland Park Avenue, Notting Hill Gate, Portobello Market, Harrods, The Science Museum, Hyde Park, Westfield Shopping Centre, and Kensington Palace Gardens.\\n\\nDormitory style and range in size from 2 beds upwards. They offer mixed accommodation. Clean fresh sheets are included in the price. Lockers are available in rooms. Padlocks available for sale\\n\\nSafestay Holland Park's Policies & Conditions:\\n\\nCancellation policy: 24 hours before arrival. \\nPayment upon arrival by credit cards, debit cards. \\nThis property may pre-authorize your card before arrival.\\n\\nCheck-in from 15:00\\nCheck out before 10:00\\n\\nTaxes included.\\nBreakfast not included - 6.00 GBP per person per day.\\nPlease note there is no guest kitchen facility to cook and corkage is applied at only GBP 1 per guest for outside food and soft drinks. No outside alcohol is allowed at all.\\n\\nGeneral:\\n24-hour Reception.\\nNo curfew.\\n\\nBookings cannot be accepted from any person age 16 years or under unless they are accompanied by an adult (over 18) who is staying in the same dorm/room. Families with children aged 16 years and under are welcome, however, they must book and pay for all beds in order to make the room private (i.e. in the case of 4 bedded dorms or larger). \\n\\nAlternatively, we have 2 Bedded and 3 Bedded Private rooms available, subject to availability. \\n\\nLook out for the Peacocks!\\nShow more\\nshow more\",\n",
       " \"Hostelworld says\\nIf you're looking to explore the markets and music of Camden, St Christopher's Camden is a good place to start. Set right on Camden High Street, this lively hostel has been praised by Hostelworld guests for its central location, the 'super-friendly, helpful and sociable' staff and the good security. One of our reviewers said the hostel is 'great for girls travelling alone' while another said 'I could not have felt more safe and at home here'. We like the discounted food and drinks from the downstairs bar.\",\n",
       " \"Property Description\\nCOVID 19 Policy Update.\\nIn response to Coronavirus (COVID-19), additional safety and sanitation measures are currently in effect at this property, including in-house disinfection. \\n\\nFind our Camden hostel in London's north, smack bang in the middle of one of the city's coolest neighbourhoods. Camden is covered with some of the world's best street art plus its live music scene is iconic. Just a short walk from St Christopher's is the famous Camden Market serving up some of the best street food in London as well as vintage clothes, antiques and loads more. Once you're done exploring the local attractions, head to Belushi's where you'll meet other travellers while rockin' out to live bands or taking part in a daily pub crawl! \\n\\nSome of London's most famous live music venues are just a couple of minutes walk from our hostel. We also have Regents Park and Primrose Hill just a stone's throw away so you can benefit from seeing two different sides of the city within a few minutes. \\n\\n*Please note that we require an in date government approved - drivers license, passport or national ID card at check-in.\\n\\n**Guests under the age of 18 must stay in a private room with guardians. They cannot share in general dormitory rooms with people who are not part of their own group or family. Under-18s are not allowed in the bars or pubs.\\n\\n***Please note: non-refundable reservations will be fully charged at the time of booking.\\nshow more\",\n",
       " \"Hostelworld says\\nThe friendly, attentive and welcoming staff of St Christopher's Hammersmith are frequently cited by our users as one of the best features of the hostel. We particularly like their pub crawl and the 25% discount offered on food in the downstairs pub. Our guests also regularly note how clean the hostel is. It's across the road from the Piccadilly line at Hammersmith underground station, putting it mid-way between Heathrow airport and central London and connecting directly to many of the most popular and interesting sites in the city.\",\n",
       " \"Property Description\\nIn response to Coronavirus (COVID-19), additional safety and sanitation measures are currently in effect at this property, including in-house disinfection. \\n\\nOur lively Hammersmith hostel is located just across the road from four tube lines to connect you to the rest of London's amazing tourist attractions, as well as a direct link to Heathrow airport. You can reach major sights such as the Big Ben, Hyde Park, Buckingham Palace, Oxford Street and Kensington in a matter of minutes from this West London location. The Hammersmith Apollo is just a 4 minute walk away, making our hostel the perfect location if you've got gig tickets! Here you can party into the early hours with other backpackers or book onto one of our daily pub crawls before stumbling upstairs to a cosy bed with your name on it. \\n\\nAnd to top it off, our recently renovated Belushi's bar is flaunting a fresh new look taking the party atmosphere to the next level and making live sports screenings even more epic than before! With a brand new food and drinks menu as well as daily entertainment, a wall length projector, 20 huge HD TVs and the first of its kind stadium style seating, Belushi's Bar is the best place to catch every second of the live action! And if that wasn't enough, by staying at our hostel you will receive an exclusive 25% off food.\\n\\nWe have a microwave available for guests to use during their stay as well as free tea and coffee facilities. We also have a fully stocked vending machine for snacks and drinks. Please note we do not have a fully catered kitchen.\\n\\nBreakfast and all tours, pub crawls and FREE city walking tours can be booked with our awesome reception team!\\n\\n*Please note that we require an in date government approved - drivers license, passport or national ID card at check-in.\\n\\n**Guests under the age of 18 must stay in a private room with guardians. They cannot share in general dormitory rooms with people who are not part of their own group or family. Under-18s are not allowed in the bars or pubs.\\n\\n***Please note: non-refundable reservations will be fully charged at the time of booking.\\nshow more\",\n",
       " \"Hostelworld says\\nSmart Hyde Park View is a 'clean, pleasant place [with] friendly staff' according to several Hostelworld reviews, which say this hostel is comfortable and quiet, offering 'good quality for a reasonable price'. We like that the staff are frequently praised for being 'kind and helpful', offering recommendations and advice on transport and tourist sites. The hostel is very near Hyde Park, with 'a great atmosphere' where 'the 24 hours open reception provides a sense of security'.\",\n",
       " 'Property Description\\nOur Hyde Park View Hostel is in a superb location with friendly and helpful staff. The hostel offers comfortable, clean rooms and fantastic access to London’s most famous sights and attractions.You can, also, enjoy the stunning walk through the Hyde Park to Buckingham Palace and Picadilly Circus or London’s and Europe’s most popular shopping areas, Portobello Market, Knightsbridge and Oxford Street.\\n\\nAll the rooms have en-suite facilities, with its own shower and toilet facilities making it a perfect place to stay. The beds have curtains and panels ensuring that your stay is private and comfortable.\\n\\nThe local transport links are great, we are located within 5 minutes walking distance from either Queensway or Bayswater underground stations. There are 24 hour buses running next to the hostel which connect to many of the cities train and bus stations, making us accessible at day or night.\\nView House Rules',\n",
       " \"Hostelworld says\\nSaint James Backpackers, set in a classic Victorian town house, is quaint and typically British. Its interior is beautifully maintained, mixing modern with classic, and includes a sizeable common room with plush sofas and TV. A friendly, family run affair, it offers a selection of dorms and privates, along with full kitchen facilities, free Wi-Fi and a patio area with BBQ. It's close to Earl's Court tube station, just two stops away from London's exclusive Kensington area, and 15 minutes from the West End, where you'll find the best the city has to offer in shopping, theatre and pubs.\",\n",
       " \"Property Description\\nWe are located in central London - just 5 minutes walk from the station. Rated one of the best hostels in London 2017 by the Telegraph newspaper, we offer free dinner & free breakfast everyday. Come stay with us and make new friends for life.\\n\\nFree high speed WiFi throughout, a huge garden patio with free gym, communal lounge with a 85-inch Ultra HD TV with cable, Netflix & PS4. Guests can also use the modern shared kitchen to cook their own meals.\\n\\nAll dorms have contemporary designs. We also have many private rooms. \\n\\nThe hostel is 15 minutes walk from Natural History & Science Museums and Hyde Park. Madame Tussauds, Harrods and Buckingham Palace are also a 15-minute train ride away.\\n\\n\\n\\nThe Reception is open 24/7 and the international staff will be there, happy to help you. \\n\\nMore reasons to stay at Saint James Backpackers? \\n- A 24-hour reception to make sure to be available for our guests at any time \\n- Massive living rooms with a large television, with options such as Sky TV, Netflix and a PlayStation 4 \\n- USB Charging Points in every room \\n- An exclusive ladies-only dorm room and showers \\n- Massive patio garden including BBQ \\n- Outdoor gym\\n- Hostel activities: movie and popcorn nights, sangria nights, board game competitions, screening sports events, holiday partiesÃ¢â'¬Â¦\\n\\nNote: \\n\\n- There is a 48-hour cancellation policy on all reservations. Non-refundable reservations cannot be refunded. In case of a no show, the guest would be charged the whole amount of their stay \\n- A £10 key deposit is payable in cash at check-in, which is returned on return of the key at check-out. \\n- Check-in: 14.00/ Check out: 10.00 \\n- Credit cards accepted \\n- Taxes included \\n- No smoking anywhere inside the building (but we do have a large patio garden where you can indulge) \\n- On the property lives one cat and one dog.\\n- Card Payments must be authorised by chip and pin \\n- Minimum age to stay in the hostel is 5. \\n- Please note that there are limited spaces for dinner; you must sign up at reception each day before 16:00, signup is done on a first come first serve bases. If you cannot make it here in time please just call us and request to be put on the list. Management reserve the right to discontinue meals without notice\\nshow more\",\n",
       " \"Hostelworld says\\nSt Christopher's Greenwich is 'ideally located if you're going to the O2 Arena' or looking for 'a quaint English town', according to Hostelworld guests, who say this hostel is 'cheap and good value for money'. Visitors say the friendly, attentive staff are 'always laughing' and 'helpful with enquiries'. Weekends are lively at this hostel, where 'you can experience a full night out there since it has a bar and a club' where you can meet 'residents and non-residents alike'. We like that it's next to the train going into Zone 1, a journey taking around 10 minutes.\",\n",
       " \"Property Description\\nCOVID 19 Policy Update.\\nIn response to Coronavirus (COVID-19), additional safety and sanitation measures are currently in effect at this property, including in-house disinfection. \\n\\nDiscover South London's rich history in the city's area of Greenwich. The Royal Observatory, Greenwich Park, the Cutty Sark, the Queen's House and the Emirates Airline cable car are just a few of the awesome attractions that Greenwich is famous for. Heading to a gig at the O2 Arena? We're just a 20 minute bus away if you need a bed after the show. \\n\\nWe're located right outside Greenwich station and the DLR, so our connections into central London couldn't be better getting you there in less than 20 minutes. Once you've filled your day with sightseeing, head back to our hostel party bar Belushi s so you can meet other backpackers and party with them into the early hours before heading just upstairs for a good night's sleep.\\n\\n*Please note that we require an in date government approved - drivers license, passport or national ID card at check-in.\\n\\n**Guests under the age of 18 must stay in a private room with guardians. They cannot share in general dormitory rooms with people who are not part of their own group or family. Under-18s are not allowed in the bars or pubs.\\n\\n***Please note: non-refundable reservations will be fully charged at the time of booking.\\nshow more\",\n",
       " 'Property Description\\nAmong underground music venues, innovative museums, and hidden foodie hotspots, Selina Camden suits its edgy North London backdrop. Aside from offering beautifully-designed accommodation and a comfortable space to hang out, the Selina Camden hotel is an authentic cultural hub, consistent with great guest experience, an ever-changing calendar of exciting diverse programming, and unique wellness experiences. Reflecting Selina’s unique global reach, our Camden destination is here to explore and tie together the shape-shifting diversity of global music. On-site features include a fully-equipped communal kitchen, a loft complete with a stunning balcony, and a trendy vegan/vegetarian neighbourhood-style eatery.\\n\\nWake up early and head downstairs for some yoga before experiencing the best of Camden’s vegan gastronomy scene at our hotel restaurant. Take to the streets and explore the many attractions on your doorstep- from Camden Market to London Zoo, The Electric Ballroom, and multiple nearby eateries, we’ve got you! Back at Selina, unwind in the basement accompanied by vinyl tunes, catch a performance by local young talent, or order a pre-gig cocktail at the bar. As the sun sets, catch a show in one of England’s most iconic venues or head to the streets to experience London’s eclectic nightlife till the early hours.\\n\\nSelina Camden - Terms & Conditions \\n\\n24-hours front desk.\\n\\nCancellations and No-Shows \\n\\nFlexible Reservations: Cancellations or modifications must be made by 6:00 pm (Local time) at least 2 day prior to arrival. Cancellations and no-shows made beyond that time will result in a one-night cancellation fee plus tax.\\n \\nNon-Refundable Reservations: Full amount of stay (with taxes) is payable in advance by credit card at booking time. Non-refundable reservations are those made through early booking promotions and minimum stay reservations among others. Keep in mind that non-refundable reservations require full payment of the account to reserve. Payment will be processed and debited from the authorized credit card. If the charge is declined, the reservation may be cancelled. No refunds will be given for cancellations, absences or premature departures. \\n\\n\\nCheck in from 15:00 to 23:00 .\\nCheck out before 11:00 .\\n\\nPayment upon arrival by cash, credit cards, debit cards. \\nTaxes included.\\n\\nBreakfast not included.\\nNo curfew.\\nshow more',\n",
       " 'Property Description\\nDo London like a local.\\nStay just outside the hustle of the city in a leafy London suburb at our neighbourhood Hostel-Pub, The Crown. Hang out with the friendliest locals in town and enjoy the banter over live sports on our big screens, watch the world go by on the terrace, or get comfortable with new friends in our courtyard garden.\\nPerfect for travellers looking to experience real London with real Londoners.\\n\\nLegendary London adventures start at PubLove.\\nAll our Hostel-Pubs are welcoming, small and social - the perfect places to get to know your fellow travellers. The best thing about staying with us? Your common room is the great British pub! We have 24hr bars specialising in craft beer & gin. Get social with the locals or swap stories over a drink with your fellow backpackers.\\n\\nOur dorms are modern, cool and spotlessly clean. Our bunks have hygiene/privacy screens, dedicated power sockets, great free Wi-Fi and crisp white linen. Our top-class washrooms are private and offer shampoo, shower gel and plenty of hot water.\\n\\nEvery Hostel-Pub has an award-winning Burger Craft kitchen serving up burgers, loaded fries and brunch, with vegetarian and vegan options. They open daily from 12pm until 10pm.\\n\\nBOOK NOW to start your own London adventure.\\nshow more',\n",
       " \"Hostelworld says\\nThe Green Man Bestplace Inn is next door to Edgware Rd tube station, connecting travellers directly to Oxford Circus, Piccadilly Circus, the Embankment, King's Cross Station and more, making it convenient for getting around the city as well as going to and from the airport. We like that the pub downstairs is open 24hrs for residents and has karaoke and highly-rated pizza. Our guests say they appreciate the 'very clean' hot showers, comfy beds and sociable staff.\",\n",
       " 'Property Description\\nWhere it all began - PubLove was born here in 2007. \\nLoved by backpackers for well over a decade, The Green Man is the original Hostel-Pub and the ideal base for your London adventure. Visit the legendary Wembley Stadium & Lords Cricket ground, hit the shops on the world-famous Oxford Street, then dive into the warm glow of the West End & Theatre-Land. Head back to the bar to check your photos over a pint & a burger. London baby!\\nPerfect for the travellers looking to experience the London that the whole world loves.\\n\\nLegendary London adventures start at PubLove.\\nAll our Hostel-Pubs are welcoming, small and social - the perfect places to get to know your fellow travellers. The best thing about staying with us? Your common room is the great British pub! We have 24hr bars specialising in craft beer & gin. Get social with the locals or swap stories over a drink with your fellow backpackers.\\n\\nOur dorms are modern, cool and spotlessly clean. Our bunks have hygiene/privacy screens, dedicated power sockets, great free Wi-Fi and crisp white linen. Our top-class washrooms are private and offer shampoo, shower gel and plenty of hot water.\\n\\nEvery Hostel-Pub has an award-winning Burger Craft kitchen serving up burgers, loaded fries and brunch, with vegetarian and vegan options. They open daily from 12pm until 10pm.\\n\\nBOOK NOW to start your own London adventure.\\nshow more',\n",
       " \"Property Description\\nPark Villa is a new boutique hostel in the heart of the old East End of London. The hostel is a Georgian Regency villa with attached coach house and has been lovingly restored to reflect its original character and charm.\\n\\nSuperfast WiFi is included in the price and all guests have access to a kitchenette (including kettles, toasters, fridge and combination microwave/grill/oven) and an inviting lounge / TV room. All rooms and showers are cleaned daily and the electronic entry systems, cameras and reception ensure the hostel is safe at all times. \\n\\nWe also offer a continental breakfast (£3 per night), fresh towels (£2 on check-in), a coin operated laundry and a car park (£10 per night). Cards and cash are accepted for payment.\\n\\nOur dorms at Park Villa feature oak wood floors, customised bunk bed pods, luxurious cotton bedding, grand plantation shutters and are mainly en suites. The family rooms offer the same luxury, with shared bathrooms and full size baths. All rooms offer warmth, comfort and lots of space to stretch out and make your own.\\n\\nPark Villa's Policies & Conditions:-\\nPhoto ID is required for all guests including UK nationals. Acceptable photo ID includes passport, national ID or drivers licence and for UK nationals, even a student ID is acceptable\\nCancellation policy: 48 hours before arrival.\\nCheck in from 12:00 to 24:00 .\\nCheck out before 10:00 .\\nTaxes included.\\nBreakfast not included. Breakfast is available from 8am - 12 noon and costs £3 per night, payable on check-in.\\nPayment upon arrival by cash, credit cards, debit cards. This property may pre-authorise your card before arrival.\\n\\nFor Non-Refundable bookings, the full amount amount of the stay will be charged at the time of the booking. In case of a failed charge, we will contact you and we reserve the right to cancel your booking if no answer is given within 24 hours.\\n\\nGeneral:-\\nCar parking available for £10 per night (limited space - please check with us before)\\nNo curfew\\nNon smoking\\nshow more\",\n",
       " 'Property Description\\nOur lovely boutique hotel is conveniently located in Central London and is perfect for those looking for a charming and enjoyable stay in the heart of London. We do offer private rooms ranging from singles to triple and quad family rooms, as well as 24-hour reception with in-house security. The 103-room hotel is housed in a charming Victorian Townhouse building and is very close to some of the most popular London attractions like Portobello Road Market, Kensington Palace, Hyde Park, Royal Albert Hall, Notting Hill and many more.\\n\\nAll the rooms have been furnished with a blend of style and functionality in mind. Each of our rooms feature an en-suite bathroom, flat-screen TV, a safe, mini-fridge, free Wi-Fi, free smartphone, dual sockets, clean linen, hair dryers, free toiletries, coffee and tea facilities , air conditioning and central heating\\n\\nWe serve fully continental breakfast buffet (charges apply).\\n\\nWe look forward to welcoming you at London House and make your stay as pleasant as possible!\\n\\nCheck-in: 2pm\\n\\nCheck-out: 11:00am\\nshow more',\n",
       " \"Property Description\\nKip is on a mission to bring the world style and service without the silly price tags. So do yourself a favour, and next time you’re in town #GetSomeKip. Come see us at our brand new Hackney Central location. We need good kip like we need food, water and free wi-fi, but we don’t think that a stylish, comfortable hotel bed should cost the earth.\\nThat’s why we came up with the Kip concept – hand-crafted, monochrome interiors, and a range of accommodation to suit every need, from live/work accommodation through to holiday-makers and families, couples, groups and singles, out-of-towners and London locals.\\n\\nLocated In Hackney next to Hackney Central Station the hotel is perfectly situated with great access to the London Travel network. Whether your in London to see the sights or for work, Hackney is the perfect location to base yourself with excellent access to transport and the city.\\n\\nKip provides a wide range of room types from Pods and Cabin rooms with shared facilities to our large group rooms with en-suites for 6 and 8 people. Kip also provides all of it's guests with free high speed internet.\\n\\nKip Hotel Policies & Conditions:\\n\\nFor standard reservations: Kip will take the full amount of your stay within 48 hours of your arrival date, this amount is non-refundable in case of a no-show or late cancellation.\\n\\nFor advance purchase reservations: This reservation requires full pre-payment and is non-amendable and non-refundable. We will charge the full amount of the reservation to the credit card used to make this reservation shortly after the reservation has been made.\\n\\n For group reservations: This policy applies to bookings for KipFriends group rooms (rooms with capacity for 6+ guests) and/or single reservations for 5 or more rooms. All bookings must be secured with a valid credit card number at the time of booking. Full payment for group bookings will be taken 14 days prior to the arrival date. Once taken this payment is fully non-refundable.\\n\\nIf you need to change or cancel a reservation this must be in writing. \\nCancellation policy for New Year's Eve(31.12.2017) is 7 days before arrival.\\n\\nCheck in from 15:00 to 23:00 .\\nCheck out before 11:00 .\\n\\nPayment upon arrival by cash, credit cards, debit cards (Visa, Mastercard).\\nThis property may pre-authorise your card before arrival.\\n\\nYou MUST present the card used for the booking upon arrival. If this is not possible and the card used for the reservation does not belong to the guest, a third party form must be requested directly from the hotel (email: hello@getsomekip.com or tel: +44 20 8629 7884) and completed prior to the arrival date. Failure to do so may result in the guest not being allowed to check in.\\n\\nTaxes included.\\nBreakfast not included.\\n\\nGeneral:\\nWe have 24 hour Reception.\\nNo curfew.\\nYou can only make a booking if you are 18 years old or over. If you arrive at the hotel and are under 18 years of age you will not be permitted to stay alone.\\nChild friendly.\\nshow more\",\n",
       " 'Property Description\\nColliers Hotel offers basic budget accommodation with clean comfortable rooms at affordable rates and friendly environment. It is located very close to Victoria Central London Underground, local Buses, Rail and Coach Station, all easily reachable from the hotel. A variety of pubs and restaurants are also conveniently located within easy walking distance.\\nColliers hotel is a family run business which offers its clients 20 comfortable bedrooms. All rooms have telephone and colour television. Our prices are inclusive of complimentary continental breakfast and all taxes.\\nVictoria underground and train station is 5-7 minutes walk away and it has underground links to Heathrow and direct frequent trains to Gatwick Airport. Our friendly staff is able and available to assist you plan your stay in London.\\n\\nColliers Hotel - Terms & Conditions \\n\\nThe reception works 24-hours. \\n\\nCancellation policy: 48h before arrival. In case of a late cancellation or No Show, you will be charged the first night of your stay.\\n\\nCheck in from 14:00 to 23:00 .\\nCheck out before 10:00 .\\n\\nPayment upon arrival by cash, credit cards, debit cards. \\nThis property may pre-authorise your card before arrival. \\nTaxes included.\\n\\nBreakfast not included.\\nNo curfew.\\nshow more',\n",
       " 'Property Description\\nBeaconsfield is a basic, budget hotel, situated in Harringey on Green Lanes (A105) within 100 yards of Haringey Green Lanes Mainline Railway Station and five minutes walk from Manor House Tube Station.\\n\\nGuests at this hotel get to enjoy the benefit of being located above a traditional London pub. \\n\\nThis atmospheric Victorian pub is a great place to soak up a real taste of traditional English life. You can relax with a drink or enjoy a game of pool,darts or maybe watch sports on the big screen. \\n\\nThis comfortable hotel combines a peaceful location with a homely atmosphere, as well as easy access to Central London. \\n\\nThis Hotel also has a fully equipped kitchen and ample shared bathroom facilities.\\n\\n**PLEASE NOTE there is NO check in after midnight**\\n\\nCancellation Policy\\nIf cancelled up to 7 days before date of arrival, no fee will be charged. \\nIf cancelled later or in case of no-show, the total price of the reservation will be charged.\\nshow more']"
      ]
     },
     "execution_count": 195,
     "metadata": {},
     "output_type": "execute_result"
    }
   ],
   "source": [
    "Description"
   ]
  },
  {
   "cell_type": "code",
   "execution_count": 200,
   "id": "44df098a",
   "metadata": {},
   "outputs": [
    {
     "data": {
      "text/plain": [
       "['8.9',\n",
       " '8.9',\n",
       " '8.1',\n",
       " '8.1',\n",
       " '7.7',\n",
       " '7.7',\n",
       " '7.1',\n",
       " '7.1',\n",
       " '6.8',\n",
       " '6.8',\n",
       " '8.3',\n",
       " '8.3',\n",
       " '7.8',\n",
       " '7.8',\n",
       " '7.9',\n",
       " '7.9',\n",
       " '7.3',\n",
       " '7.3',\n",
       " '6.7',\n",
       " '6.7',\n",
       " '8.3',\n",
       " '8.3',\n",
       " '6.9',\n",
       " '6.9',\n",
       " '7.7',\n",
       " '7.7',\n",
       " '7.7',\n",
       " '7.7',\n",
       " '9.4',\n",
       " '9.4',\n",
       " '7.1',\n",
       " '7.1',\n",
       " '6.3',\n",
       " '6.3']"
      ]
     },
     "execution_count": 200,
     "metadata": {},
     "output_type": "execute_result"
    }
   ],
   "source": [
    "ratings"
   ]
  },
  {
   "cell_type": "code",
   "execution_count": 201,
   "id": "bd51eabf",
   "metadata": {},
   "outputs": [
    {
     "data": {
      "text/plain": [
       "['Fabulous',\n",
       " 'Fabulous',\n",
       " 'Fabulous',\n",
       " 'Fabulous',\n",
       " 'Very Good',\n",
       " 'Very Good',\n",
       " 'Very Good',\n",
       " 'Very Good',\n",
       " 'Good',\n",
       " 'Good',\n",
       " 'Fabulous',\n",
       " 'Fabulous',\n",
       " 'Very Good',\n",
       " 'Very Good',\n",
       " 'Very Good',\n",
       " 'Very Good',\n",
       " 'Very Good',\n",
       " 'Very Good',\n",
       " 'Good',\n",
       " 'Good',\n",
       " 'Fabulous',\n",
       " 'Fabulous',\n",
       " 'Good',\n",
       " 'Good',\n",
       " 'Very Good',\n",
       " 'Very Good',\n",
       " 'Very Good',\n",
       " 'Very Good',\n",
       " 'Superb',\n",
       " 'Superb',\n",
       " 'Very Good',\n",
       " 'Very Good',\n",
       " 'Good',\n",
       " 'Good',\n",
       " 'No Rating']"
      ]
     },
     "execution_count": 201,
     "metadata": {},
     "output_type": "execute_result"
    }
   ],
   "source": [
    "Overall_reviews"
   ]
  },
  {
   "cell_type": "code",
   "execution_count": 202,
   "id": "e23f839d",
   "metadata": {},
   "outputs": [
    {
     "data": {
      "text/plain": [
       "['14326 Total Reviews',\n",
       " '14326 Total Reviews',\n",
       " '11697 Total Reviews',\n",
       " '11697 Total Reviews',\n",
       " '7259 Total Reviews',\n",
       " '7259 Total Reviews',\n",
       " '4681 Total Reviews',\n",
       " '4681 Total Reviews',\n",
       " '1377 Total Reviews',\n",
       " '1377 Total Reviews',\n",
       " '3899 Total Reviews',\n",
       " '3899 Total Reviews',\n",
       " '4156 Total Reviews',\n",
       " '4156 Total Reviews',\n",
       " '4635 Total Reviews',\n",
       " '4635 Total Reviews',\n",
       " '1846 Total Reviews',\n",
       " '1846 Total Reviews',\n",
       " '3278 Total Reviews',\n",
       " '3278 Total Reviews',\n",
       " '41 Total Reviews',\n",
       " '41 Total Reviews',\n",
       " '277 Total Reviews',\n",
       " '277 Total Reviews',\n",
       " '432 Total Reviews',\n",
       " '432 Total Reviews',\n",
       " '878 Total Reviews',\n",
       " '878 Total Reviews',\n",
       " '1382 Total Reviews',\n",
       " '1382 Total Reviews',\n",
       " '55 Total Reviews',\n",
       " '55 Total Reviews',\n",
       " '9 Total Reviews',\n",
       " '9 Total Reviews',\n",
       " '0 Total Reviews']"
      ]
     },
     "execution_count": 202,
     "metadata": {},
     "output_type": "execute_result"
    }
   ],
   "source": [
    "Total_reviews"
   ]
  },
  {
   "cell_type": "code",
   "execution_count": 203,
   "id": "64f09a89",
   "metadata": {},
   "outputs": [],
   "source": [
    "driver.close()"
   ]
  },
  {
   "cell_type": "code",
   "execution_count": null,
   "id": "6ab37459",
   "metadata": {},
   "outputs": [],
   "source": []
  }
 ],
 "metadata": {
  "kernelspec": {
   "display_name": "Python 3 (ipykernel)",
   "language": "python",
   "name": "python3"
  },
  "language_info": {
   "codemirror_mode": {
    "name": "ipython",
    "version": 3
   },
   "file_extension": ".py",
   "mimetype": "text/x-python",
   "name": "python",
   "nbconvert_exporter": "python",
   "pygments_lexer": "ipython3",
   "version": "3.9.12"
  }
 },
 "nbformat": 4,
 "nbformat_minor": 5
}
