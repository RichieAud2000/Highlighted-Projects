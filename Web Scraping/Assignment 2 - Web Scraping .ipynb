{
 "cells": [
  {
   "cell_type": "markdown",
   "id": "a8b0d118",
   "metadata": {},
   "source": [
    "# Question 1 - Solved"
   ]
  },
  {
   "cell_type": "markdown",
   "id": "2240b282",
   "metadata": {},
   "source": [
    "# scrape data for “Data Analyst” Job position in “Bangalore” location"
   ]
  },
  {
   "cell_type": "code",
   "execution_count": 1,
   "id": "8aa2b43d",
   "metadata": {},
   "outputs": [],
   "source": [
    "#Lets import all the necessary libraries \n",
    "\n",
    "import selenium                                     #library that is used to work with Selenium\n",
    "from selenium import webdriver                      # importing webdriver module from selenium to open automated chrome window\n",
    "import pandas as pd                                 # To create a Database\n",
    "from selenium.webdriver.common.by import By         # importing inbuilt class By\n",
    "import warnings\n",
    "warnings.filterwarnings('ignore')                   # to ignore any sort of warning\n",
    "import time                                         #used to stop search engine for a few secods"
   ]
  },
  {
   "cell_type": "code",
   "execution_count": 2,
   "id": "609eab95",
   "metadata": {},
   "outputs": [],
   "source": [
    "driver = webdriver.Chrome('chromedriver.exe') # Lets connect to the web driver"
   ]
  },
  {
   "cell_type": "code",
   "execution_count": 3,
   "id": "de3725ef",
   "metadata": {},
   "outputs": [],
   "source": [
    "#Lets Maximize thw automated chrome window\n",
    "\n",
    "driver.maximize_window()"
   ]
  },
  {
   "cell_type": "code",
   "execution_count": 4,
   "id": "b06e10df",
   "metadata": {},
   "outputs": [],
   "source": [
    "#Opening up naukri.com website on automated chrome window\n",
    "\n",
    "url = 'https://www.naukri.com/'\n",
    "driver.get(url)"
   ]
  },
  {
   "cell_type": "code",
   "execution_count": 5,
   "id": "99c82a25",
   "metadata": {},
   "outputs": [],
   "source": [
    "#finding the web element for the job bar \n",
    "\n",
    "search_job = driver.find_element(By.CLASS_NAME,\"suggestor-input\")\n",
    "search_job.send_keys(\"Data Scientist\")"
   ]
  },
  {
   "cell_type": "code",
   "execution_count": 6,
   "id": "3dd10ad2",
   "metadata": {},
   "outputs": [],
   "source": [
    "#finding web element for the search location using absolute Xpath\n",
    "\n",
    "search_locn = driver.find_element(By.XPATH,'/html/body/div[1]/div[6]/div/div/div[5]/div/div/div/input')\n",
    "search_locn.send_keys(\"Bangalore\")"
   ]
  },
  {
   "cell_type": "code",
   "execution_count": 7,
   "id": "f38ce5ef",
   "metadata": {},
   "outputs": [],
   "source": [
    "#clicking using absolute xpath function\n",
    "\n",
    "search_btn = driver.find_element(By.CLASS_NAME,\"qsbSubmit\")\n",
    "search_btn.click()"
   ]
  },
  {
   "cell_type": "code",
   "execution_count": 8,
   "id": "c19e990b",
   "metadata": {},
   "outputs": [],
   "source": [
    "#Extracting the JOb Titles"
   ]
  },
  {
   "cell_type": "code",
   "execution_count": 10,
   "id": "2cd626c6",
   "metadata": {},
   "outputs": [
    {
     "data": {
      "text/plain": [
       "['Analystics & Modeling Specialist',\n",
       " 'Data Scientist - Looking For Immediate Joiners',\n",
       " 'Assistant Manager - Data Science',\n",
       " 'Data Scientist',\n",
       " 'Python Programming Language Data Science Practitioner',\n",
       " 'Industry X - Software Engineering',\n",
       " 'Data Scientist: Artificial Intelligence',\n",
       " 'ACN - Applied Intelligence - C4DI - Sustainability - 09',\n",
       " 'Data Scientist',\n",
       " 'Data Scientist']"
      ]
     },
     "execution_count": 10,
     "metadata": {},
     "output_type": "execute_result"
    }
   ],
   "source": [
    "#Lets extract all the elements having job titles\n",
    "\n",
    "job_titles = []\n",
    "title_tags = driver.find_elements(By.XPATH,\"//a[@class='title fw500 ellipsis']\")\n",
    "for i in title_tags:\n",
    "    job_titles.append(i.text)\n",
    "job_titles[:10]"
   ]
  },
  {
   "cell_type": "code",
   "execution_count": 11,
   "id": "415ead1e",
   "metadata": {},
   "outputs": [],
   "source": [
    "#Extracting the Job Location"
   ]
  },
  {
   "cell_type": "code",
   "execution_count": 12,
   "id": "605a06b1",
   "metadata": {},
   "outputs": [
    {
     "data": {
      "text/plain": [
       "['Bangalore/Bengaluru, Kolkata, Mumbai, Hyderabad/Secunderabad, Pune, Chennai',\n",
       " 'Hybrid - Bangalore/Bengaluru, Hyderabad/Secunderabad',\n",
       " 'Hybrid - Bangalore/Bengaluru, Mumbai, Pune',\n",
       " 'Bangalore/Bengaluru, Hyderabad/Secunderabad, Pune, Chennai',\n",
       " 'Bangalore/Bengaluru',\n",
       " 'Bangalore/Bengaluru',\n",
       " 'Bangalore/Bengaluru',\n",
       " 'Bangalore/Bengaluru',\n",
       " 'Bangalore/Bengaluru',\n",
       " 'Bangalore/Bengaluru']"
      ]
     },
     "execution_count": 12,
     "metadata": {},
     "output_type": "execute_result"
    }
   ],
   "source": [
    "#Lets extract all the elements having location\n",
    "\n",
    "location = []\n",
    "locn_tags = driver.find_elements(By.XPATH,\"//span[@class='ellipsis fleft fs12 lh16 locWdth']\")\n",
    "for i in locn_tags:\n",
    "    location.append(i.text)\n",
    "location[:10]"
   ]
  },
  {
   "cell_type": "code",
   "execution_count": 14,
   "id": "6728e9ee",
   "metadata": {},
   "outputs": [],
   "source": [
    "#Extracting the company names"
   ]
  },
  {
   "cell_type": "code",
   "execution_count": 15,
   "id": "1fdaafc9",
   "metadata": {},
   "outputs": [
    {
     "data": {
      "text/plain": [
       "['Accenture',\n",
       " 'Wipro',\n",
       " 'Citiustech',\n",
       " 'Altair',\n",
       " 'Accenture',\n",
       " 'Accenture',\n",
       " 'IBM',\n",
       " 'Accenture',\n",
       " 'Applied Materials',\n",
       " 'Applied Materials']"
      ]
     },
     "execution_count": 15,
     "metadata": {},
     "output_type": "execute_result"
    }
   ],
   "source": [
    "#Lets extract all the elements having company names \n",
    "\n",
    "company_names = []\n",
    "company_tags = driver.find_elements(By.XPATH,\"//a[@class='subTitle ellipsis fleft']\")\n",
    "for i in company_tags:\n",
    "    company_names.append(i.text)\n",
    "company_names[:10]"
   ]
  },
  {
   "cell_type": "code",
   "execution_count": 16,
   "id": "57e1b4ab",
   "metadata": {},
   "outputs": [],
   "source": [
    "#Extracting the experience Required"
   ]
  },
  {
   "cell_type": "code",
   "execution_count": 17,
   "id": "d07378af",
   "metadata": {},
   "outputs": [
    {
     "data": {
      "text/plain": [
       "['6-8 Yrs',\n",
       " '5-10 Yrs',\n",
       " '5-9 Yrs',\n",
       " '2-7 Yrs',\n",
       " '4-6 Yrs',\n",
       " '3-5 Yrs',\n",
       " '4-8 Yrs',\n",
       " '4-6 Yrs',\n",
       " '4-7 Yrs',\n",
       " '4-7 Yrs']"
      ]
     },
     "execution_count": 17,
     "metadata": {},
     "output_type": "execute_result"
    }
   ],
   "source": [
    "#Lets extract all the elements having experience\n",
    "\n",
    "experience = []\n",
    "exp_tags = driver.find_elements(By.XPATH,\"//span[@class='ellipsis fleft fs12 lh16 expwdth']\")\n",
    "for i in exp_tags:\n",
    "    experience.append(i.text)\n",
    "experience[:10]"
   ]
  },
  {
   "cell_type": "code",
   "execution_count": 19,
   "id": "e7dcf30b",
   "metadata": {},
   "outputs": [],
   "source": [
    "#Creating a DataFrame with the extracted elements\n",
    "\n",
    "jobs = pd.DataFrame()\n",
    "jobs['Job Title'] = job_titles[:10]\n",
    "jobs['Company'] = company_names[:10]\n",
    "jobs['Experience'] = experience[:10]\n",
    "jobs['Location'] = location[:10]"
   ]
  },
  {
   "cell_type": "code",
   "execution_count": 20,
   "id": "3fc248f0",
   "metadata": {},
   "outputs": [
    {
     "data": {
      "text/html": [
       "<div>\n",
       "<style scoped>\n",
       "    .dataframe tbody tr th:only-of-type {\n",
       "        vertical-align: middle;\n",
       "    }\n",
       "\n",
       "    .dataframe tbody tr th {\n",
       "        vertical-align: top;\n",
       "    }\n",
       "\n",
       "    .dataframe thead th {\n",
       "        text-align: right;\n",
       "    }\n",
       "</style>\n",
       "<table border=\"1\" class=\"dataframe\">\n",
       "  <thead>\n",
       "    <tr style=\"text-align: right;\">\n",
       "      <th></th>\n",
       "      <th>Job Title</th>\n",
       "      <th>Company</th>\n",
       "      <th>Experience</th>\n",
       "      <th>Location</th>\n",
       "    </tr>\n",
       "  </thead>\n",
       "  <tbody>\n",
       "    <tr>\n",
       "      <th>0</th>\n",
       "      <td>Analystics &amp; Modeling Specialist</td>\n",
       "      <td>Accenture</td>\n",
       "      <td>6-8 Yrs</td>\n",
       "      <td>Bangalore/Bengaluru, Kolkata, Mumbai, Hyderaba...</td>\n",
       "    </tr>\n",
       "    <tr>\n",
       "      <th>1</th>\n",
       "      <td>Data Scientist - Looking For Immediate Joiners</td>\n",
       "      <td>Wipro</td>\n",
       "      <td>5-10 Yrs</td>\n",
       "      <td>Hybrid - Bangalore/Bengaluru, Hyderabad/Secund...</td>\n",
       "    </tr>\n",
       "    <tr>\n",
       "      <th>2</th>\n",
       "      <td>Assistant Manager - Data Science</td>\n",
       "      <td>Citiustech</td>\n",
       "      <td>5-9 Yrs</td>\n",
       "      <td>Hybrid - Bangalore/Bengaluru, Mumbai, Pune</td>\n",
       "    </tr>\n",
       "    <tr>\n",
       "      <th>3</th>\n",
       "      <td>Data Scientist</td>\n",
       "      <td>Altair</td>\n",
       "      <td>2-7 Yrs</td>\n",
       "      <td>Bangalore/Bengaluru, Hyderabad/Secunderabad, P...</td>\n",
       "    </tr>\n",
       "    <tr>\n",
       "      <th>4</th>\n",
       "      <td>Python Programming Language Data Science Pract...</td>\n",
       "      <td>Accenture</td>\n",
       "      <td>4-6 Yrs</td>\n",
       "      <td>Bangalore/Bengaluru</td>\n",
       "    </tr>\n",
       "    <tr>\n",
       "      <th>5</th>\n",
       "      <td>Industry X - Software Engineering</td>\n",
       "      <td>Accenture</td>\n",
       "      <td>3-5 Yrs</td>\n",
       "      <td>Bangalore/Bengaluru</td>\n",
       "    </tr>\n",
       "    <tr>\n",
       "      <th>6</th>\n",
       "      <td>Data Scientist: Artificial Intelligence</td>\n",
       "      <td>IBM</td>\n",
       "      <td>4-8 Yrs</td>\n",
       "      <td>Bangalore/Bengaluru</td>\n",
       "    </tr>\n",
       "    <tr>\n",
       "      <th>7</th>\n",
       "      <td>ACN - Applied Intelligence - C4DI - Sustainabi...</td>\n",
       "      <td>Accenture</td>\n",
       "      <td>4-6 Yrs</td>\n",
       "      <td>Bangalore/Bengaluru</td>\n",
       "    </tr>\n",
       "    <tr>\n",
       "      <th>8</th>\n",
       "      <td>Data Scientist</td>\n",
       "      <td>Applied Materials</td>\n",
       "      <td>4-7 Yrs</td>\n",
       "      <td>Bangalore/Bengaluru</td>\n",
       "    </tr>\n",
       "    <tr>\n",
       "      <th>9</th>\n",
       "      <td>Data Scientist</td>\n",
       "      <td>Applied Materials</td>\n",
       "      <td>4-7 Yrs</td>\n",
       "      <td>Bangalore/Bengaluru</td>\n",
       "    </tr>\n",
       "  </tbody>\n",
       "</table>\n",
       "</div>"
      ],
      "text/plain": [
       "                                           Job Title            Company  \\\n",
       "0                   Analystics & Modeling Specialist          Accenture   \n",
       "1     Data Scientist - Looking For Immediate Joiners              Wipro   \n",
       "2                   Assistant Manager - Data Science         Citiustech   \n",
       "3                                     Data Scientist             Altair   \n",
       "4  Python Programming Language Data Science Pract...          Accenture   \n",
       "5                  Industry X - Software Engineering          Accenture   \n",
       "6            Data Scientist: Artificial Intelligence                IBM   \n",
       "7  ACN - Applied Intelligence - C4DI - Sustainabi...          Accenture   \n",
       "8                                     Data Scientist  Applied Materials   \n",
       "9                                     Data Scientist  Applied Materials   \n",
       "\n",
       "  Experience                                           Location  \n",
       "0    6-8 Yrs  Bangalore/Bengaluru, Kolkata, Mumbai, Hyderaba...  \n",
       "1   5-10 Yrs  Hybrid - Bangalore/Bengaluru, Hyderabad/Secund...  \n",
       "2    5-9 Yrs         Hybrid - Bangalore/Bengaluru, Mumbai, Pune  \n",
       "3    2-7 Yrs  Bangalore/Bengaluru, Hyderabad/Secunderabad, P...  \n",
       "4    4-6 Yrs                                Bangalore/Bengaluru  \n",
       "5    3-5 Yrs                                Bangalore/Bengaluru  \n",
       "6    4-8 Yrs                                Bangalore/Bengaluru  \n",
       "7    4-6 Yrs                                Bangalore/Bengaluru  \n",
       "8    4-7 Yrs                                Bangalore/Bengaluru  \n",
       "9    4-7 Yrs                                Bangalore/Bengaluru  "
      ]
     },
     "execution_count": 20,
     "metadata": {},
     "output_type": "execute_result"
    }
   ],
   "source": [
    "jobs #Printing the dataframe with the elements"
   ]
  },
  {
   "cell_type": "markdown",
   "id": "4ae2c419",
   "metadata": {},
   "source": [
    "# Question 2 - Solved"
   ]
  },
  {
   "cell_type": "markdown",
   "id": "09c938ca",
   "metadata": {},
   "source": [
    "# scrape data for “Data Analyst” Job position in “Bangalore” location"
   ]
  },
  {
   "cell_type": "code",
   "execution_count": 21,
   "id": "e67d4757",
   "metadata": {},
   "outputs": [],
   "source": [
    "#Lets import all the necessary libraries \n",
    "\n",
    "import selenium                                     #library that is used to work with Selenium\n",
    "from selenium import webdriver                      # importing webdriver module from selenium to open automated chrome window\n",
    "import pandas as pd                                 # To create a Database\n",
    "from selenium.webdriver.common.by import By         # importing inbuilt class By\n",
    "import warnings\n",
    "warnings.filterwarnings('ignore')                   # to ignore any sort of warning\n",
    "import time                                         #used to stop search engine for a few secods"
   ]
  },
  {
   "cell_type": "code",
   "execution_count": 22,
   "id": "f45a0583",
   "metadata": {},
   "outputs": [],
   "source": [
    "driver = webdriver.Chrome('chromedriver.exe') # Lets connect to the web driver"
   ]
  },
  {
   "cell_type": "code",
   "execution_count": 23,
   "id": "de2902d8",
   "metadata": {},
   "outputs": [],
   "source": [
    "#Lets Maximize thw automated chrome window\n",
    "\n",
    "driver.maximize_window()"
   ]
  },
  {
   "cell_type": "code",
   "execution_count": 24,
   "id": "558ea138",
   "metadata": {},
   "outputs": [],
   "source": [
    "#Opening up naukri.com website on automated chrome window\n",
    "\n",
    "url = 'https://www.naukri.com/'\n",
    "driver.get(url)"
   ]
  },
  {
   "cell_type": "code",
   "execution_count": 25,
   "id": "fd8130ee",
   "metadata": {},
   "outputs": [],
   "source": [
    "#finding the web element for the job bar \n",
    "\n",
    "search_job = driver.find_element(By.CLASS_NAME,\"suggestor-input\")\n",
    "search_job.send_keys(\"Data Scientist\")"
   ]
  },
  {
   "cell_type": "code",
   "execution_count": 26,
   "id": "c63addc9",
   "metadata": {},
   "outputs": [],
   "source": [
    "#finding web element for the search location using absolute Xpath\n",
    "\n",
    "search_locn = driver.find_element(By.XPATH,'/html/body/div[1]/div[6]/div/div/div[5]/div/div/div/input')\n",
    "search_locn.send_keys(\"Bangalore\")"
   ]
  },
  {
   "cell_type": "code",
   "execution_count": 27,
   "id": "d0a60e1a",
   "metadata": {},
   "outputs": [],
   "source": [
    "#clicking using absolute xpath function\n",
    "\n",
    "search_btn = driver.find_element(By.CLASS_NAME,\"qsbSubmit\")\n",
    "search_btn.click()"
   ]
  },
  {
   "cell_type": "code",
   "execution_count": 28,
   "id": "148823f8",
   "metadata": {},
   "outputs": [],
   "source": [
    "#Extracting the JOb Titles"
   ]
  },
  {
   "cell_type": "code",
   "execution_count": 38,
   "id": "e4a376b4",
   "metadata": {},
   "outputs": [
    {
     "data": {
      "text/plain": [
       "['Analystics & Modeling Specialist',\n",
       " 'Data Scientist - Looking For Immediate Joiners',\n",
       " 'Assistant Manager - Data Science',\n",
       " 'Data Scientist',\n",
       " 'Python Programming Language Data Science Practitioner',\n",
       " 'Industry X - Software Engineering',\n",
       " 'Data Scientist: Artificial Intelligence',\n",
       " 'ACN - Applied Intelligence - C4DI - Sustainability - 09',\n",
       " 'Data Scientist',\n",
       " 'Data Scientist',\n",
       " 'Data Scientist',\n",
       " 'Senior Data Scientist',\n",
       " 'Data Scientist - II',\n",
       " 'Lead ML Scientist',\n",
       " 'Data Scientist',\n",
       " 'Lead Business Analyst',\n",
       " 'Data Scientist',\n",
       " 'Sr. Data Scientist',\n",
       " 'Opportunity For Data Scientist - Female Candidates ONLY',\n",
       " 'AI/ML engineer']"
      ]
     },
     "execution_count": 38,
     "metadata": {},
     "output_type": "execute_result"
    }
   ],
   "source": [
    "#Lets extract all the elements having job titles\n",
    "\n",
    "job_titles = []\n",
    "title_tags = driver.find_elements(By.XPATH,\"//a[@class='title fw500 ellipsis']\")\n",
    "for i in title_tags:\n",
    "    job_titles.append(i.text)\n",
    "job_titles"
   ]
  },
  {
   "cell_type": "code",
   "execution_count": 30,
   "id": "ebd4bc8c",
   "metadata": {},
   "outputs": [],
   "source": [
    "#Extracting the Job Location"
   ]
  },
  {
   "cell_type": "code",
   "execution_count": 39,
   "id": "dd14812d",
   "metadata": {},
   "outputs": [
    {
     "data": {
      "text/plain": [
       "['Bangalore/Bengaluru, Kolkata, Mumbai, Hyderabad/Secunderabad, Pune, Chennai',\n",
       " 'Hybrid - Bangalore/Bengaluru, Hyderabad/Secunderabad',\n",
       " 'Hybrid - Bangalore/Bengaluru, Mumbai, Pune',\n",
       " 'Bangalore/Bengaluru, Hyderabad/Secunderabad, Pune, Chennai',\n",
       " 'Bangalore/Bengaluru',\n",
       " 'Bangalore/Bengaluru',\n",
       " 'Bangalore/Bengaluru',\n",
       " 'Bangalore/Bengaluru',\n",
       " 'Bangalore/Bengaluru',\n",
       " 'Bangalore/Bengaluru',\n",
       " 'Bangalore/Bengaluru, Noida, Hyderabad/Secunderabad, Chennai',\n",
       " 'Bangalore/Bengaluru, Mumbai, New Delhi, Chennai',\n",
       " 'Bangalore/Bengaluru, India, Mumbai (All Areas)',\n",
       " 'Bangalore/Bengaluru, Mumbai',\n",
       " 'Bangalore/Bengaluru',\n",
       " 'Bangalore/Bengaluru',\n",
       " 'Bangalore/Bengaluru',\n",
       " 'Bangalore/Bengaluru, Hyderabad/Secunderabad',\n",
       " 'Hybrid - Bangalore/Bengaluru, Gurgaon/Gurugram, Mumbai (All Areas)',\n",
       " 'Bangalore/Bengaluru']"
      ]
     },
     "execution_count": 39,
     "metadata": {},
     "output_type": "execute_result"
    }
   ],
   "source": [
    "#Lets extract all the elements having location\n",
    "\n",
    "location = []\n",
    "locn_tags = driver.find_elements(By.XPATH,\"//span[@class='ellipsis fleft fs12 lh16 locWdth']\")\n",
    "for i in locn_tags:\n",
    "    location.append(i.text)\n",
    "location"
   ]
  },
  {
   "cell_type": "code",
   "execution_count": 32,
   "id": "06ef494f",
   "metadata": {},
   "outputs": [],
   "source": [
    "#Extracting the company names"
   ]
  },
  {
   "cell_type": "code",
   "execution_count": 40,
   "id": "15f232c3",
   "metadata": {},
   "outputs": [
    {
     "data": {
      "text/plain": [
       "['Accenture',\n",
       " 'Wipro',\n",
       " 'Citiustech',\n",
       " 'Altair',\n",
       " 'Accenture',\n",
       " 'Accenture',\n",
       " 'IBM',\n",
       " 'Accenture',\n",
       " 'Applied Materials',\n",
       " 'Applied Materials',\n",
       " 'HCLTech',\n",
       " 'Boston Consulting Group',\n",
       " 'Bizongo',\n",
       " 'Fractal Analytics',\n",
       " 'Puma Sports India',\n",
       " 'Technicolor Animation &amp; Games',\n",
       " 'Phonepe',\n",
       " 'Accolite Software India Pvt Ltd',\n",
       " 'PayU Finance',\n",
       " 'CGI']"
      ]
     },
     "execution_count": 40,
     "metadata": {},
     "output_type": "execute_result"
    }
   ],
   "source": [
    "#Lets extract all the elements having company names \n",
    "\n",
    "company_names = []\n",
    "company_tags = driver.find_elements(By.XPATH,\"//a[@class='subTitle ellipsis fleft']\")\n",
    "for i in company_tags:\n",
    "    company_names.append(i.text)\n",
    "company_names"
   ]
  },
  {
   "cell_type": "code",
   "execution_count": 34,
   "id": "4aef6f96",
   "metadata": {},
   "outputs": [],
   "source": [
    "#Extracting the experience Required"
   ]
  },
  {
   "cell_type": "code",
   "execution_count": 42,
   "id": "192ce8fb",
   "metadata": {},
   "outputs": [
    {
     "data": {
      "text/plain": [
       "['6-8 Yrs',\n",
       " '5-10 Yrs',\n",
       " '5-9 Yrs',\n",
       " '2-7 Yrs',\n",
       " '4-6 Yrs',\n",
       " '3-5 Yrs',\n",
       " '4-8 Yrs',\n",
       " '4-6 Yrs',\n",
       " '4-7 Yrs',\n",
       " '4-7 Yrs',\n",
       " '4-9 Yrs',\n",
       " '5-10 Yrs',\n",
       " '3-6 Yrs',\n",
       " '6-10 Yrs',\n",
       " '1-2 Yrs',\n",
       " '3-5 Yrs',\n",
       " '5-8 Yrs',\n",
       " '6-8 Yrs',\n",
       " '3-7 Yrs',\n",
       " '4-6 Yrs']"
      ]
     },
     "execution_count": 42,
     "metadata": {},
     "output_type": "execute_result"
    }
   ],
   "source": [
    "#Lets extract all the elements having experience\n",
    "\n",
    "experience = []\n",
    "exp_tags = driver.find_elements(By.XPATH,\"//span[@class='ellipsis fleft fs12 lh16 expwdth']\")\n",
    "for i in exp_tags:\n",
    "    experience.append(i.text)\n",
    "experience"
   ]
  },
  {
   "cell_type": "code",
   "execution_count": 45,
   "id": "2f6ffd56",
   "metadata": {},
   "outputs": [],
   "source": [
    "#Creating a DataFrame with the extracted elements\n",
    "\n",
    "jobs1 = pd.DataFrame()\n",
    "jobs1['Job Title'] = job_titles[10:21]\n",
    "jobs1['Company'] = company_names[10:21]\n",
    "jobs1['Experience'] = experience[10:21]\n",
    "jobs1['Location'] = location[10:21]"
   ]
  },
  {
   "cell_type": "code",
   "execution_count": 46,
   "id": "856614fa",
   "metadata": {},
   "outputs": [
    {
     "data": {
      "text/html": [
       "<div>\n",
       "<style scoped>\n",
       "    .dataframe tbody tr th:only-of-type {\n",
       "        vertical-align: middle;\n",
       "    }\n",
       "\n",
       "    .dataframe tbody tr th {\n",
       "        vertical-align: top;\n",
       "    }\n",
       "\n",
       "    .dataframe thead th {\n",
       "        text-align: right;\n",
       "    }\n",
       "</style>\n",
       "<table border=\"1\" class=\"dataframe\">\n",
       "  <thead>\n",
       "    <tr style=\"text-align: right;\">\n",
       "      <th></th>\n",
       "      <th>Job Title</th>\n",
       "      <th>Company</th>\n",
       "      <th>Experience</th>\n",
       "      <th>Location</th>\n",
       "    </tr>\n",
       "  </thead>\n",
       "  <tbody>\n",
       "    <tr>\n",
       "      <th>0</th>\n",
       "      <td>Data Scientist</td>\n",
       "      <td>HCLTech</td>\n",
       "      <td>4-9 Yrs</td>\n",
       "      <td>Bangalore/Bengaluru, Noida, Hyderabad/Secunder...</td>\n",
       "    </tr>\n",
       "    <tr>\n",
       "      <th>1</th>\n",
       "      <td>Senior Data Scientist</td>\n",
       "      <td>Boston Consulting Group</td>\n",
       "      <td>5-10 Yrs</td>\n",
       "      <td>Bangalore/Bengaluru, Mumbai, New Delhi, Chennai</td>\n",
       "    </tr>\n",
       "    <tr>\n",
       "      <th>2</th>\n",
       "      <td>Data Scientist - II</td>\n",
       "      <td>Bizongo</td>\n",
       "      <td>3-6 Yrs</td>\n",
       "      <td>Bangalore/Bengaluru, India, Mumbai (All Areas)</td>\n",
       "    </tr>\n",
       "    <tr>\n",
       "      <th>3</th>\n",
       "      <td>Lead ML Scientist</td>\n",
       "      <td>Fractal Analytics</td>\n",
       "      <td>6-10 Yrs</td>\n",
       "      <td>Bangalore/Bengaluru, Mumbai</td>\n",
       "    </tr>\n",
       "    <tr>\n",
       "      <th>4</th>\n",
       "      <td>Data Scientist</td>\n",
       "      <td>Puma Sports India</td>\n",
       "      <td>1-2 Yrs</td>\n",
       "      <td>Bangalore/Bengaluru</td>\n",
       "    </tr>\n",
       "    <tr>\n",
       "      <th>5</th>\n",
       "      <td>Lead Business Analyst</td>\n",
       "      <td>Technicolor Animation &amp;amp; Games</td>\n",
       "      <td>3-5 Yrs</td>\n",
       "      <td>Bangalore/Bengaluru</td>\n",
       "    </tr>\n",
       "    <tr>\n",
       "      <th>6</th>\n",
       "      <td>Data Scientist</td>\n",
       "      <td>Phonepe</td>\n",
       "      <td>5-8 Yrs</td>\n",
       "      <td>Bangalore/Bengaluru</td>\n",
       "    </tr>\n",
       "    <tr>\n",
       "      <th>7</th>\n",
       "      <td>Sr. Data Scientist</td>\n",
       "      <td>Accolite Software India Pvt Ltd</td>\n",
       "      <td>6-8 Yrs</td>\n",
       "      <td>Bangalore/Bengaluru, Hyderabad/Secunderabad</td>\n",
       "    </tr>\n",
       "    <tr>\n",
       "      <th>8</th>\n",
       "      <td>Opportunity For Data Scientist - Female Candid...</td>\n",
       "      <td>PayU Finance</td>\n",
       "      <td>3-7 Yrs</td>\n",
       "      <td>Hybrid - Bangalore/Bengaluru, Gurgaon/Gurugram...</td>\n",
       "    </tr>\n",
       "    <tr>\n",
       "      <th>9</th>\n",
       "      <td>AI/ML engineer</td>\n",
       "      <td>CGI</td>\n",
       "      <td>4-6 Yrs</td>\n",
       "      <td>Bangalore/Bengaluru</td>\n",
       "    </tr>\n",
       "  </tbody>\n",
       "</table>\n",
       "</div>"
      ],
      "text/plain": [
       "                                           Job Title  \\\n",
       "0                                     Data Scientist   \n",
       "1                              Senior Data Scientist   \n",
       "2                                Data Scientist - II   \n",
       "3                                  Lead ML Scientist   \n",
       "4                                     Data Scientist   \n",
       "5                              Lead Business Analyst   \n",
       "6                                     Data Scientist   \n",
       "7                                 Sr. Data Scientist   \n",
       "8  Opportunity For Data Scientist - Female Candid...   \n",
       "9                                     AI/ML engineer   \n",
       "\n",
       "                             Company Experience  \\\n",
       "0                            HCLTech    4-9 Yrs   \n",
       "1            Boston Consulting Group   5-10 Yrs   \n",
       "2                            Bizongo    3-6 Yrs   \n",
       "3                  Fractal Analytics   6-10 Yrs   \n",
       "4                  Puma Sports India    1-2 Yrs   \n",
       "5  Technicolor Animation &amp; Games    3-5 Yrs   \n",
       "6                            Phonepe    5-8 Yrs   \n",
       "7    Accolite Software India Pvt Ltd    6-8 Yrs   \n",
       "8                       PayU Finance    3-7 Yrs   \n",
       "9                                CGI    4-6 Yrs   \n",
       "\n",
       "                                            Location  \n",
       "0  Bangalore/Bengaluru, Noida, Hyderabad/Secunder...  \n",
       "1    Bangalore/Bengaluru, Mumbai, New Delhi, Chennai  \n",
       "2     Bangalore/Bengaluru, India, Mumbai (All Areas)  \n",
       "3                        Bangalore/Bengaluru, Mumbai  \n",
       "4                                Bangalore/Bengaluru  \n",
       "5                                Bangalore/Bengaluru  \n",
       "6                                Bangalore/Bengaluru  \n",
       "7        Bangalore/Bengaluru, Hyderabad/Secunderabad  \n",
       "8  Hybrid - Bangalore/Bengaluru, Gurgaon/Gurugram...  \n",
       "9                                Bangalore/Bengaluru  "
      ]
     },
     "execution_count": 46,
     "metadata": {},
     "output_type": "execute_result"
    }
   ],
   "source": [
    "jobs1  #Printing the dataframe with the elements"
   ]
  },
  {
   "cell_type": "markdown",
   "id": "ec1e09d6",
   "metadata": {},
   "source": [
    "# Question 3 -Solved"
   ]
  },
  {
   "cell_type": "markdown",
   "id": "c4285abf",
   "metadata": {},
   "source": [
    "## Scrap data from Data Scientist and using filter Location: Delhi and Salary : 3-6 LAkhs"
   ]
  },
  {
   "cell_type": "code",
   "execution_count": 47,
   "id": "0fc4382e",
   "metadata": {},
   "outputs": [],
   "source": [
    "#Lets import all the necessary libraries \n",
    "\n",
    "import selenium                                     #library that is used to work with Selenium\n",
    "from selenium import webdriver                      # importing webdriver module from selenium to open automated chrome window\n",
    "import pandas as pd                                 # To create a Database\n",
    "from selenium.webdriver.common.by import By         # importing inbuilt class By\n",
    "import warnings\n",
    "warnings.filterwarnings('ignore')                   # to ignore any sort of warning\n",
    "import time                                         #used to stop search engine for a few secods"
   ]
  },
  {
   "cell_type": "code",
   "execution_count": 48,
   "id": "50e0647a",
   "metadata": {},
   "outputs": [],
   "source": [
    "driver = webdriver.Chrome('chromedriver.exe') # Lets connect to the web driver"
   ]
  },
  {
   "cell_type": "code",
   "execution_count": 49,
   "id": "4c3fbe06",
   "metadata": {},
   "outputs": [],
   "source": [
    "#Lets Maximize thw automated chrome window\n",
    "\n",
    "driver.maximize_window()"
   ]
  },
  {
   "cell_type": "code",
   "execution_count": 50,
   "id": "6b4b8e0a",
   "metadata": {},
   "outputs": [],
   "source": [
    "#Opening up naukri.com website on automated chrome window\n",
    "\n",
    "url = 'https://www.naukri.com/'\n",
    "driver.get(url)"
   ]
  },
  {
   "cell_type": "code",
   "execution_count": 51,
   "id": "078b3f4d",
   "metadata": {},
   "outputs": [],
   "source": [
    "#finding the web element for the job bar \n",
    "\n",
    "search_job = driver.find_element(By.CLASS_NAME,\"suggestor-input\")\n",
    "search_job.send_keys(\"Data Scientist\")"
   ]
  },
  {
   "cell_type": "code",
   "execution_count": 52,
   "id": "ba9bdb57",
   "metadata": {},
   "outputs": [],
   "source": [
    "#finding web element for the search location using absolute Xpath\n",
    "\n",
    "search_locn = driver.find_element(By.XPATH,'/html/body/div[1]/div[6]/div/div/div[5]/div/div/div/input')\n",
    "search_locn.send_keys(\"Bangalore\")"
   ]
  },
  {
   "cell_type": "code",
   "execution_count": 53,
   "id": "c605cdc1",
   "metadata": {},
   "outputs": [],
   "source": [
    "#clicking using absolute xpath function\n",
    "\n",
    "search_btn = driver.find_element(By.CLASS_NAME,\"qsbSubmit\")\n",
    "search_btn.click()"
   ]
  },
  {
   "cell_type": "code",
   "execution_count": null,
   "id": "25813049",
   "metadata": {},
   "outputs": [],
   "source": [
    "#finding the web element for the Salary filter \n",
    "\n",
    "search_job = driver.find_element(By.CLASS_NAME,\"ellipsis fleft\")  class=\"fleft naukicon naukicon-checkbox\"\n",
    "search_job.send_keys(\"Data Scientist\")"
   ]
  },
  {
   "cell_type": "code",
   "execution_count": 58,
   "id": "9e0f4be6",
   "metadata": {},
   "outputs": [],
   "source": [
    "#finding web element for the select Salary filter using absolute Xpath for 3-6 lakhs range\n",
    "\n",
    "Salary_filter = driver.find_element(By.XPATH,'/html/body/div[1]/div[4]/div/section[1]/div[2]/div[1]/div[2]/div[2]/label/i')\n",
    "Salary_filter.click()"
   ]
  },
  {
   "cell_type": "code",
   "execution_count": 59,
   "id": "2ccdc97d",
   "metadata": {},
   "outputs": [],
   "source": [
    "#finding web element for the select Location filter using absolute Xpath for Delhi NCR region\n",
    "\n",
    "locn_filter = driver.find_element(By.XPATH,'/html/body/div[1]/div[4]/div/section[1]/div[2]/div[13]/div[2]/div[4]/label/i')\n",
    "locn_filter.click()"
   ]
  },
  {
   "cell_type": "code",
   "execution_count": 60,
   "id": "b4bc6fba",
   "metadata": {},
   "outputs": [
    {
     "data": {
      "text/plain": [
       "['Data Scientist',\n",
       " 'DigitalBCG GAMMA Data Scientist',\n",
       " 'Urgent hiring For Data Scientist (PHD Must Have)',\n",
       " 'Manager - Data Science - Banking&Financial Services - IIM/ISB/MDI/FMS',\n",
       " 'Data Scientist',\n",
       " 'Data Scientist',\n",
       " 'Data Scientist',\n",
       " 'Data Specialist',\n",
       " 'Data scientist- Python',\n",
       " 'Data Scientist',\n",
       " 'Senior Data Scientist - Python (f/m/x)']"
      ]
     },
     "execution_count": 60,
     "metadata": {},
     "output_type": "execute_result"
    }
   ],
   "source": [
    "#Lets extract all the elements having job titles\n",
    "\n",
    "job_titles = []\n",
    "title_tags = driver.find_elements(By.XPATH,\"//a[@class='title fw500 ellipsis']\")\n",
    "for i in title_tags:\n",
    "    job_titles.append(i.text)\n",
    "job_titles"
   ]
  },
  {
   "cell_type": "code",
   "execution_count": 61,
   "id": "f9f5c756",
   "metadata": {},
   "outputs": [
    {
     "data": {
      "text/plain": [
       "['Noida, Hyderabad/Secunderabad, Chennai, Bangalore/Bengaluru',\n",
       " 'New Delhi, Bangalore/Bengaluru',\n",
       " 'Temp. WFH - Noida, Pune',\n",
       " 'Delhi / NCR, Bangalore/Bengaluru',\n",
       " 'Dehradun, Hyderabad/Secunderabad, Gurgaon/Gurugram',\n",
       " 'Noida',\n",
       " 'Noida',\n",
       " 'Noida',\n",
       " 'Gurgaon/Gurugram',\n",
       " 'New Delhi',\n",
       " 'New Delhi']"
      ]
     },
     "execution_count": 61,
     "metadata": {},
     "output_type": "execute_result"
    }
   ],
   "source": [
    "#Lets extract all the elements having location\n",
    "\n",
    "location = []\n",
    "locn_tags = driver.find_elements(By.XPATH,\"//span[@class='ellipsis fleft fs12 lh16 locWdth']\")\n",
    "for i in locn_tags:\n",
    "    location.append(i.text)\n",
    "location"
   ]
  },
  {
   "cell_type": "code",
   "execution_count": 62,
   "id": "29815956",
   "metadata": {},
   "outputs": [
    {
     "data": {
      "text/plain": [
       "['HCLTech',\n",
       " 'Boston Consulting Group',\n",
       " 'NGI Ventures',\n",
       " 'Black Turtle',\n",
       " 'torcai digital media',\n",
       " 'Meon Technologies',\n",
       " 'Alliance Recruitment Agency',\n",
       " 'RCPC',\n",
       " 'TeamPlus Staffing Solution Pvt Ltd',\n",
       " 'Razor Group GmbH',\n",
       " 'Razor Group GmbH']"
      ]
     },
     "execution_count": 62,
     "metadata": {},
     "output_type": "execute_result"
    }
   ],
   "source": [
    "#Lets extract all the elements having company names \n",
    "\n",
    "company_names = []\n",
    "company_tags = driver.find_elements(By.XPATH,\"//a[@class='subTitle ellipsis fleft']\")\n",
    "for i in company_tags:\n",
    "    company_names.append(i.text)\n",
    "company_names"
   ]
  },
  {
   "cell_type": "code",
   "execution_count": 64,
   "id": "eaf0454d",
   "metadata": {},
   "outputs": [
    {
     "data": {
      "text/plain": [
       "['4-9 Yrs',\n",
       " '2-5 Yrs',\n",
       " '0-4 Yrs',\n",
       " '4-8 Yrs',\n",
       " '2-7 Yrs',\n",
       " '2-5 Yrs',\n",
       " '3-4 Yrs',\n",
       " '4-6 Yrs',\n",
       " '3-6 Yrs',\n",
       " '2-3 Yrs',\n",
       " '5-10 Yrs']"
      ]
     },
     "execution_count": 64,
     "metadata": {},
     "output_type": "execute_result"
    }
   ],
   "source": [
    "#Lets extract all the elements having experience\n",
    "\n",
    "experience = []\n",
    "exp_tags = driver.find_elements(By.XPATH,\"//span[@class='ellipsis fleft fs12 lh16 expwdth']\")\n",
    "for i in exp_tags:\n",
    "    experience.append(i.text)\n",
    "experience"
   ]
  },
  {
   "cell_type": "code",
   "execution_count": 65,
   "id": "4b01f5d0",
   "metadata": {},
   "outputs": [
    {
     "data": {
      "text/html": [
       "<div>\n",
       "<style scoped>\n",
       "    .dataframe tbody tr th:only-of-type {\n",
       "        vertical-align: middle;\n",
       "    }\n",
       "\n",
       "    .dataframe tbody tr th {\n",
       "        vertical-align: top;\n",
       "    }\n",
       "\n",
       "    .dataframe thead th {\n",
       "        text-align: right;\n",
       "    }\n",
       "</style>\n",
       "<table border=\"1\" class=\"dataframe\">\n",
       "  <thead>\n",
       "    <tr style=\"text-align: right;\">\n",
       "      <th></th>\n",
       "      <th>Job Title</th>\n",
       "      <th>Company</th>\n",
       "      <th>Experience</th>\n",
       "      <th>Location</th>\n",
       "    </tr>\n",
       "  </thead>\n",
       "  <tbody>\n",
       "    <tr>\n",
       "      <th>0</th>\n",
       "      <td>Data Scientist</td>\n",
       "      <td>HCLTech</td>\n",
       "      <td>4-9 Yrs</td>\n",
       "      <td>Noida, Hyderabad/Secunderabad, Chennai, Bangal...</td>\n",
       "    </tr>\n",
       "    <tr>\n",
       "      <th>1</th>\n",
       "      <td>DigitalBCG GAMMA Data Scientist</td>\n",
       "      <td>Boston Consulting Group</td>\n",
       "      <td>2-5 Yrs</td>\n",
       "      <td>New Delhi, Bangalore/Bengaluru</td>\n",
       "    </tr>\n",
       "    <tr>\n",
       "      <th>2</th>\n",
       "      <td>Urgent hiring For Data Scientist (PHD Must Have)</td>\n",
       "      <td>NGI Ventures</td>\n",
       "      <td>0-4 Yrs</td>\n",
       "      <td>Temp. WFH - Noida, Pune</td>\n",
       "    </tr>\n",
       "    <tr>\n",
       "      <th>3</th>\n",
       "      <td>Manager - Data Science - Banking&amp;Financial Ser...</td>\n",
       "      <td>Black Turtle</td>\n",
       "      <td>4-8 Yrs</td>\n",
       "      <td>Delhi / NCR, Bangalore/Bengaluru</td>\n",
       "    </tr>\n",
       "    <tr>\n",
       "      <th>4</th>\n",
       "      <td>Data Scientist</td>\n",
       "      <td>torcai digital media</td>\n",
       "      <td>2-7 Yrs</td>\n",
       "      <td>Dehradun, Hyderabad/Secunderabad, Gurgaon/Guru...</td>\n",
       "    </tr>\n",
       "    <tr>\n",
       "      <th>5</th>\n",
       "      <td>Data Scientist</td>\n",
       "      <td>Meon Technologies</td>\n",
       "      <td>2-5 Yrs</td>\n",
       "      <td>Noida</td>\n",
       "    </tr>\n",
       "    <tr>\n",
       "      <th>6</th>\n",
       "      <td>Data Scientist</td>\n",
       "      <td>Alliance Recruitment Agency</td>\n",
       "      <td>3-4 Yrs</td>\n",
       "      <td>Noida</td>\n",
       "    </tr>\n",
       "    <tr>\n",
       "      <th>7</th>\n",
       "      <td>Data Specialist</td>\n",
       "      <td>RCPC</td>\n",
       "      <td>4-6 Yrs</td>\n",
       "      <td>Noida</td>\n",
       "    </tr>\n",
       "    <tr>\n",
       "      <th>8</th>\n",
       "      <td>Data scientist- Python</td>\n",
       "      <td>TeamPlus Staffing Solution Pvt Ltd</td>\n",
       "      <td>3-6 Yrs</td>\n",
       "      <td>Gurgaon/Gurugram</td>\n",
       "    </tr>\n",
       "    <tr>\n",
       "      <th>9</th>\n",
       "      <td>Data Scientist</td>\n",
       "      <td>Razor Group GmbH</td>\n",
       "      <td>2-3 Yrs</td>\n",
       "      <td>New Delhi</td>\n",
       "    </tr>\n",
       "    <tr>\n",
       "      <th>10</th>\n",
       "      <td>Senior Data Scientist - Python (f/m/x)</td>\n",
       "      <td>Razor Group GmbH</td>\n",
       "      <td>5-10 Yrs</td>\n",
       "      <td>New Delhi</td>\n",
       "    </tr>\n",
       "  </tbody>\n",
       "</table>\n",
       "</div>"
      ],
      "text/plain": [
       "                                            Job Title  \\\n",
       "0                                      Data Scientist   \n",
       "1                     DigitalBCG GAMMA Data Scientist   \n",
       "2    Urgent hiring For Data Scientist (PHD Must Have)   \n",
       "3   Manager - Data Science - Banking&Financial Ser...   \n",
       "4                                      Data Scientist   \n",
       "5                                      Data Scientist   \n",
       "6                                      Data Scientist   \n",
       "7                                     Data Specialist   \n",
       "8                              Data scientist- Python   \n",
       "9                                      Data Scientist   \n",
       "10             Senior Data Scientist - Python (f/m/x)   \n",
       "\n",
       "                               Company Experience  \\\n",
       "0                              HCLTech    4-9 Yrs   \n",
       "1              Boston Consulting Group    2-5 Yrs   \n",
       "2                         NGI Ventures    0-4 Yrs   \n",
       "3                         Black Turtle    4-8 Yrs   \n",
       "4                 torcai digital media    2-7 Yrs   \n",
       "5                    Meon Technologies    2-5 Yrs   \n",
       "6          Alliance Recruitment Agency    3-4 Yrs   \n",
       "7                                 RCPC    4-6 Yrs   \n",
       "8   TeamPlus Staffing Solution Pvt Ltd    3-6 Yrs   \n",
       "9                     Razor Group GmbH    2-3 Yrs   \n",
       "10                    Razor Group GmbH   5-10 Yrs   \n",
       "\n",
       "                                             Location  \n",
       "0   Noida, Hyderabad/Secunderabad, Chennai, Bangal...  \n",
       "1                      New Delhi, Bangalore/Bengaluru  \n",
       "2                             Temp. WFH - Noida, Pune  \n",
       "3                    Delhi / NCR, Bangalore/Bengaluru  \n",
       "4   Dehradun, Hyderabad/Secunderabad, Gurgaon/Guru...  \n",
       "5                                               Noida  \n",
       "6                                               Noida  \n",
       "7                                               Noida  \n",
       "8                                    Gurgaon/Gurugram  \n",
       "9                                           New Delhi  \n",
       "10                                          New Delhi  "
      ]
     },
     "execution_count": 65,
     "metadata": {},
     "output_type": "execute_result"
    }
   ],
   "source": [
    "jobs2 = pd.DataFrame()\n",
    "jobs2['Job Title'] = job_titles\n",
    "jobs2['Company'] = company_names\n",
    "jobs2['Experience'] = experience\n",
    "jobs2['Location'] = location\n",
    "\n",
    "jobs2"
   ]
  },
  {
   "cell_type": "markdown",
   "id": "a11d69b2",
   "metadata": {},
   "source": [
    "# Question - 4 Solved"
   ]
  },
  {
   "cell_type": "markdown",
   "id": "c9261f3b",
   "metadata": {},
   "source": [
    "# Scrape data of first 100 sunglasses listings on flipkart.com"
   ]
  },
  {
   "cell_type": "code",
   "execution_count": 66,
   "id": "470e2e33",
   "metadata": {},
   "outputs": [],
   "source": [
    "#Opening up flipkart.com website on automated chrome window\n",
    "\n",
    "url = 'https://www.flipkart.com/'\n",
    "driver.get(url)"
   ]
  },
  {
   "cell_type": "code",
   "execution_count": 67,
   "id": "ec6f7f76",
   "metadata": {},
   "outputs": [],
   "source": [
    "#finding the web element for the Search bar and enter sunglasses\n",
    "\n",
    "search_prod = driver.find_element(By.CLASS_NAME,\"_3704LK\") class=\"L0Z3Pu\"\n",
    "search_prod.send_keys(\"Sunglasses\")"
   ]
  },
  {
   "cell_type": "code",
   "execution_count": 68,
   "id": "c8834e9b",
   "metadata": {},
   "outputs": [],
   "source": [
    "#clicking using absolute xpath function to click the search button\n",
    "\n",
    "search_btn = driver.find_element(By.CLASS_NAME,\"L0Z3Pu\")\n",
    "search_btn.click()"
   ]
  },
  {
   "cell_type": "code",
   "execution_count": 69,
   "id": "f72b6ea2",
   "metadata": {},
   "outputs": [],
   "source": [
    "#Extracting the data from multiple pages for the elements needed "
   ]
  },
  {
   "cell_type": "code",
   "execution_count": 70,
   "id": "d730095f",
   "metadata": {},
   "outputs": [],
   "source": [
    "#To scrap data from multiple pages with brand name alone\n",
    "\n",
    "brand_name  = []\n",
    "\n",
    "start = 0\n",
    "\n",
    "end = 3\n",
    "\n",
    "for page in range(start,end):\n",
    "    names = driver.find_elements(By.XPATH,\"//div[@class='_2WkVRV']\")\n",
    "    for i in names:\n",
    "        brand_name.append(i.text)\n",
    "    next_button = driver.find_element(By.XPATH,'//a[@class=\"_1LKTO3\"]//span') #to scrap data from the next page \n",
    "    next_button.click()\n",
    "    time.sleep(3)\n",
    "    "
   ]
  },
  {
   "cell_type": "code",
   "execution_count": 77,
   "id": "d619107a",
   "metadata": {},
   "outputs": [
    {
     "data": {
      "text/plain": [
       "120"
      ]
     },
     "execution_count": 77,
     "metadata": {},
     "output_type": "execute_result"
    }
   ],
   "source": [
    "len(brand_name)"
   ]
  },
  {
   "cell_type": "code",
   "execution_count": 73,
   "id": "a8947056",
   "metadata": {},
   "outputs": [],
   "source": [
    "#To scrap data from multiple pages with product description alone\n",
    "\n",
    "prod_desc  = []\n",
    "\n",
    "start = 0\n",
    "\n",
    "end = 3\n",
    "\n",
    "for page in range(start,end):\n",
    "    desc = driver.find_elements(By.XPATH,'//a[@class=\"IRpwTa\"]')\n",
    "    for i in desc:\n",
    "        prod_desc.append(i.text)\n",
    "    next_button = driver.find_element(By.XPATH,'//a[@class=\"_1LKTO3\"]//span') #to scrap data from the next page \n",
    "    next_button.click()\n",
    "    time.sleep(3)\n",
    "    "
   ]
  },
  {
   "cell_type": "code",
   "execution_count": 78,
   "id": "0399cc5e",
   "metadata": {},
   "outputs": [
    {
     "data": {
      "text/plain": [
       "120"
      ]
     },
     "execution_count": 78,
     "metadata": {},
     "output_type": "execute_result"
    }
   ],
   "source": [
    "len(prod_desc)"
   ]
  },
  {
   "cell_type": "code",
   "execution_count": 80,
   "id": "5c830606",
   "metadata": {},
   "outputs": [],
   "source": [
    "#To scrap data from multiple pages with price alone\n",
    "\n",
    "prod_price  = []\n",
    "\n",
    "start = 0\n",
    "\n",
    "end = 3\n",
    "\n",
    "for page in range(start,end):\n",
    "    price = driver.find_elements(By.XPATH,'//div[@class=\"_30jeq3\"]')\n",
    "    for i in price:\n",
    "        prod_price.append(i.text)\n",
    "    next_button = driver.find_element(By.XPATH,'//a[@class=\"_1LKTO3\"]//span') #to scrap data from the next page \n",
    "    next_button.click()\n",
    "    time.sleep(3)\n",
    "    "
   ]
  },
  {
   "cell_type": "code",
   "execution_count": 81,
   "id": "916e791c",
   "metadata": {},
   "outputs": [
    {
     "data": {
      "text/plain": [
       "120"
      ]
     },
     "execution_count": 81,
     "metadata": {},
     "output_type": "execute_result"
    }
   ],
   "source": [
    "len(prod_price)"
   ]
  },
  {
   "cell_type": "code",
   "execution_count": null,
   "id": "a4a03b2e",
   "metadata": {},
   "outputs": [],
   "source": [
    "#To scrap data from multiple pages with discount % alone\n",
    "\n",
    "prod_discount  = []\n",
    "\n",
    "start = 0\n",
    "\n",
    "end = 3\n",
    "\n",
    "for page in range(start,end):\n",
    "    discount = driver.find_elements(By.XPATH,'//div[@class=\"_3Ay6Sb\"]')\n",
    "    for i in discount:\n",
    "        prod_discount.append(i.text)\n",
    "    next_button = driver.find_element(By.XPATH,'//a[@class=\"_1LKTO3\"]//span') #to scrap data from the next page \n",
    "    next_button.click()\n",
    "    time.sleep(3)\n",
    "    "
   ]
  },
  {
   "cell_type": "code",
   "execution_count": 83,
   "id": "d6bf85a5",
   "metadata": {},
   "outputs": [
    {
     "data": {
      "text/plain": [
       "120"
      ]
     },
     "execution_count": 83,
     "metadata": {},
     "output_type": "execute_result"
    }
   ],
   "source": [
    "len(prod_discount)"
   ]
  },
  {
   "cell_type": "markdown",
   "id": "74c0ae25",
   "metadata": {},
   "source": [
    "# Question 5 - Solved"
   ]
  },
  {
   "cell_type": "markdown",
   "id": "f5c506dd",
   "metadata": {},
   "source": [
    "# Scrape 100 reviews data from flipkart.com for iphone11 phone"
   ]
  },
  {
   "cell_type": "code",
   "execution_count": 85,
   "id": "0e529d79",
   "metadata": {},
   "outputs": [],
   "source": [
    "#Opening up flipkart.com website on automated chrome window\n",
    "\n",
    "url = 'https://www.flipkart.com/apple-iphone-11-black-64-gb/product-reviews/itm4e5041ba101fd?pid=MOBFWQ6BXGJCEYNY&lid=LSTMOBFWQ6BXGJCEYNYZXSHRJ&marketplace=FLIPKART'\n",
    "driver.get(url)"
   ]
  },
  {
   "cell_type": "code",
   "execution_count": 86,
   "id": "1d9961b2",
   "metadata": {},
   "outputs": [],
   "source": [
    "#Extracting the data from multiple pages for the elements needed "
   ]
  },
  {
   "cell_type": "code",
   "execution_count": 89,
   "id": "938388b2",
   "metadata": {},
   "outputs": [],
   "source": [
    "#To scrap data from multiple pages with rating score alone\n",
    "\n",
    "rating_score  = []\n",
    "\n",
    "start = 0\n",
    "\n",
    "end = 10\n",
    "\n",
    "for page in range(start,end):\n",
    "    rating = driver.find_elements(By.XPATH,'//div[@class=\"_3LWZlK _1BLPMq\"]')\n",
    "    for i in rating:\n",
    "        rating_score.append(i.text)\n",
    "    next_button = driver.find_element(By.XPATH,'//a[@class=\"_1LKTO3\"]//span') #to scrap data from the next page \n",
    "    next_button.click()\n",
    "    time.sleep(3)\n",
    "    "
   ]
  },
  {
   "cell_type": "code",
   "execution_count": 90,
   "id": "2fac8537",
   "metadata": {},
   "outputs": [
    {
     "data": {
      "text/plain": [
       "100"
      ]
     },
     "execution_count": 90,
     "metadata": {},
     "output_type": "execute_result"
    }
   ],
   "source": [
    "len(rating_score)"
   ]
  },
  {
   "cell_type": "code",
   "execution_count": 93,
   "id": "2ed71205",
   "metadata": {},
   "outputs": [],
   "source": [
    "#To scrap data from multiple pages with full review  alone\n",
    "\n",
    "review_full  = []\n",
    "\n",
    "start = 0\n",
    "\n",
    "end = 10\n",
    "\n",
    "for page in range(start,end):\n",
    "    summary = driver.find_elements(By.XPATH,'//div[@class=\"t-ZTKy\"]')\n",
    "    for i in summary:\n",
    "        review_full.append(i.text)\n",
    "    next_button = driver.find_element(By.XPATH,'//a[@class=\"_1LKTO3\"]//span') #to scrap data from the next page \n",
    "    next_button.click()\n",
    "    time.sleep(3)\n",
    "    "
   ]
  },
  {
   "cell_type": "code",
   "execution_count": 94,
   "id": "bc3f6e0e",
   "metadata": {},
   "outputs": [
    {
     "data": {
      "text/plain": [
       "100"
      ]
     },
     "execution_count": 94,
     "metadata": {},
     "output_type": "execute_result"
    }
   ],
   "source": [
    "len(review_full)"
   ]
  },
  {
   "cell_type": "code",
   "execution_count": 95,
   "id": "877e0dc1",
   "metadata": {},
   "outputs": [],
   "source": [
    "#To scrap data from multiple pages with review summary alone\n",
    "\n",
    "review_summary  = []\n",
    "\n",
    "start = 0\n",
    "\n",
    "end = 10\n",
    "\n",
    "for page in range(start,end):\n",
    "    headline = driver.find_elements(By.XPATH,'//p[@class=\"_2-N8zT\"]')\n",
    "    for i in headline:\n",
    "        review_summary.append(i.text)\n",
    "    next_button = driver.find_element(By.XPATH,'//a[@class=\"_1LKTO3\"]//span') #to scrap data from the next page \n",
    "    next_button.click()\n",
    "    time.sleep(3)\n",
    "    "
   ]
  },
  {
   "cell_type": "code",
   "execution_count": 96,
   "id": "26560c5a",
   "metadata": {},
   "outputs": [
    {
     "data": {
      "text/plain": [
       "100"
      ]
     },
     "execution_count": 96,
     "metadata": {},
     "output_type": "execute_result"
    }
   ],
   "source": [
    "len(review_summary)"
   ]
  },
  {
   "cell_type": "code",
   "execution_count": 97,
   "id": "470ea724",
   "metadata": {},
   "outputs": [],
   "source": [
    "driver.close()"
   ]
  },
  {
   "cell_type": "markdown",
   "id": "6c0fb99c",
   "metadata": {},
   "source": [
    "# Question 6 - Solved "
   ]
  },
  {
   "cell_type": "markdown",
   "id": "497d479f",
   "metadata": {},
   "source": [
    "## Scrape data for first 100 sneakers you find when you visit flipkart.com"
   ]
  },
  {
   "cell_type": "code",
   "execution_count": 2,
   "id": "e4df554c",
   "metadata": {},
   "outputs": [],
   "source": [
    "#Lets import all the necessary libraries \n",
    "\n",
    "import selenium                                     #library that is used to work with Selenium\n",
    "from selenium import webdriver                      # importing webdriver module from selenium to open automated chrome window\n",
    "import pandas as pd                                 # To create a Database\n",
    "from selenium.webdriver.common.by import By         # importing inbuilt class By\n",
    "import warnings\n",
    "warnings.filterwarnings('ignore')                   # to ignore any sort of warning\n",
    "import time                                         #used to stop search engine for a few secods"
   ]
  },
  {
   "cell_type": "code",
   "execution_count": 3,
   "id": "1b1722ba",
   "metadata": {},
   "outputs": [],
   "source": [
    "driver = webdriver.Chrome('chromedriver.exe') # Lets connect to the web driver"
   ]
  },
  {
   "cell_type": "code",
   "execution_count": 4,
   "id": "292fc1a1",
   "metadata": {},
   "outputs": [],
   "source": [
    "#Lets Maximize thw automated chrome window\n",
    "\n",
    "driver.maximize_window()"
   ]
  },
  {
   "cell_type": "code",
   "execution_count": 5,
   "id": "fe2b30c4",
   "metadata": {},
   "outputs": [],
   "source": [
    "#Opening up flipkart.com website on automated chrome window\n",
    "\n",
    "url = 'https://www.flipkart.com/'\n",
    "driver.get(url)"
   ]
  },
  {
   "cell_type": "code",
   "execution_count": 6,
   "id": "df9327ef",
   "metadata": {},
   "outputs": [],
   "source": [
    "#finding the web element for the Search bar and enter Sneakers\n",
    "\n",
    "search_prod = driver.find_element(By.CLASS_NAME,\"_3704LK\") \n",
    "search_prod.send_keys(\"Sneakers\")"
   ]
  },
  {
   "cell_type": "code",
   "execution_count": 7,
   "id": "0caf08b1",
   "metadata": {},
   "outputs": [],
   "source": [
    "#clicking using absolute xpath function to click the search button\n",
    "\n",
    "search_btn = driver.find_element(By.CLASS_NAME,\"L0Z3Pu\")\n",
    "search_btn.click()"
   ]
  },
  {
   "cell_type": "code",
   "execution_count": 9,
   "id": "dd913f83",
   "metadata": {},
   "outputs": [],
   "source": [
    "#Extracting the data from multiple pages for the elements needed "
   ]
  },
  {
   "cell_type": "code",
   "execution_count": 10,
   "id": "b8079d33",
   "metadata": {},
   "outputs": [],
   "source": [
    "#To scrap data from multiple pages with brand name alone\n",
    "\n",
    "brand_name  = []\n",
    "\n",
    "start = 0\n",
    "\n",
    "end = 3\n",
    "\n",
    "for page in range(start,end):\n",
    "    names = driver.find_elements(By.XPATH,\"//div[@class='_2WkVRV']\")\n",
    "    for i in names:\n",
    "        brand_name.append(i.text)\n",
    "    next_button = driver.find_element(By.XPATH,'//a[@class=\"_1LKTO3\"]//span') #to scrap data from the next page \n",
    "    next_button.click()\n",
    "    time.sleep(3)\n",
    "    "
   ]
  },
  {
   "cell_type": "code",
   "execution_count": 11,
   "id": "e3459a6f",
   "metadata": {},
   "outputs": [
    {
     "data": {
      "text/plain": [
       "120"
      ]
     },
     "execution_count": 11,
     "metadata": {},
     "output_type": "execute_result"
    }
   ],
   "source": [
    "len(brand_name)"
   ]
  },
  {
   "cell_type": "code",
   "execution_count": 18,
   "id": "c522ffb3",
   "metadata": {},
   "outputs": [],
   "source": [
    "#To scrap data from multiple pages with product description alone\n",
    "\n",
    "prod_desc  = []\n",
    "\n",
    "start = 0\n",
    "\n",
    "end = 4\n",
    "\n",
    "for page in range(start,end):\n",
    "    desc = driver.find_elements(By.XPATH,'//a[@class=\"IRpwTa\"]')\n",
    "    for i in desc:\n",
    "        prod_desc.append(i.text)\n",
    "    next_button = driver.find_element(By.XPATH,'//a[@class=\"_1LKTO3\"]//span') #to scrap data from the next page \n",
    "    next_button.click()\n",
    "    time.sleep(3)\n",
    "    "
   ]
  },
  {
   "cell_type": "code",
   "execution_count": 19,
   "id": "d3e5b085",
   "metadata": {},
   "outputs": [
    {
     "data": {
      "text/plain": [
       "132"
      ]
     },
     "execution_count": 19,
     "metadata": {},
     "output_type": "execute_result"
    }
   ],
   "source": [
    "len(prod_desc)"
   ]
  },
  {
   "cell_type": "code",
   "execution_count": 14,
   "id": "60e96cdf",
   "metadata": {},
   "outputs": [],
   "source": [
    "#To scrap data from multiple pages with price alone\n",
    "\n",
    "prod_price  = []\n",
    "\n",
    "start = 0\n",
    "\n",
    "end = 3\n",
    "\n",
    "for page in range(start,end):\n",
    "    price = driver.find_elements(By.XPATH,'//div[@class=\"_30jeq3\"]')\n",
    "    for i in price:\n",
    "        prod_price.append(i.text)\n",
    "    next_button = driver.find_element(By.XPATH,'//a[@class=\"_1LKTO3\"]//span') #to scrap data from the next page \n",
    "    next_button.click()\n",
    "    time.sleep(3)\n",
    "    "
   ]
  },
  {
   "cell_type": "code",
   "execution_count": 15,
   "id": "8b321697",
   "metadata": {},
   "outputs": [
    {
     "data": {
      "text/plain": [
       "120"
      ]
     },
     "execution_count": 15,
     "metadata": {},
     "output_type": "execute_result"
    }
   ],
   "source": [
    "len(prod_price)"
   ]
  },
  {
   "cell_type": "code",
   "execution_count": 16,
   "id": "930d07a9",
   "metadata": {},
   "outputs": [],
   "source": [
    "#To scrap data from multiple pages with discount % alone\n",
    "\n",
    "prod_discount  = []\n",
    "\n",
    "start = 0\n",
    "\n",
    "end = 3\n",
    "\n",
    "for page in range(start,end):\n",
    "    discount = driver.find_elements(By.XPATH,'//div[@class=\"_3Ay6Sb\"]')\n",
    "    for i in discount:\n",
    "        prod_discount.append(i.text)\n",
    "    next_button = driver.find_element(By.XPATH,'//a[@class=\"_1LKTO3\"]//span') #to scrap data from the next page \n",
    "    next_button.click()\n",
    "    time.sleep(3)\n",
    "    "
   ]
  },
  {
   "cell_type": "code",
   "execution_count": 17,
   "id": "3f867203",
   "metadata": {},
   "outputs": [
    {
     "data": {
      "text/plain": [
       "120"
      ]
     },
     "execution_count": 17,
     "metadata": {},
     "output_type": "execute_result"
    }
   ],
   "source": [
    "len(prod_discount)"
   ]
  },
  {
   "cell_type": "markdown",
   "id": "a7fb211a",
   "metadata": {},
   "source": [
    "# Question 7 - Solved"
   ]
  },
  {
   "cell_type": "markdown",
   "id": "0f77cdab",
   "metadata": {},
   "source": [
    "# scrape First 100 shoes data you get from Myntra"
   ]
  },
  {
   "cell_type": "code",
   "execution_count": 24,
   "id": "86d0b3de",
   "metadata": {},
   "outputs": [],
   "source": [
    "#Opening up myntra.com website on automated chrome window\n",
    "\n",
    "url = 'https://www.myntra.com/shoes'\n",
    "driver.get(url)"
   ]
  },
  {
   "cell_type": "code",
   "execution_count": 27,
   "id": "c2c45bce",
   "metadata": {},
   "outputs": [],
   "source": [
    "#finding web element for the select Price filter using absolute Xpath for Rs. 7198 to Rs. 14133 range\n",
    "\n",
    "Price_filter = driver.find_element(By.XPATH,'/html/body/div[2]/div/main/div[3]/div[1]/section/div/div[5]/ul/li[2]/label/div')\n",
    "Price_filter.click()"
   ]
  },
  {
   "cell_type": "code",
   "execution_count": 28,
   "id": "2f43e11d",
   "metadata": {},
   "outputs": [],
   "source": [
    "#finding web element for the select Color filter using absolute Xpath for Black color\n",
    "\n",
    "Color_filter = driver.find_element(By.XPATH,'/html/body/div[2]/div/main/div[3]/div[1]/section/div/div[6]/ul/li[1]/label/div')\n",
    "Color_filter.click()"
   ]
  },
  {
   "cell_type": "code",
   "execution_count": 33,
   "id": "c7668ddc",
   "metadata": {},
   "outputs": [],
   "source": [
    "#To scrap data from multiple pages with brand name alone from Myntra\n",
    "\n",
    "brand_name  = []\n",
    "\n",
    "start = 0\n",
    "\n",
    "end = 2\n",
    "\n",
    "for page in range(start,end):\n",
    "    names = driver.find_elements(By.XPATH,'//h3[@class=\"product-brand\"]')\n",
    "    for i in names:\n",
    "        brand_name.append(i.text)\n",
    "    next_button = driver.find_element(By.XPATH,'//li[@class=\"pagination-next\"]//span') #to scrap data from the next page \n",
    "    next_button.click()\n",
    "    time.sleep(3)\n",
    "    "
   ]
  },
  {
   "cell_type": "code",
   "execution_count": 34,
   "id": "220e072d",
   "metadata": {},
   "outputs": [
    {
     "data": {
      "text/plain": [
       "100"
      ]
     },
     "execution_count": 34,
     "metadata": {},
     "output_type": "execute_result"
    }
   ],
   "source": [
    "len(brand_name)"
   ]
  },
  {
   "cell_type": "code",
   "execution_count": 35,
   "id": "5e080e8b",
   "metadata": {},
   "outputs": [],
   "source": [
    "#To scrap data from multiple pages with product description alone from Myntra\n",
    "\n",
    "prod_desc  = []\n",
    "\n",
    "start = 0\n",
    "\n",
    "end = 2\n",
    "\n",
    "for page in range(start,end):\n",
    "    desc = driver.find_elements(By.XPATH,'//h4[@class=\"product-product\"]')\n",
    "    for i in desc:\n",
    "        prod_desc.append(i.text)\n",
    "    next_button = driver.find_element(By.XPATH,'//li[@class=\"pagination-next\"]//span') #to scrap data from the next page \n",
    "    next_button.click()\n",
    "    time.sleep(3)\n",
    "    "
   ]
  },
  {
   "cell_type": "code",
   "execution_count": 36,
   "id": "2a3fee38",
   "metadata": {},
   "outputs": [
    {
     "data": {
      "text/plain": [
       "100"
      ]
     },
     "execution_count": 36,
     "metadata": {},
     "output_type": "execute_result"
    }
   ],
   "source": [
    "len(prod_desc)"
   ]
  },
  {
   "cell_type": "code",
   "execution_count": 38,
   "id": "1e4e313a",
   "metadata": {},
   "outputs": [],
   "source": [
    "#To scrap data from multiple pages with price alone from Myntra\n",
    "\n",
    "prod_price  = []\n",
    "\n",
    "start = 0\n",
    "\n",
    "end = 2\n",
    "\n",
    "for page in range(start,end):\n",
    "    price = driver.find_elements(By.XPATH,'//div[@class=\"product-price\"]')\n",
    "    for i in price:\n",
    "        prod_price.append(i.text)\n",
    "    next_button = driver.find_element(By.XPATH,'//li[@class=\"pagination-next\"]//span') #to scrap data from the next page \n",
    "    next_button.click()\n",
    "    time.sleep(3)\n",
    "    "
   ]
  },
  {
   "cell_type": "code",
   "execution_count": 39,
   "id": "355393b5",
   "metadata": {},
   "outputs": [
    {
     "data": {
      "text/plain": [
       "100"
      ]
     },
     "execution_count": 39,
     "metadata": {},
     "output_type": "execute_result"
    }
   ],
   "source": [
    "len(prod_price)"
   ]
  },
  {
   "cell_type": "markdown",
   "id": "2baa9837",
   "metadata": {},
   "source": [
    "# Question 8 - Solved "
   ]
  },
  {
   "cell_type": "markdown",
   "id": "750ef9b3",
   "metadata": {},
   "source": [
    "# scrape first 10 laptops data from Amazon"
   ]
  },
  {
   "cell_type": "code",
   "execution_count": 40,
   "id": "593e02fb",
   "metadata": {},
   "outputs": [],
   "source": [
    "#Opening up amazon.com website on automated chrome window\n",
    "\n",
    "url = 'https://www.amazon.in/'\n",
    "driver.get(url)"
   ]
  },
  {
   "cell_type": "code",
   "execution_count": 45,
   "id": "a02c47c6",
   "metadata": {},
   "outputs": [],
   "source": [
    "#finding the web element for the Search bar and enter Laptops\n",
    "\n",
    "search_prod = driver.find_element(By.XPATH,\"/html/body/div[1]/header/div/div[1]/div[2]/div/form/div[2]/div[1]/input\") \n",
    "search_prod.send_keys(\"Laptop\")"
   ]
  },
  {
   "cell_type": "code",
   "execution_count": 47,
   "id": "3bcde734",
   "metadata": {},
   "outputs": [],
   "source": [
    "#clicking using absolute xpath function to click the search button\n",
    "\n",
    "search_btn =  driver.find_element(By.XPATH,\"/html/body/div[1]/header/div/div[1]/div[2]/div/form/div[3]/div/span/input\")\n",
    "search_btn.click()"
   ]
  },
  {
   "cell_type": "code",
   "execution_count": 48,
   "id": "ee1e1483",
   "metadata": {},
   "outputs": [],
   "source": [
    "#finding web element for the select CPU Processor filter using absolute Xpath for Intel Core i7\n",
    "\n",
    "CPU_filter = driver.find_element(By.XPATH,'/html/body/div[1]/div[2]/div[1]/div[2]/div/div[3]/span/div[1]/div/div/div[6]/ul[5]/li[10]/span/a/div/label/i')\n",
    "CPU_filter.click()"
   ]
  },
  {
   "cell_type": "code",
   "execution_count": 49,
   "id": "2ed64e8e",
   "metadata": {},
   "outputs": [
    {
     "data": {
      "text/plain": [
       "24"
      ]
     },
     "execution_count": 49,
     "metadata": {},
     "output_type": "execute_result"
    }
   ],
   "source": [
    "#Lets extract all the elements having Product titles\n",
    "\n",
    "prod_titles = []\n",
    "title_tags = driver.find_elements(By.XPATH,'//div[@class=\"a-section a-spacing-none puis-padding-right-small s-title-instructions-style\"]')\n",
    "for i in title_tags:\n",
    "    prod_titles.append(i.text)\n",
    "len(prod_titles)"
   ]
  },
  {
   "cell_type": "code",
   "execution_count": 51,
   "id": "11f66650",
   "metadata": {},
   "outputs": [
    {
     "data": {
      "text/plain": [
       "20"
      ]
     },
     "execution_count": 51,
     "metadata": {},
     "output_type": "execute_result"
    }
   ],
   "source": [
    "#Lets extract all the elements having ratings for laptops  \n",
    "\n",
    "prod_rating = []\n",
    "rating = driver.find_elements(By.XPATH,'//span[@class=\"a-size-base puis-light-weight-text s-link-centralized-style\"]')\n",
    "for i in rating:\n",
    "    prod_rating.append(i.text)\n",
    "len(prod_rating)"
   ]
  },
  {
   "cell_type": "code",
   "execution_count": 50,
   "id": "23d6b1c0",
   "metadata": {},
   "outputs": [
    {
     "data": {
      "text/plain": [
       "32"
      ]
     },
     "execution_count": 50,
     "metadata": {},
     "output_type": "execute_result"
    }
   ],
   "source": [
    "#Lets extract all the elements having price for laptops  \n",
    "\n",
    "prod_prices = []\n",
    "price = driver.find_elements(By.XPATH,'//span[@class=\"a-price-whole\"]')\n",
    "for i in price:\n",
    "    prod_prices.append(i.text)\n",
    "len(prod_prices)"
   ]
  },
  {
   "cell_type": "markdown",
   "id": "9450b619",
   "metadata": {},
   "source": [
    "# Question 9 - Solved "
   ]
  },
  {
   "cell_type": "markdown",
   "id": "c15062b0",
   "metadata": {},
   "source": [
    "# scrape data for Top 1000 Quotes of All Time"
   ]
  },
  {
   "cell_type": "code",
   "execution_count": 52,
   "id": "5289a164",
   "metadata": {},
   "outputs": [],
   "source": [
    "#Opening up azquotes.com website on automated chrome window\n",
    "\n",
    "url = 'https://www.azquotes.com/'\n",
    "driver.get(url)"
   ]
  },
  {
   "cell_type": "code",
   "execution_count": 53,
   "id": "5a42790a",
   "metadata": {},
   "outputs": [],
   "source": [
    "#finding the web element for the Top Quotes button to go to the page \n",
    "\n",
    "quotes_btn= driver.find_element(By.XPATH,\"/html/body/div[1]/div[1]/div[1]/div/div[3]/ul/li[5]/a\") \n",
    "quotes_btn.click()"
   ]
  },
  {
   "cell_type": "code",
   "execution_count": 58,
   "id": "ef5127a0",
   "metadata": {},
   "outputs": [],
   "source": [
    "#To scrap data from multiple pages with Quotes alone\n",
    "\n",
    "oly_quotes  = []\n",
    "\n",
    "start = 0\n",
    "\n",
    "end = 10\n",
    "\n",
    "for page in range(start,end):\n",
    "    quotes = driver.find_elements(By.XPATH,'//a[@class=\"title\"]')\n",
    "    for i in quotes:\n",
    "        oly_quotes.append(i.text)\n",
    "    next_button = driver.find_element(By.XPATH,'/html/body/div[1]/div[2]/div/div/div/div[1]/div/div[3]/li[12]/a') #to scrap data from the next page \n",
    "    next_button.click()\n",
    "    time.sleep(3)\n",
    "    "
   ]
  },
  {
   "cell_type": "code",
   "execution_count": 59,
   "id": "70f3cc48",
   "metadata": {},
   "outputs": [
    {
     "data": {
      "text/plain": [
       "1000"
      ]
     },
     "execution_count": 59,
     "metadata": {},
     "output_type": "execute_result"
    }
   ],
   "source": [
    "len(oly_quotes)"
   ]
  },
  {
   "cell_type": "code",
   "execution_count": 61,
   "id": "331a7c3c",
   "metadata": {},
   "outputs": [],
   "source": [
    "#To scrap data from multiple pages with Author names alone\n",
    "\n",
    "oly_author  = []\n",
    "\n",
    "start = 0\n",
    "\n",
    "end = 10\n",
    "\n",
    "for page in range(start,end):\n",
    "    author = driver.find_elements(By.XPATH,'//div[@class=\"author\"]')\n",
    "    for i in author:\n",
    "        oly_author.append(i.text)\n",
    "    next_button = driver.find_element(By.XPATH,'/html/body/div[1]/div[2]/div/div/div/div[1]/div/div[3]/li[12]/a') #to scrap data from the next page \n",
    "    next_button.click()\n",
    "    time.sleep(3)\n",
    "    "
   ]
  },
  {
   "cell_type": "code",
   "execution_count": 62,
   "id": "1da1e89b",
   "metadata": {},
   "outputs": [
    {
     "data": {
      "text/plain": [
       "1000"
      ]
     },
     "execution_count": 62,
     "metadata": {},
     "output_type": "execute_result"
    }
   ],
   "source": [
    "len(oly_author)"
   ]
  },
  {
   "cell_type": "code",
   "execution_count": 63,
   "id": "dd7929af",
   "metadata": {},
   "outputs": [],
   "source": [
    "#To scrap data from multiple pages withtypes of Quotes alone\n",
    "\n",
    "oly_type  = []\n",
    "\n",
    "start = 0\n",
    "\n",
    "end = 10\n",
    "\n",
    "for page in range(start,end):\n",
    "    types = driver.find_elements(By.XPATH,'//div[@class=\"tags\"]')\n",
    "    for i in types:\n",
    "        oly_type.append(i.text)\n",
    "    next_button = driver.find_element(By.XPATH,'/html/body/div[1]/div[2]/div/div/div/div[1]/div/div[3]/li[12]/a') #to scrap data from the next page \n",
    "    next_button.click()\n",
    "    time.sleep(3)\n",
    "    "
   ]
  },
  {
   "cell_type": "code",
   "execution_count": 64,
   "id": "f149c9c9",
   "metadata": {},
   "outputs": [
    {
     "data": {
      "text/plain": [
       "1000"
      ]
     },
     "execution_count": 64,
     "metadata": {},
     "output_type": "execute_result"
    }
   ],
   "source": [
    "len(oly_type)"
   ]
  },
  {
   "cell_type": "markdown",
   "id": "7b41228e",
   "metadata": {},
   "source": [
    "# Question 10 - Solved"
   ]
  },
  {
   "cell_type": "markdown",
   "id": "e41b10a4",
   "metadata": {},
   "source": [
    "# display list of respected former Prime Ministers of India"
   ]
  },
  {
   "cell_type": "code",
   "execution_count": 66,
   "id": "6feee086",
   "metadata": {},
   "outputs": [],
   "source": [
    "#Opening up https://www.jagranjosh.com/ website on automated chrome window\n",
    "\n",
    "url = 'https://www.jagranjosh.com/'\n",
    "driver.get(url)"
   ]
  },
  {
   "cell_type": "code",
   "execution_count": 67,
   "id": "16efbe26",
   "metadata": {},
   "outputs": [],
   "source": [
    "#finding the web element for the GK button to go to the page \n",
    "\n",
    "Gk_btn= driver.find_element(By.XPATH,\"/html/body/div/div[1]/div/div[1]/div/div[6]/div/div[1]/header/div[3]/ul/li[9]/a\") \n",
    "Gk_btn.click()"
   ]
  },
  {
   "cell_type": "code",
   "execution_count": 68,
   "id": "34136a42",
   "metadata": {},
   "outputs": [],
   "source": [
    "#finding the web element for the List of all Prime Ministers of India button to go to the page \n",
    "\n",
    "PM_btn= driver.find_element(By.XPATH,\"/html/body/div[1]/div/div/div[2]/div/div[10]/div/div/ul/li[2]/a\") \n",
    "PM_btn.click()"
   ]
  },
  {
   "cell_type": "code",
   "execution_count": null,
   "id": "f98f94ec",
   "metadata": {},
   "outputs": [],
   "source": [
    "#Scraping the table data from the website as we dont have individual classes in the page"
   ]
  },
  {
   "cell_type": "code",
   "execution_count": 91,
   "id": "baca79ed",
   "metadata": {},
   "outputs": [
    {
     "data": {
      "text/html": [
       "<div>\n",
       "<style scoped>\n",
       "    .dataframe tbody tr th:only-of-type {\n",
       "        vertical-align: middle;\n",
       "    }\n",
       "\n",
       "    .dataframe tbody tr th {\n",
       "        vertical-align: top;\n",
       "    }\n",
       "\n",
       "    .dataframe thead th {\n",
       "        text-align: right;\n",
       "    }\n",
       "</style>\n",
       "<table border=\"1\" class=\"dataframe\">\n",
       "  <thead>\n",
       "    <tr style=\"text-align: right;\">\n",
       "      <th></th>\n",
       "      <th>S.N.</th>\n",
       "      <th>Name</th>\n",
       "      <th>Born-Dead</th>\n",
       "      <th>Term of office</th>\n",
       "      <th>Remark</th>\n",
       "    </tr>\n",
       "  </thead>\n",
       "  <tbody>\n",
       "    <tr>\n",
       "      <th>0</th>\n",
       "      <td>1.0</td>\n",
       "      <td>Jawahar Lal Nehru</td>\n",
       "      <td>(1889–1964)</td>\n",
       "      <td>15 August 1947 to 27 May 1964 16 years, 286 days</td>\n",
       "      <td>The first prime minister of India and the long...</td>\n",
       "    </tr>\n",
       "    <tr>\n",
       "      <th>1</th>\n",
       "      <td>2.0</td>\n",
       "      <td>Gulzarilal Nanda (Acting)</td>\n",
       "      <td>(1898-1998)</td>\n",
       "      <td>27 May 1964 to 9 June 1964, 13 days</td>\n",
       "      <td>First acting PM of India</td>\n",
       "    </tr>\n",
       "    <tr>\n",
       "      <th>2</th>\n",
       "      <td>3.0</td>\n",
       "      <td>Lal Bahadur Shastri</td>\n",
       "      <td>(1904–1966)</td>\n",
       "      <td>9 June 1964 to 11 January 1966 1 year, 216 days</td>\n",
       "      <td>He has given the slogan of 'Jai Jawan Jai Kisa...</td>\n",
       "    </tr>\n",
       "    <tr>\n",
       "      <th>3</th>\n",
       "      <td>4.0</td>\n",
       "      <td>Gulzari Lal Nanda (Acting)</td>\n",
       "      <td>(1898-1998)</td>\n",
       "      <td>11 January 1966 to 24 January 1966 13 days</td>\n",
       "      <td>-</td>\n",
       "    </tr>\n",
       "    <tr>\n",
       "      <th>4</th>\n",
       "      <td>5.0</td>\n",
       "      <td>Indira Gandhi</td>\n",
       "      <td>(1917–1984)</td>\n",
       "      <td>24 January 1966 to 24 March 1977 11 years, 59 ...</td>\n",
       "      <td>First female Prime Minister of India</td>\n",
       "    </tr>\n",
       "    <tr>\n",
       "      <th>5</th>\n",
       "      <td>6.0</td>\n",
       "      <td>Morarji Desai</td>\n",
       "      <td>(1896–1995)</td>\n",
       "      <td>24 March 1977 to 28 July 1979 2 year, 126 days</td>\n",
       "      <td>Oldest to become PM (81 years old) and first t...</td>\n",
       "    </tr>\n",
       "    <tr>\n",
       "      <th>6</th>\n",
       "      <td>7.0</td>\n",
       "      <td>Charan Singh</td>\n",
       "      <td>(1902–1987)</td>\n",
       "      <td>28 July 1979 to 14 January 1980 170 days</td>\n",
       "      <td>Only PM who did not face the Parliament</td>\n",
       "    </tr>\n",
       "    <tr>\n",
       "      <th>7</th>\n",
       "      <td>8.0</td>\n",
       "      <td>Indira Gandhi</td>\n",
       "      <td>(1917–1984)</td>\n",
       "      <td>14 January 1980 to 31 October 1984 4 years, 29...</td>\n",
       "      <td>The first lady who served as PM for the second...</td>\n",
       "    </tr>\n",
       "    <tr>\n",
       "      <th>8</th>\n",
       "      <td>9.0</td>\n",
       "      <td>Rajiv Gandhi</td>\n",
       "      <td>(1944–1991)</td>\n",
       "      <td>31 October 1984 to 2 December 1989 5 years, 32...</td>\n",
       "      <td>Youngest to become PM (40 years old)</td>\n",
       "    </tr>\n",
       "    <tr>\n",
       "      <th>9</th>\n",
       "      <td>10.0</td>\n",
       "      <td>V. P. Singh</td>\n",
       "      <td>(1931–2008)</td>\n",
       "      <td>2 December 1989 to 10 November 1990 343 days</td>\n",
       "      <td>First PM to step down after a vote of no confi...</td>\n",
       "    </tr>\n",
       "    <tr>\n",
       "      <th>10</th>\n",
       "      <td>11.0</td>\n",
       "      <td>Chandra Shekhar</td>\n",
       "      <td>(1927–2007)</td>\n",
       "      <td>10 November 1990 to 21 June 1991 223 days</td>\n",
       "      <td>He belongs to Samajwadi Janata Party</td>\n",
       "    </tr>\n",
       "    <tr>\n",
       "      <th>11</th>\n",
       "      <td>12.0</td>\n",
       "      <td>P. V. Narasimha Rao</td>\n",
       "      <td>(1921–2004)</td>\n",
       "      <td>21 June 1991 to 16 May 1996 4 years, 330 days</td>\n",
       "      <td>First PM from south India</td>\n",
       "    </tr>\n",
       "    <tr>\n",
       "      <th>12</th>\n",
       "      <td>13.0</td>\n",
       "      <td>Atal Bihari Vajpayee</td>\n",
       "      <td>(1924- 2018)</td>\n",
       "      <td>16 May 1996 to 1 June 1996 16 days</td>\n",
       "      <td>PM for shortest tenure</td>\n",
       "    </tr>\n",
       "    <tr>\n",
       "      <th>13</th>\n",
       "      <td>14.0</td>\n",
       "      <td>H. D. Deve Gowda</td>\n",
       "      <td>(born 1933)</td>\n",
       "      <td>1 June 1996 to 21 April 1997 324 days</td>\n",
       "      <td>He belongs to Janata Dal</td>\n",
       "    </tr>\n",
       "    <tr>\n",
       "      <th>14</th>\n",
       "      <td>15.0</td>\n",
       "      <td>Inder Kumar Gujral</td>\n",
       "      <td>(1919–2012)</td>\n",
       "      <td>21 April 1997 to 19 March 1998 332 days</td>\n",
       "      <td>------</td>\n",
       "    </tr>\n",
       "    <tr>\n",
       "      <th>15</th>\n",
       "      <td>16.0</td>\n",
       "      <td>Atal Bihari Vajpayee</td>\n",
       "      <td>(1924-2018)</td>\n",
       "      <td>19 March 1998 to 22 May 2004 6 years, 64 days</td>\n",
       "      <td>The first non-congress PM who completed a full...</td>\n",
       "    </tr>\n",
       "    <tr>\n",
       "      <th>16</th>\n",
       "      <td>17.0</td>\n",
       "      <td>Manmohan Singh</td>\n",
       "      <td>(born 1932)</td>\n",
       "      <td>22 May 2004 to 26 May 2014 10 years, 4 days</td>\n",
       "      <td>First Sikh PM</td>\n",
       "    </tr>\n",
       "    <tr>\n",
       "      <th>17</th>\n",
       "      <td>18.0</td>\n",
       "      <td>Narendra Modi</td>\n",
       "      <td>(born 1950)</td>\n",
       "      <td>26 May 2014 - Present</td>\n",
       "      <td>4th Prime Minister of India who served two con...</td>\n",
       "    </tr>\n",
       "  </tbody>\n",
       "</table>\n",
       "</div>"
      ],
      "text/plain": [
       "    S.N.                        Name     Born-Dead  \\\n",
       "0    1.0           Jawahar Lal Nehru   (1889–1964)   \n",
       "1    2.0   Gulzarilal Nanda (Acting)   (1898-1998)   \n",
       "2    3.0         Lal Bahadur Shastri   (1904–1966)   \n",
       "3    4.0  Gulzari Lal Nanda (Acting)   (1898-1998)   \n",
       "4    5.0               Indira Gandhi   (1917–1984)   \n",
       "5    6.0               Morarji Desai   (1896–1995)   \n",
       "6    7.0                Charan Singh   (1902–1987)   \n",
       "7    8.0               Indira Gandhi   (1917–1984)   \n",
       "8    9.0                Rajiv Gandhi   (1944–1991)   \n",
       "9   10.0                 V. P. Singh   (1931–2008)   \n",
       "10  11.0             Chandra Shekhar   (1927–2007)   \n",
       "11  12.0         P. V. Narasimha Rao   (1921–2004)   \n",
       "12  13.0        Atal Bihari Vajpayee  (1924- 2018)   \n",
       "13  14.0            H. D. Deve Gowda   (born 1933)   \n",
       "14  15.0          Inder Kumar Gujral   (1919–2012)   \n",
       "15  16.0        Atal Bihari Vajpayee   (1924-2018)   \n",
       "16  17.0              Manmohan Singh   (born 1932)   \n",
       "17  18.0               Narendra Modi   (born 1950)   \n",
       "\n",
       "                                       Term of office  \\\n",
       "0    15 August 1947 to 27 May 1964 16 years, 286 days   \n",
       "1                 27 May 1964 to 9 June 1964, 13 days   \n",
       "2     9 June 1964 to 11 January 1966 1 year, 216 days   \n",
       "3          11 January 1966 to 24 January 1966 13 days   \n",
       "4   24 January 1966 to 24 March 1977 11 years, 59 ...   \n",
       "5      24 March 1977 to 28 July 1979 2 year, 126 days   \n",
       "6            28 July 1979 to 14 January 1980 170 days   \n",
       "7   14 January 1980 to 31 October 1984 4 years, 29...   \n",
       "8   31 October 1984 to 2 December 1989 5 years, 32...   \n",
       "9        2 December 1989 to 10 November 1990 343 days   \n",
       "10          10 November 1990 to 21 June 1991 223 days   \n",
       "11      21 June 1991 to 16 May 1996 4 years, 330 days   \n",
       "12                 16 May 1996 to 1 June 1996 16 days   \n",
       "13              1 June 1996 to 21 April 1997 324 days   \n",
       "14            21 April 1997 to 19 March 1998 332 days   \n",
       "15      19 March 1998 to 22 May 2004 6 years, 64 days   \n",
       "16        22 May 2004 to 26 May 2014 10 years, 4 days   \n",
       "17                              26 May 2014 - Present   \n",
       "\n",
       "                                               Remark  \n",
       "0   The first prime minister of India and the long...  \n",
       "1                            First acting PM of India  \n",
       "2   He has given the slogan of 'Jai Jawan Jai Kisa...  \n",
       "3                                                   -  \n",
       "4                First female Prime Minister of India  \n",
       "5   Oldest to become PM (81 years old) and first t...  \n",
       "6             Only PM who did not face the Parliament  \n",
       "7   The first lady who served as PM for the second...  \n",
       "8                Youngest to become PM (40 years old)  \n",
       "9   First PM to step down after a vote of no confi...  \n",
       "10               He belongs to Samajwadi Janata Party  \n",
       "11                          First PM from south India  \n",
       "12                             PM for shortest tenure  \n",
       "13                           He belongs to Janata Dal  \n",
       "14                                             ------  \n",
       "15  The first non-congress PM who completed a full...  \n",
       "16                                      First Sikh PM  \n",
       "17  4th Prime Minister of India who served two con...  "
      ]
     },
     "execution_count": 91,
     "metadata": {},
     "output_type": "execute_result"
    }
   ],
   "source": [
    "from selenium import webdriver\n",
    "from selenium.webdriver.support.ui import WebDriverWait\n",
    "from selenium.webdriver.common.by import By\n",
    "from selenium.webdriver.support import expected_conditions as EC # expected_conditions module contains a set of predefined conditions to use with WebDriverWait used for the visibility_of_element_located to be able to get the elements in the table as shown on website list  \n",
    "import pandas as pd\n",
    "\n",
    "\n",
    "data = WebDriverWait(driver, 20).until(EC.visibility_of_element_located((By.XPATH, \"//div[contains(@class, 'table-box')]//table\"))).get_attribute(\"outerHTML\")\n",
    "df = pd.read_html(data)\n",
    "df[0]\n",
    "# So finally we see that by using the dataframe from pandas we read the data from html as it is storing the table data as list data and display as dataframe"
   ]
  },
  {
   "cell_type": "markdown",
   "id": "871eeab6",
   "metadata": {},
   "source": [
    "# Question 11 - Solved"
   ]
  },
  {
   "cell_type": "markdown",
   "id": "4ff9a114",
   "metadata": {},
   "source": [
    "# display list of 50 Most expensive cars in the world"
   ]
  },
  {
   "cell_type": "code",
   "execution_count": 94,
   "id": "1445d911",
   "metadata": {},
   "outputs": [],
   "source": [
    "#Opening up https://www.motor1.com/ website on automated chrome window\n",
    "\n",
    "url = 'https://www.motor1.com/'\n",
    "driver.get(url)"
   ]
  },
  {
   "cell_type": "code",
   "execution_count": 95,
   "id": "a97b5c1c",
   "metadata": {},
   "outputs": [],
   "source": [
    "#finding the web element for the MEnu button to go to the Lists\n",
    "\n",
    "menu_btn= driver.find_element(By.XPATH,\"/html/body/div[2]/div[2]/div/div/div[1]/div\") \n",
    "menu_btn.click()"
   ]
  },
  {
   "cell_type": "code",
   "execution_count": 96,
   "id": "b4d4404b",
   "metadata": {},
   "outputs": [],
   "source": [
    "#finding the web element for the Lists option button to go to the page \n",
    "\n",
    "Lists_btn= driver.find_element(By.XPATH,\"/html/body/div[3]/div[1]/div[3]/ul/li[4]/a\") \n",
    "Lists_btn.click()"
   ]
  },
  {
   "cell_type": "code",
   "execution_count": 97,
   "id": "d578ef6f",
   "metadata": {},
   "outputs": [],
   "source": [
    "#finding the web element for the  50 most expensive cars in the world to go to the page \n",
    "\n",
    "Top_btn= driver.find_element(By.XPATH,\"/html/body/div[2]/div[9]/div[1]/div[1]/div/div/div[1]/div/div[1]/h3/a\") \n",
    "Top_btn.click()"
   ]
  },
  {
   "cell_type": "code",
   "execution_count": 237,
   "id": "a6cdf0e6",
   "metadata": {},
   "outputs": [
    {
     "data": {
      "text/plain": [
       "51"
      ]
     },
     "execution_count": 237,
     "metadata": {},
     "output_type": "execute_result"
    }
   ],
   "source": [
    "#Lets extract all the elements having car titles\n",
    "\n",
    "car_titles = []\n",
    "title_tags = driver.find_elements(By.XPATH,'//h3[@class=\"subheader\"]')\n",
    "for i in title_tags:\n",
    "    car_titles.append(i.text)\n",
    "len(car_titles)"
   ]
  },
  {
   "cell_type": "code",
   "execution_count": 242,
   "id": "47447285",
   "metadata": {},
   "outputs": [],
   "source": [
    "car2 = pd.DataFrame(car_titles)\n",
    "blankIndex=[''] * len(car2)\n",
    "car2.index=blankIndex"
   ]
  },
  {
   "cell_type": "code",
   "execution_count": 243,
   "id": "9d261103",
   "metadata": {},
   "outputs": [
    {
     "data": {
      "text/html": [
       "<div>\n",
       "<style scoped>\n",
       "    .dataframe tbody tr th:only-of-type {\n",
       "        vertical-align: middle;\n",
       "    }\n",
       "\n",
       "    .dataframe tbody tr th {\n",
       "        vertical-align: top;\n",
       "    }\n",
       "\n",
       "    .dataframe thead th {\n",
       "        text-align: right;\n",
       "    }\n",
       "</style>\n",
       "<table border=\"1\" class=\"dataframe\">\n",
       "  <thead>\n",
       "    <tr style=\"text-align: right;\">\n",
       "      <th></th>\n",
       "      <th>index</th>\n",
       "      <th>0</th>\n",
       "    </tr>\n",
       "  </thead>\n",
       "  <tbody>\n",
       "    <tr>\n",
       "      <th>0</th>\n",
       "      <td></td>\n",
       "      <td>Drako GTE</td>\n",
       "    </tr>\n",
       "    <tr>\n",
       "      <th>1</th>\n",
       "      <td></td>\n",
       "      <td>De Tomaso P72</td>\n",
       "    </tr>\n",
       "    <tr>\n",
       "      <th>2</th>\n",
       "      <td></td>\n",
       "      <td>Ferrari LaFerrari</td>\n",
       "    </tr>\n",
       "    <tr>\n",
       "      <th>3</th>\n",
       "      <td></td>\n",
       "      <td>Pagani Huayra</td>\n",
       "    </tr>\n",
       "    <tr>\n",
       "      <th>4</th>\n",
       "      <td></td>\n",
       "      <td>McLaren Elva</td>\n",
       "    </tr>\n",
       "    <tr>\n",
       "      <th>5</th>\n",
       "      <td></td>\n",
       "      <td>Czinger 21C</td>\n",
       "    </tr>\n",
       "    <tr>\n",
       "      <th>6</th>\n",
       "      <td></td>\n",
       "      <td>Ferrari Monza</td>\n",
       "    </tr>\n",
       "    <tr>\n",
       "      <th>7</th>\n",
       "      <td></td>\n",
       "      <td>Gordon Murray T.33</td>\n",
       "    </tr>\n",
       "    <tr>\n",
       "      <th>8</th>\n",
       "      <td></td>\n",
       "      <td>Koenigsegg Gemera</td>\n",
       "    </tr>\n",
       "    <tr>\n",
       "      <th>9</th>\n",
       "      <td></td>\n",
       "      <td>Zenvo TSR-S</td>\n",
       "    </tr>\n",
       "    <tr>\n",
       "      <th>10</th>\n",
       "      <td></td>\n",
       "      <td>Hennessey Venom F5</td>\n",
       "    </tr>\n",
       "    <tr>\n",
       "      <th>11</th>\n",
       "      <td></td>\n",
       "      <td>Bentley Bacalar</td>\n",
       "    </tr>\n",
       "    <tr>\n",
       "      <th>12</th>\n",
       "      <td></td>\n",
       "      <td>Hispano Suiza Carmen Boulogne</td>\n",
       "    </tr>\n",
       "    <tr>\n",
       "      <th>13</th>\n",
       "      <td></td>\n",
       "      <td>Bentley Mulliner Batur</td>\n",
       "    </tr>\n",
       "    <tr>\n",
       "      <th>14</th>\n",
       "      <td></td>\n",
       "      <td>Deus Vayanne</td>\n",
       "    </tr>\n",
       "    <tr>\n",
       "      <th>15</th>\n",
       "      <td></td>\n",
       "      <td>SSC Tuatara</td>\n",
       "    </tr>\n",
       "    <tr>\n",
       "      <th>16</th>\n",
       "      <td></td>\n",
       "      <td>Lotus Evija</td>\n",
       "    </tr>\n",
       "    <tr>\n",
       "      <th>17</th>\n",
       "      <td></td>\n",
       "      <td>Aston Martin Vulcan</td>\n",
       "    </tr>\n",
       "    <tr>\n",
       "      <th>18</th>\n",
       "      <td></td>\n",
       "      <td>Delage D12</td>\n",
       "    </tr>\n",
       "    <tr>\n",
       "      <th>19</th>\n",
       "      <td></td>\n",
       "      <td>McLaren Speedtail</td>\n",
       "    </tr>\n",
       "    <tr>\n",
       "      <th>20</th>\n",
       "      <td></td>\n",
       "      <td>Rimac Nevera</td>\n",
       "    </tr>\n",
       "    <tr>\n",
       "      <th>21</th>\n",
       "      <td></td>\n",
       "      <td>Pagani Utopia</td>\n",
       "    </tr>\n",
       "    <tr>\n",
       "      <th>22</th>\n",
       "      <td></td>\n",
       "      <td>Pininfarina Battista</td>\n",
       "    </tr>\n",
       "    <tr>\n",
       "      <th>23</th>\n",
       "      <td></td>\n",
       "      <td>Ferrari FXX K Evo</td>\n",
       "    </tr>\n",
       "    <tr>\n",
       "      <th>24</th>\n",
       "      <td></td>\n",
       "      <td>Gordon Murray T.50</td>\n",
       "    </tr>\n",
       "    <tr>\n",
       "      <th>25</th>\n",
       "      <td></td>\n",
       "      <td>Lamborghini Countach</td>\n",
       "    </tr>\n",
       "    <tr>\n",
       "      <th>26</th>\n",
       "      <td></td>\n",
       "      <td>Mercedes-AMG Project One</td>\n",
       "    </tr>\n",
       "    <tr>\n",
       "      <th>27</th>\n",
       "      <td></td>\n",
       "      <td>Aston Martin Victor</td>\n",
       "    </tr>\n",
       "    <tr>\n",
       "      <th>28</th>\n",
       "      <td></td>\n",
       "      <td>Hennessey Venom F5 Roadster</td>\n",
       "    </tr>\n",
       "    <tr>\n",
       "      <th>29</th>\n",
       "      <td></td>\n",
       "      <td>Koenigsegg Jesko</td>\n",
       "    </tr>\n",
       "    <tr>\n",
       "      <th>30</th>\n",
       "      <td></td>\n",
       "      <td>Aston Martin Valkyrie</td>\n",
       "    </tr>\n",
       "    <tr>\n",
       "      <th>31</th>\n",
       "      <td></td>\n",
       "      <td>W Motors Lykan Hypersport</td>\n",
       "    </tr>\n",
       "    <tr>\n",
       "      <th>32</th>\n",
       "      <td></td>\n",
       "      <td>McLaren Solus</td>\n",
       "    </tr>\n",
       "    <tr>\n",
       "      <th>33</th>\n",
       "      <td></td>\n",
       "      <td>Pagani Huayra Roadster BC</td>\n",
       "    </tr>\n",
       "    <tr>\n",
       "      <th>34</th>\n",
       "      <td></td>\n",
       "      <td>Bugatti Chiron Pur Sport</td>\n",
       "    </tr>\n",
       "    <tr>\n",
       "      <th>35</th>\n",
       "      <td></td>\n",
       "      <td>Lamborghini Sian</td>\n",
       "    </tr>\n",
       "    <tr>\n",
       "      <th>36</th>\n",
       "      <td></td>\n",
       "      <td>Koenigsegg CC850</td>\n",
       "    </tr>\n",
       "    <tr>\n",
       "      <th>37</th>\n",
       "      <td></td>\n",
       "      <td>Bugatti Chiron Super Sport 300+</td>\n",
       "    </tr>\n",
       "    <tr>\n",
       "      <th>38</th>\n",
       "      <td></td>\n",
       "      <td>Lamborghini Veneno</td>\n",
       "    </tr>\n",
       "    <tr>\n",
       "      <th>39</th>\n",
       "      <td></td>\n",
       "      <td>Bugatti Bolide</td>\n",
       "    </tr>\n",
       "    <tr>\n",
       "      <th>40</th>\n",
       "      <td></td>\n",
       "      <td>Bugatti Mistral</td>\n",
       "    </tr>\n",
       "    <tr>\n",
       "      <th>41</th>\n",
       "      <td></td>\n",
       "      <td>Pagani Huayra Imola</td>\n",
       "    </tr>\n",
       "    <tr>\n",
       "      <th>42</th>\n",
       "      <td></td>\n",
       "      <td>Bugatti Divo</td>\n",
       "    </tr>\n",
       "    <tr>\n",
       "      <th>43</th>\n",
       "      <td></td>\n",
       "      <td>SP Automotive Chaos</td>\n",
       "    </tr>\n",
       "    <tr>\n",
       "      <th>44</th>\n",
       "      <td></td>\n",
       "      <td>Pagani Codalunga</td>\n",
       "    </tr>\n",
       "    <tr>\n",
       "      <th>45</th>\n",
       "      <td></td>\n",
       "      <td>Mercedes-Maybach Exelero</td>\n",
       "    </tr>\n",
       "    <tr>\n",
       "      <th>46</th>\n",
       "      <td></td>\n",
       "      <td>Bugatti Centodieci</td>\n",
       "    </tr>\n",
       "    <tr>\n",
       "      <th>47</th>\n",
       "      <td></td>\n",
       "      <td>Rolls-Royce Sweptail</td>\n",
       "    </tr>\n",
       "    <tr>\n",
       "      <th>48</th>\n",
       "      <td></td>\n",
       "      <td>Bugatti La Voiture Noire</td>\n",
       "    </tr>\n",
       "    <tr>\n",
       "      <th>49</th>\n",
       "      <td></td>\n",
       "      <td>Rolls-Royce Boat Tail*</td>\n",
       "    </tr>\n",
       "    <tr>\n",
       "      <th>50</th>\n",
       "      <td></td>\n",
       "      <td>Most Expensive Cars In The World</td>\n",
       "    </tr>\n",
       "  </tbody>\n",
       "</table>\n",
       "</div>"
      ],
      "text/plain": [
       "   index                                 0\n",
       "0                                Drako GTE\n",
       "1                            De Tomaso P72\n",
       "2                        Ferrari LaFerrari\n",
       "3                            Pagani Huayra\n",
       "4                             McLaren Elva\n",
       "5                              Czinger 21C\n",
       "6                            Ferrari Monza\n",
       "7                       Gordon Murray T.33\n",
       "8                        Koenigsegg Gemera\n",
       "9                              Zenvo TSR-S\n",
       "10                      Hennessey Venom F5\n",
       "11                         Bentley Bacalar\n",
       "12           Hispano Suiza Carmen Boulogne\n",
       "13                  Bentley Mulliner Batur\n",
       "14                            Deus Vayanne\n",
       "15                             SSC Tuatara\n",
       "16                             Lotus Evija\n",
       "17                     Aston Martin Vulcan\n",
       "18                              Delage D12\n",
       "19                       McLaren Speedtail\n",
       "20                            Rimac Nevera\n",
       "21                           Pagani Utopia\n",
       "22                    Pininfarina Battista\n",
       "23                       Ferrari FXX K Evo\n",
       "24                      Gordon Murray T.50\n",
       "25                    Lamborghini Countach\n",
       "26                Mercedes-AMG Project One\n",
       "27                     Aston Martin Victor\n",
       "28             Hennessey Venom F5 Roadster\n",
       "29                        Koenigsegg Jesko\n",
       "30                   Aston Martin Valkyrie\n",
       "31               W Motors Lykan Hypersport\n",
       "32                           McLaren Solus\n",
       "33               Pagani Huayra Roadster BC\n",
       "34                Bugatti Chiron Pur Sport\n",
       "35                        Lamborghini Sian\n",
       "36                        Koenigsegg CC850\n",
       "37         Bugatti Chiron Super Sport 300+\n",
       "38                      Lamborghini Veneno\n",
       "39                          Bugatti Bolide\n",
       "40                         Bugatti Mistral\n",
       "41                     Pagani Huayra Imola\n",
       "42                            Bugatti Divo\n",
       "43                     SP Automotive Chaos\n",
       "44                        Pagani Codalunga\n",
       "45                Mercedes-Maybach Exelero\n",
       "46                      Bugatti Centodieci\n",
       "47                    Rolls-Royce Sweptail\n",
       "48                Bugatti La Voiture Noire\n",
       "49                  Rolls-Royce Boat Tail*\n",
       "50        Most Expensive Cars In The World"
      ]
     },
     "execution_count": 243,
     "metadata": {},
     "output_type": "execute_result"
    }
   ],
   "source": [
    "car2.reset_index() #Resetting the car index so we can easily make a dataframe"
   ]
  },
  {
   "cell_type": "code",
   "execution_count": 128,
   "id": "b9547527",
   "metadata": {},
   "outputs": [
    {
     "data": {
      "text/plain": [
       "103"
      ]
     },
     "execution_count": 128,
     "metadata": {},
     "output_type": "execute_result"
    }
   ],
   "source": [
    "#Lets extract all the elements having CAr Prices\n",
    "\n",
    "CAr_prices = []\n",
    "price = driver.find_elements(By.XPATH,'//*[@id=\"article_box\"]/div[1]/div[2]/div[1]/p',)\n",
    "for i in price:\n",
    "    CAr_prices.append(i.text)\n",
    "len(CAr_prices)"
   ]
  },
  {
   "cell_type": "code",
   "execution_count": 209,
   "id": "515ffeb3",
   "metadata": {},
   "outputs": [
    {
     "data": {
      "text/html": [
       "<div>\n",
       "<style scoped>\n",
       "    .dataframe tbody tr th:only-of-type {\n",
       "        vertical-align: middle;\n",
       "    }\n",
       "\n",
       "    .dataframe tbody tr th {\n",
       "        vertical-align: top;\n",
       "    }\n",
       "\n",
       "    .dataframe thead th {\n",
       "        text-align: right;\n",
       "    }\n",
       "</style>\n",
       "<table border=\"1\" class=\"dataframe\">\n",
       "  <thead>\n",
       "    <tr style=\"text-align: right;\">\n",
       "      <th></th>\n",
       "      <th>0</th>\n",
       "    </tr>\n",
       "  </thead>\n",
       "  <tbody>\n",
       "    <tr>\n",
       "      <th></th>\n",
       "      <td>When it comes to high-end hypercars and super-...</td>\n",
       "    </tr>\n",
       "    <tr>\n",
       "      <th></th>\n",
       "      <td>But in order to find out which of these unatta...</td>\n",
       "    </tr>\n",
       "    <tr>\n",
       "      <th></th>\n",
       "      <td>We should note, though: The prices listed here...</td>\n",
       "    </tr>\n",
       "    <tr>\n",
       "      <th></th>\n",
       "      <td>Price: $1.2 Million</td>\n",
       "    </tr>\n",
       "    <tr>\n",
       "      <th></th>\n",
       "      <td>The Drako GTE is a super sedan in every sense ...</td>\n",
       "    </tr>\n",
       "    <tr>\n",
       "      <th>...</th>\n",
       "      <td>...</td>\n",
       "    </tr>\n",
       "    <tr>\n",
       "      <th></th>\n",
       "      <td>Rolls-Royce, expectedly, takes two of the top ...</td>\n",
       "    </tr>\n",
       "    <tr>\n",
       "      <th></th>\n",
       "      <td>Price: $13.4 Million</td>\n",
       "    </tr>\n",
       "    <tr>\n",
       "      <th></th>\n",
       "      <td>With a price tag of $13.4 million, the one-off...</td>\n",
       "    </tr>\n",
       "    <tr>\n",
       "      <th></th>\n",
       "      <td>Price: $28.0 Million (est.)</td>\n",
       "    </tr>\n",
       "    <tr>\n",
       "      <th></th>\n",
       "      <td>Rolls-Royce is back in the business of coachbu...</td>\n",
       "    </tr>\n",
       "  </tbody>\n",
       "</table>\n",
       "<p>103 rows × 1 columns</p>\n",
       "</div>"
      ],
      "text/plain": [
       "                                                    0\n",
       "    When it comes to high-end hypercars and super-...\n",
       "    But in order to find out which of these unatta...\n",
       "    We should note, though: The prices listed here...\n",
       "                                  Price: $1.2 Million\n",
       "    The Drako GTE is a super sedan in every sense ...\n",
       "..                                                ...\n",
       "    Rolls-Royce, expectedly, takes two of the top ...\n",
       "                                 Price: $13.4 Million\n",
       "    With a price tag of $13.4 million, the one-off...\n",
       "                          Price: $28.0 Million (est.)\n",
       "    Rolls-Royce is back in the business of coachbu...\n",
       "\n",
       "[103 rows x 1 columns]"
      ]
     },
     "execution_count": 209,
     "metadata": {},
     "output_type": "execute_result"
    }
   ],
   "source": [
    "df = pd .DataFrame(CAr_prices) # we see that the price and the description is in the same dataframe \n",
    "blankIndex=[''] * len(df)\n",
    "df.index=blankIndex\n",
    "df"
   ]
  },
  {
   "cell_type": "code",
   "execution_count": 210,
   "id": "0ba47196",
   "metadata": {},
   "outputs": [],
   "source": [
    "df1 = (df[0].str.contains('Price(?!$)')) # Using contains function to seperate the Prices and Description\n",
    "Price_car = df[df1]"
   ]
  },
  {
   "cell_type": "code",
   "execution_count": 221,
   "id": "51328771",
   "metadata": {},
   "outputs": [
    {
     "data": {
      "text/html": [
       "<div>\n",
       "<style scoped>\n",
       "    .dataframe tbody tr th:only-of-type {\n",
       "        vertical-align: middle;\n",
       "    }\n",
       "\n",
       "    .dataframe tbody tr th {\n",
       "        vertical-align: top;\n",
       "    }\n",
       "\n",
       "    .dataframe thead th {\n",
       "        text-align: right;\n",
       "    }\n",
       "</style>\n",
       "<table border=\"1\" class=\"dataframe\">\n",
       "  <thead>\n",
       "    <tr style=\"text-align: right;\">\n",
       "      <th></th>\n",
       "      <th>index</th>\n",
       "      <th>0</th>\n",
       "    </tr>\n",
       "  </thead>\n",
       "  <tbody>\n",
       "    <tr>\n",
       "      <th>0</th>\n",
       "      <td></td>\n",
       "      <td>Price: $1.2 Million</td>\n",
       "    </tr>\n",
       "    <tr>\n",
       "      <th>1</th>\n",
       "      <td></td>\n",
       "      <td>Price: $1.3 Million</td>\n",
       "    </tr>\n",
       "    <tr>\n",
       "      <th>2</th>\n",
       "      <td></td>\n",
       "      <td>Price: $1.4 Million</td>\n",
       "    </tr>\n",
       "    <tr>\n",
       "      <th>3</th>\n",
       "      <td></td>\n",
       "      <td>Price: $1.4 Million</td>\n",
       "    </tr>\n",
       "    <tr>\n",
       "      <th>4</th>\n",
       "      <td></td>\n",
       "      <td>Price: $1.7 Million</td>\n",
       "    </tr>\n",
       "    <tr>\n",
       "      <th>5</th>\n",
       "      <td></td>\n",
       "      <td>Price: $1.7 Million</td>\n",
       "    </tr>\n",
       "    <tr>\n",
       "      <th>6</th>\n",
       "      <td></td>\n",
       "      <td>Price: $1.7 Million</td>\n",
       "    </tr>\n",
       "    <tr>\n",
       "      <th>7</th>\n",
       "      <td></td>\n",
       "      <td>Price: $1.7 Million</td>\n",
       "    </tr>\n",
       "    <tr>\n",
       "      <th>8</th>\n",
       "      <td></td>\n",
       "      <td>Price: $1.7 Million</td>\n",
       "    </tr>\n",
       "    <tr>\n",
       "      <th>9</th>\n",
       "      <td></td>\n",
       "      <td>Price: $1.7 Million</td>\n",
       "    </tr>\n",
       "    <tr>\n",
       "      <th>10</th>\n",
       "      <td></td>\n",
       "      <td>Price: $1.8 Million</td>\n",
       "    </tr>\n",
       "    <tr>\n",
       "      <th>11</th>\n",
       "      <td></td>\n",
       "      <td>Price: $1.9 Million</td>\n",
       "    </tr>\n",
       "    <tr>\n",
       "      <th>12</th>\n",
       "      <td></td>\n",
       "      <td>Price: $1.9 Million</td>\n",
       "    </tr>\n",
       "    <tr>\n",
       "      <th>13</th>\n",
       "      <td></td>\n",
       "      <td>Price: $2.0 Million</td>\n",
       "    </tr>\n",
       "    <tr>\n",
       "      <th>14</th>\n",
       "      <td></td>\n",
       "      <td>Price: $2.0 Million</td>\n",
       "    </tr>\n",
       "    <tr>\n",
       "      <th>15</th>\n",
       "      <td></td>\n",
       "      <td>Price: $2.0 Million*</td>\n",
       "    </tr>\n",
       "    <tr>\n",
       "      <th>16</th>\n",
       "      <td></td>\n",
       "      <td>Price: $2.1 Million</td>\n",
       "    </tr>\n",
       "    <tr>\n",
       "      <th>17</th>\n",
       "      <td></td>\n",
       "      <td>Price: $2.3 Million</td>\n",
       "    </tr>\n",
       "    <tr>\n",
       "      <th>18</th>\n",
       "      <td></td>\n",
       "      <td>Price: $2.3 Million</td>\n",
       "    </tr>\n",
       "    <tr>\n",
       "      <th>19</th>\n",
       "      <td></td>\n",
       "      <td>Price: $2.3 Million</td>\n",
       "    </tr>\n",
       "    <tr>\n",
       "      <th>20</th>\n",
       "      <td></td>\n",
       "      <td>Price: $2.4 Million</td>\n",
       "    </tr>\n",
       "    <tr>\n",
       "      <th>21</th>\n",
       "      <td></td>\n",
       "      <td>Price: $2.5 Million</td>\n",
       "    </tr>\n",
       "    <tr>\n",
       "      <th>22</th>\n",
       "      <td></td>\n",
       "      <td>Price: $2.5 Million</td>\n",
       "    </tr>\n",
       "    <tr>\n",
       "      <th>23</th>\n",
       "      <td></td>\n",
       "      <td>Price: $2.6 Million</td>\n",
       "    </tr>\n",
       "    <tr>\n",
       "      <th>24</th>\n",
       "      <td></td>\n",
       "      <td>Price: $2.6 Million</td>\n",
       "    </tr>\n",
       "    <tr>\n",
       "      <th>25</th>\n",
       "      <td></td>\n",
       "      <td>Price: $2.6 Million</td>\n",
       "    </tr>\n",
       "    <tr>\n",
       "      <th>26</th>\n",
       "      <td></td>\n",
       "      <td>Price: $2.7 Million</td>\n",
       "    </tr>\n",
       "    <tr>\n",
       "      <th>27</th>\n",
       "      <td></td>\n",
       "      <td>Price: $3.0 Million</td>\n",
       "    </tr>\n",
       "    <tr>\n",
       "      <th>28</th>\n",
       "      <td></td>\n",
       "      <td>Price: $3.0 Million</td>\n",
       "    </tr>\n",
       "    <tr>\n",
       "      <th>29</th>\n",
       "      <td></td>\n",
       "      <td>Price: $3.2 Million</td>\n",
       "    </tr>\n",
       "    <tr>\n",
       "      <th>30</th>\n",
       "      <td></td>\n",
       "      <td>Price: $3.4 Million</td>\n",
       "    </tr>\n",
       "    <tr>\n",
       "      <th>31</th>\n",
       "      <td></td>\n",
       "      <td>Price: $3.5 Million</td>\n",
       "    </tr>\n",
       "    <tr>\n",
       "      <th>32</th>\n",
       "      <td></td>\n",
       "      <td>Price: $3.6 Million</td>\n",
       "    </tr>\n",
       "    <tr>\n",
       "      <th>33</th>\n",
       "      <td></td>\n",
       "      <td>Price: $3.6 million</td>\n",
       "    </tr>\n",
       "    <tr>\n",
       "      <th>34</th>\n",
       "      <td></td>\n",
       "      <td>Price: $3.7 Million</td>\n",
       "    </tr>\n",
       "    <tr>\n",
       "      <th>35</th>\n",
       "      <td></td>\n",
       "      <td>Price: $3.9 Million</td>\n",
       "    </tr>\n",
       "    <tr>\n",
       "      <th>36</th>\n",
       "      <td></td>\n",
       "      <td>Price: $4.5 Million</td>\n",
       "    </tr>\n",
       "    <tr>\n",
       "      <th>37</th>\n",
       "      <td></td>\n",
       "      <td>Price: $4.7 Million</td>\n",
       "    </tr>\n",
       "    <tr>\n",
       "      <th>38</th>\n",
       "      <td></td>\n",
       "      <td>Price: $5.0 Million</td>\n",
       "    </tr>\n",
       "    <tr>\n",
       "      <th>39</th>\n",
       "      <td></td>\n",
       "      <td>Price: $5.4 Million</td>\n",
       "    </tr>\n",
       "    <tr>\n",
       "      <th>40</th>\n",
       "      <td></td>\n",
       "      <td>Price: $5.8 Million</td>\n",
       "    </tr>\n",
       "    <tr>\n",
       "      <th>41</th>\n",
       "      <td></td>\n",
       "      <td>Price: $6.4 Million</td>\n",
       "    </tr>\n",
       "    <tr>\n",
       "      <th>42</th>\n",
       "      <td></td>\n",
       "      <td>Price: $7.4 Million</td>\n",
       "    </tr>\n",
       "    <tr>\n",
       "      <th>43</th>\n",
       "      <td></td>\n",
       "      <td>Price: $8.0 Million</td>\n",
       "    </tr>\n",
       "    <tr>\n",
       "      <th>44</th>\n",
       "      <td></td>\n",
       "      <td>Price: $9.0 Million</td>\n",
       "    </tr>\n",
       "    <tr>\n",
       "      <th>45</th>\n",
       "      <td></td>\n",
       "      <td>Price: $12.8 Million</td>\n",
       "    </tr>\n",
       "    <tr>\n",
       "      <th>46</th>\n",
       "      <td></td>\n",
       "      <td>Price: $13.4 Million</td>\n",
       "    </tr>\n",
       "    <tr>\n",
       "      <th>47</th>\n",
       "      <td></td>\n",
       "      <td>Price: $28.0 Million (est.)</td>\n",
       "    </tr>\n",
       "  </tbody>\n",
       "</table>\n",
       "</div>"
      ],
      "text/plain": [
       "   index                            0\n",
       "0                 Price: $1.2 Million\n",
       "1                 Price: $1.3 Million\n",
       "2                 Price: $1.4 Million\n",
       "3                 Price: $1.4 Million\n",
       "4                 Price: $1.7 Million\n",
       "5                 Price: $1.7 Million\n",
       "6                 Price: $1.7 Million\n",
       "7                 Price: $1.7 Million\n",
       "8                 Price: $1.7 Million\n",
       "9                 Price: $1.7 Million\n",
       "10                Price: $1.8 Million\n",
       "11                Price: $1.9 Million\n",
       "12                Price: $1.9 Million\n",
       "13                Price: $2.0 Million\n",
       "14                Price: $2.0 Million\n",
       "15               Price: $2.0 Million*\n",
       "16                Price: $2.1 Million\n",
       "17                Price: $2.3 Million\n",
       "18                Price: $2.3 Million\n",
       "19                Price: $2.3 Million\n",
       "20                Price: $2.4 Million\n",
       "21                Price: $2.5 Million\n",
       "22                Price: $2.5 Million\n",
       "23                Price: $2.6 Million\n",
       "24                Price: $2.6 Million\n",
       "25                Price: $2.6 Million\n",
       "26                Price: $2.7 Million\n",
       "27                Price: $3.0 Million\n",
       "28                Price: $3.0 Million\n",
       "29                Price: $3.2 Million\n",
       "30                Price: $3.4 Million\n",
       "31                Price: $3.5 Million\n",
       "32                Price: $3.6 Million\n",
       "33                Price: $3.6 million\n",
       "34                Price: $3.7 Million\n",
       "35                Price: $3.9 Million\n",
       "36                Price: $4.5 Million\n",
       "37                Price: $4.7 Million\n",
       "38                Price: $5.0 Million\n",
       "39                Price: $5.4 Million\n",
       "40                Price: $5.8 Million\n",
       "41                Price: $6.4 Million\n",
       "42                Price: $7.4 Million\n",
       "43                Price: $8.0 Million\n",
       "44                Price: $9.0 Million\n",
       "45               Price: $12.8 Million\n",
       "46               Price: $13.4 Million\n",
       "47        Price: $28.0 Million (est.)"
      ]
     },
     "execution_count": 221,
     "metadata": {},
     "output_type": "execute_result"
    }
   ],
   "source": [
    "Price_car.reset_index() #Resetting the index"
   ]
  },
  {
   "cell_type": "code",
   "execution_count": 226,
   "id": "17a5661f",
   "metadata": {},
   "outputs": [],
   "source": [
    "df2 = (~df[0].str.contains('Price(?!$)')) # Using contains function to seperate the Prices and Description\n",
    "Desc_car = df[df2]"
   ]
  },
  {
   "cell_type": "code",
   "execution_count": 227,
   "id": "1908d874",
   "metadata": {},
   "outputs": [
    {
     "data": {
      "text/html": [
       "<div>\n",
       "<style scoped>\n",
       "    .dataframe tbody tr th:only-of-type {\n",
       "        vertical-align: middle;\n",
       "    }\n",
       "\n",
       "    .dataframe tbody tr th {\n",
       "        vertical-align: top;\n",
       "    }\n",
       "\n",
       "    .dataframe thead th {\n",
       "        text-align: right;\n",
       "    }\n",
       "</style>\n",
       "<table border=\"1\" class=\"dataframe\">\n",
       "  <thead>\n",
       "    <tr style=\"text-align: right;\">\n",
       "      <th></th>\n",
       "      <th>index</th>\n",
       "      <th>0</th>\n",
       "    </tr>\n",
       "  </thead>\n",
       "  <tbody>\n",
       "    <tr>\n",
       "      <th>0</th>\n",
       "      <td></td>\n",
       "      <td>When it comes to high-end hypercars and super-...</td>\n",
       "    </tr>\n",
       "    <tr>\n",
       "      <th>1</th>\n",
       "      <td></td>\n",
       "      <td>But in order to find out which of these unatta...</td>\n",
       "    </tr>\n",
       "    <tr>\n",
       "      <th>2</th>\n",
       "      <td></td>\n",
       "      <td>We should note, though: The prices listed here...</td>\n",
       "    </tr>\n",
       "    <tr>\n",
       "      <th>3</th>\n",
       "      <td></td>\n",
       "      <td>The Drako GTE is a super sedan in every sense ...</td>\n",
       "    </tr>\n",
       "    <tr>\n",
       "      <th>4</th>\n",
       "      <td></td>\n",
       "      <td>The De Tomaso P72 is basically the definition ...</td>\n",
       "    </tr>\n",
       "    <tr>\n",
       "      <th>5</th>\n",
       "      <td></td>\n",
       "      <td>At $1.4 million new, the Ferrari LaFerrari is ...</td>\n",
       "    </tr>\n",
       "    <tr>\n",
       "      <th>6</th>\n",
       "      <td></td>\n",
       "      <td>Inarguably one of the prettiest cars on this l...</td>\n",
       "    </tr>\n",
       "    <tr>\n",
       "      <th>7</th>\n",
       "      <td></td>\n",
       "      <td>The McLaren Elva is one of the latest addition...</td>\n",
       "    </tr>\n",
       "    <tr>\n",
       "      <th>8</th>\n",
       "      <td></td>\n",
       "      <td>You might not know the name Czinger yet, but t...</td>\n",
       "    </tr>\n",
       "    <tr>\n",
       "      <th>9</th>\n",
       "      <td></td>\n",
       "      <td>Much like the roof-less McLaren Elva, the Ferr...</td>\n",
       "    </tr>\n",
       "    <tr>\n",
       "      <th>10</th>\n",
       "      <td></td>\n",
       "      <td>The second and slightly more affordable superc...</td>\n",
       "    </tr>\n",
       "    <tr>\n",
       "      <th>11</th>\n",
       "      <td></td>\n",
       "      <td>One of two Koenigsegg models on this list, the...</td>\n",
       "    </tr>\n",
       "    <tr>\n",
       "      <th>12</th>\n",
       "      <td></td>\n",
       "      <td>Hailing from Denmark, the Zenvo TSR-S debuted ...</td>\n",
       "    </tr>\n",
       "    <tr>\n",
       "      <th>13</th>\n",
       "      <td></td>\n",
       "      <td>The Hennessey Venom GT was a record-breaker, t...</td>\n",
       "    </tr>\n",
       "    <tr>\n",
       "      <th>14</th>\n",
       "      <td></td>\n",
       "      <td>With just 12 total units produced, the Bentley...</td>\n",
       "    </tr>\n",
       "    <tr>\n",
       "      <th>15</th>\n",
       "      <td></td>\n",
       "      <td>To call the Hispano Suiza Carmen Boulogne beau...</td>\n",
       "    </tr>\n",
       "    <tr>\n",
       "      <th>16</th>\n",
       "      <td></td>\n",
       "      <td>The electric onslaught is coming. Bentley says...</td>\n",
       "    </tr>\n",
       "    <tr>\n",
       "      <th>17</th>\n",
       "      <td></td>\n",
       "      <td>The Deus Vayanne may not be a household name (...</td>\n",
       "    </tr>\n",
       "    <tr>\n",
       "      <th>18</th>\n",
       "      <td></td>\n",
       "      <td>Although initially cloaked in controversy, SSC...</td>\n",
       "    </tr>\n",
       "    <tr>\n",
       "      <th>19</th>\n",
       "      <td></td>\n",
       "      <td>With a new Emira sports car and an Eletre elec...</td>\n",
       "    </tr>\n",
       "    <tr>\n",
       "      <th>20</th>\n",
       "      <td></td>\n",
       "      <td>As with a few other cars on this list, the Ast...</td>\n",
       "    </tr>\n",
       "    <tr>\n",
       "      <th>21</th>\n",
       "      <td></td>\n",
       "      <td>You may have heard of Delage before. In the ea...</td>\n",
       "    </tr>\n",
       "    <tr>\n",
       "      <th>22</th>\n",
       "      <td></td>\n",
       "      <td>What would you pay for the fastest production ...</td>\n",
       "    </tr>\n",
       "    <tr>\n",
       "      <th>23</th>\n",
       "      <td></td>\n",
       "      <td>The Rimac Nevera takes the title of most expen...</td>\n",
       "    </tr>\n",
       "    <tr>\n",
       "      <th>24</th>\n",
       "      <td></td>\n",
       "      <td>First came the Zonda, then the Huayra, and now...</td>\n",
       "    </tr>\n",
       "    <tr>\n",
       "      <th>25</th>\n",
       "      <td></td>\n",
       "      <td>Aptly named after the company’s founder, Batti...</td>\n",
       "    </tr>\n",
       "    <tr>\n",
       "      <th>26</th>\n",
       "      <td></td>\n",
       "      <td>Sure, you could buy a normal LaFerrari (which ...</td>\n",
       "    </tr>\n",
       "    <tr>\n",
       "      <th>27</th>\n",
       "      <td></td>\n",
       "      <td>If the name Gordon Murray sounds familiar, it’...</td>\n",
       "    </tr>\n",
       "    <tr>\n",
       "      <th>28</th>\n",
       "      <td></td>\n",
       "      <td>The name Countach may be iconic, but is it wor...</td>\n",
       "    </tr>\n",
       "    <tr>\n",
       "      <th>29</th>\n",
       "      <td></td>\n",
       "      <td>Mercedes has promised a production version of ...</td>\n",
       "    </tr>\n",
       "    <tr>\n",
       "      <th>30</th>\n",
       "      <td></td>\n",
       "      <td>The folks at Aston Martin know a thing or two ...</td>\n",
       "    </tr>\n",
       "    <tr>\n",
       "      <th>31</th>\n",
       "      <td></td>\n",
       "      <td>$3.0 Million</td>\n",
       "    </tr>\n",
       "    <tr>\n",
       "      <th>32</th>\n",
       "      <td></td>\n",
       "      <td>The same Hennessey Venom F5 hypercar we all kn...</td>\n",
       "    </tr>\n",
       "    <tr>\n",
       "      <th>33</th>\n",
       "      <td></td>\n",
       "      <td>The Koenigsegg Jesko, apart from being the fas...</td>\n",
       "    </tr>\n",
       "    <tr>\n",
       "      <th>34</th>\n",
       "      <td></td>\n",
       "      <td>The upcoming Aston Martin hybrid hypercar hasn...</td>\n",
       "    </tr>\n",
       "    <tr>\n",
       "      <th>35</th>\n",
       "      <td></td>\n",
       "      <td>Dubai-based W Motors shocked the world with it...</td>\n",
       "    </tr>\n",
       "    <tr>\n",
       "      <th>36</th>\n",
       "      <td></td>\n",
       "      <td>$3.5 Million</td>\n",
       "    </tr>\n",
       "    <tr>\n",
       "      <th>37</th>\n",
       "      <td></td>\n",
       "      <td>One seat, 829 horsepower, and a top speed of o...</td>\n",
       "    </tr>\n",
       "    <tr>\n",
       "      <th>38</th>\n",
       "      <td></td>\n",
       "      <td>Following Pagani’s past playbook, a roadster v...</td>\n",
       "    </tr>\n",
       "    <tr>\n",
       "      <th>39</th>\n",
       "      <td></td>\n",
       "      <td>Another showstopper from the Geneva Motor Show...</td>\n",
       "    </tr>\n",
       "    <tr>\n",
       "      <th>40</th>\n",
       "      <td></td>\n",
       "      <td>In several ways, the Sian represents a bridge ...</td>\n",
       "    </tr>\n",
       "    <tr>\n",
       "      <th>41</th>\n",
       "      <td></td>\n",
       "      <td>The Koenigsegg CC850 was a surprise to be sure...</td>\n",
       "    </tr>\n",
       "    <tr>\n",
       "      <th>42</th>\n",
       "      <td></td>\n",
       "      <td>Earlier this year, Bugatti captured the collec...</td>\n",
       "    </tr>\n",
       "    <tr>\n",
       "      <th>43</th>\n",
       "      <td></td>\n",
       "      <td>Lamborghini built just 14 examples of the Aven...</td>\n",
       "    </tr>\n",
       "    <tr>\n",
       "      <th>44</th>\n",
       "      <td></td>\n",
       "      <td>Produced in extremely limited numbers atop the...</td>\n",
       "    </tr>\n",
       "    <tr>\n",
       "      <th>45</th>\n",
       "      <td></td>\n",
       "      <td>The Bugatti Mistral sends the iconic W16 engin...</td>\n",
       "    </tr>\n",
       "    <tr>\n",
       "      <th>46</th>\n",
       "      <td></td>\n",
       "      <td>Even though the new Utopia marks the next big ...</td>\n",
       "    </tr>\n",
       "    <tr>\n",
       "      <th>47</th>\n",
       "      <td></td>\n",
       "      <td>Among Bugatti’s recently debuted vehicles, the...</td>\n",
       "    </tr>\n",
       "    <tr>\n",
       "      <th>48</th>\n",
       "      <td></td>\n",
       "      <td>SP Automotive (short for Spyros Panopoulos) is...</td>\n",
       "    </tr>\n",
       "    <tr>\n",
       "      <th>49</th>\n",
       "      <td></td>\n",
       "      <td>The long list of pricey (new) Paganis ends wit...</td>\n",
       "    </tr>\n",
       "    <tr>\n",
       "      <th>50</th>\n",
       "      <td></td>\n",
       "      <td>Like many others before it, the Mercedes-Benz ...</td>\n",
       "    </tr>\n",
       "    <tr>\n",
       "      <th>51</th>\n",
       "      <td></td>\n",
       "      <td>Bugatti debuted the Centodieci at last year’s ...</td>\n",
       "    </tr>\n",
       "    <tr>\n",
       "      <th>52</th>\n",
       "      <td></td>\n",
       "      <td>Rolls-Royce, expectedly, takes two of the top ...</td>\n",
       "    </tr>\n",
       "    <tr>\n",
       "      <th>53</th>\n",
       "      <td></td>\n",
       "      <td>With a price tag of $13.4 million, the one-off...</td>\n",
       "    </tr>\n",
       "    <tr>\n",
       "      <th>54</th>\n",
       "      <td></td>\n",
       "      <td>Rolls-Royce is back in the business of coachbu...</td>\n",
       "    </tr>\n",
       "  </tbody>\n",
       "</table>\n",
       "</div>"
      ],
      "text/plain": [
       "   index                                                  0\n",
       "0         When it comes to high-end hypercars and super-...\n",
       "1         But in order to find out which of these unatta...\n",
       "2         We should note, though: The prices listed here...\n",
       "3         The Drako GTE is a super sedan in every sense ...\n",
       "4         The De Tomaso P72 is basically the definition ...\n",
       "5         At $1.4 million new, the Ferrari LaFerrari is ...\n",
       "6         Inarguably one of the prettiest cars on this l...\n",
       "7         The McLaren Elva is one of the latest addition...\n",
       "8         You might not know the name Czinger yet, but t...\n",
       "9         Much like the roof-less McLaren Elva, the Ferr...\n",
       "10        The second and slightly more affordable superc...\n",
       "11        One of two Koenigsegg models on this list, the...\n",
       "12        Hailing from Denmark, the Zenvo TSR-S debuted ...\n",
       "13        The Hennessey Venom GT was a record-breaker, t...\n",
       "14        With just 12 total units produced, the Bentley...\n",
       "15        To call the Hispano Suiza Carmen Boulogne beau...\n",
       "16        The electric onslaught is coming. Bentley says...\n",
       "17        The Deus Vayanne may not be a household name (...\n",
       "18        Although initially cloaked in controversy, SSC...\n",
       "19        With a new Emira sports car and an Eletre elec...\n",
       "20        As with a few other cars on this list, the Ast...\n",
       "21        You may have heard of Delage before. In the ea...\n",
       "22        What would you pay for the fastest production ...\n",
       "23        The Rimac Nevera takes the title of most expen...\n",
       "24        First came the Zonda, then the Huayra, and now...\n",
       "25        Aptly named after the company’s founder, Batti...\n",
       "26        Sure, you could buy a normal LaFerrari (which ...\n",
       "27        If the name Gordon Murray sounds familiar, it’...\n",
       "28        The name Countach may be iconic, but is it wor...\n",
       "29        Mercedes has promised a production version of ...\n",
       "30        The folks at Aston Martin know a thing or two ...\n",
       "31                                             $3.0 Million\n",
       "32        The same Hennessey Venom F5 hypercar we all kn...\n",
       "33        The Koenigsegg Jesko, apart from being the fas...\n",
       "34        The upcoming Aston Martin hybrid hypercar hasn...\n",
       "35        Dubai-based W Motors shocked the world with it...\n",
       "36                                             $3.5 Million\n",
       "37        One seat, 829 horsepower, and a top speed of o...\n",
       "38        Following Pagani’s past playbook, a roadster v...\n",
       "39        Another showstopper from the Geneva Motor Show...\n",
       "40        In several ways, the Sian represents a bridge ...\n",
       "41        The Koenigsegg CC850 was a surprise to be sure...\n",
       "42        Earlier this year, Bugatti captured the collec...\n",
       "43        Lamborghini built just 14 examples of the Aven...\n",
       "44        Produced in extremely limited numbers atop the...\n",
       "45        The Bugatti Mistral sends the iconic W16 engin...\n",
       "46        Even though the new Utopia marks the next big ...\n",
       "47        Among Bugatti’s recently debuted vehicles, the...\n",
       "48        SP Automotive (short for Spyros Panopoulos) is...\n",
       "49        The long list of pricey (new) Paganis ends wit...\n",
       "50        Like many others before it, the Mercedes-Benz ...\n",
       "51        Bugatti debuted the Centodieci at last year’s ...\n",
       "52        Rolls-Royce, expectedly, takes two of the top ...\n",
       "53        With a price tag of $13.4 million, the one-off...\n",
       "54        Rolls-Royce is back in the business of coachbu..."
      ]
     },
     "execution_count": 227,
     "metadata": {},
     "output_type": "execute_result"
    }
   ],
   "source": [
    "Desc_car.reset_index()"
   ]
  },
  {
   "cell_type": "code",
   "execution_count": 244,
   "id": "8cb20fc0",
   "metadata": {},
   "outputs": [
    {
     "data": {
      "text/plain": [
       "48"
      ]
     },
     "execution_count": 244,
     "metadata": {},
     "output_type": "execute_result"
    }
   ],
   "source": [
    "final_title = car2[:48]  #MAking sure the values of the column are equal to the price as we oly have 48 rows\n",
    "len (final_title)"
   ]
  },
  {
   "cell_type": "code",
   "execution_count": 245,
   "id": "5ff2615a",
   "metadata": {},
   "outputs": [
    {
     "data": {
      "text/plain": [
       "48"
      ]
     },
     "execution_count": 245,
     "metadata": {},
     "output_type": "execute_result"
    }
   ],
   "source": [
    "final_desc = Desc_car[:48]  #MAking sure the values of the column are equal to the price as we oly have 48 rows\n",
    "len(final_desc)"
   ]
  },
  {
   "cell_type": "code",
   "execution_count": 246,
   "id": "36790c9b",
   "metadata": {},
   "outputs": [],
   "source": [
    "#Creating the dataframe to display the data \n",
    "\n",
    "TOP_cars = pd.DataFrame()\n",
    "TOP_cars['Car Title'] = final_title\n",
    "TOP_cars['Price'] = Price_car\n",
    "TOP_cars['Car Description'] = final_desc\n"
   ]
  },
  {
   "cell_type": "code",
   "execution_count": 247,
   "id": "8e25cc24",
   "metadata": {},
   "outputs": [
    {
     "data": {
      "text/html": [
       "<div>\n",
       "<style scoped>\n",
       "    .dataframe tbody tr th:only-of-type {\n",
       "        vertical-align: middle;\n",
       "    }\n",
       "\n",
       "    .dataframe tbody tr th {\n",
       "        vertical-align: top;\n",
       "    }\n",
       "\n",
       "    .dataframe thead th {\n",
       "        text-align: right;\n",
       "    }\n",
       "</style>\n",
       "<table border=\"1\" class=\"dataframe\">\n",
       "  <thead>\n",
       "    <tr style=\"text-align: right;\">\n",
       "      <th></th>\n",
       "      <th>Car Title</th>\n",
       "      <th>Price</th>\n",
       "      <th>Car Description</th>\n",
       "    </tr>\n",
       "  </thead>\n",
       "  <tbody>\n",
       "    <tr>\n",
       "      <th></th>\n",
       "      <td>Drako GTE</td>\n",
       "      <td>Price: $1.2 Million</td>\n",
       "      <td>When it comes to high-end hypercars and super-...</td>\n",
       "    </tr>\n",
       "    <tr>\n",
       "      <th></th>\n",
       "      <td>De Tomaso P72</td>\n",
       "      <td>Price: $1.3 Million</td>\n",
       "      <td>But in order to find out which of these unatta...</td>\n",
       "    </tr>\n",
       "    <tr>\n",
       "      <th></th>\n",
       "      <td>Ferrari LaFerrari</td>\n",
       "      <td>Price: $1.4 Million</td>\n",
       "      <td>We should note, though: The prices listed here...</td>\n",
       "    </tr>\n",
       "    <tr>\n",
       "      <th></th>\n",
       "      <td>Pagani Huayra</td>\n",
       "      <td>Price: $1.4 Million</td>\n",
       "      <td>The Drako GTE is a super sedan in every sense ...</td>\n",
       "    </tr>\n",
       "    <tr>\n",
       "      <th></th>\n",
       "      <td>McLaren Elva</td>\n",
       "      <td>Price: $1.7 Million</td>\n",
       "      <td>The De Tomaso P72 is basically the definition ...</td>\n",
       "    </tr>\n",
       "    <tr>\n",
       "      <th></th>\n",
       "      <td>Czinger 21C</td>\n",
       "      <td>Price: $1.7 Million</td>\n",
       "      <td>At $1.4 million new, the Ferrari LaFerrari is ...</td>\n",
       "    </tr>\n",
       "    <tr>\n",
       "      <th></th>\n",
       "      <td>Ferrari Monza</td>\n",
       "      <td>Price: $1.7 Million</td>\n",
       "      <td>Inarguably one of the prettiest cars on this l...</td>\n",
       "    </tr>\n",
       "    <tr>\n",
       "      <th></th>\n",
       "      <td>Gordon Murray T.33</td>\n",
       "      <td>Price: $1.7 Million</td>\n",
       "      <td>The McLaren Elva is one of the latest addition...</td>\n",
       "    </tr>\n",
       "    <tr>\n",
       "      <th></th>\n",
       "      <td>Koenigsegg Gemera</td>\n",
       "      <td>Price: $1.7 Million</td>\n",
       "      <td>You might not know the name Czinger yet, but t...</td>\n",
       "    </tr>\n",
       "    <tr>\n",
       "      <th></th>\n",
       "      <td>Zenvo TSR-S</td>\n",
       "      <td>Price: $1.7 Million</td>\n",
       "      <td>Much like the roof-less McLaren Elva, the Ferr...</td>\n",
       "    </tr>\n",
       "    <tr>\n",
       "      <th></th>\n",
       "      <td>Hennessey Venom F5</td>\n",
       "      <td>Price: $1.8 Million</td>\n",
       "      <td>The second and slightly more affordable superc...</td>\n",
       "    </tr>\n",
       "    <tr>\n",
       "      <th></th>\n",
       "      <td>Bentley Bacalar</td>\n",
       "      <td>Price: $1.9 Million</td>\n",
       "      <td>One of two Koenigsegg models on this list, the...</td>\n",
       "    </tr>\n",
       "    <tr>\n",
       "      <th></th>\n",
       "      <td>Hispano Suiza Carmen Boulogne</td>\n",
       "      <td>Price: $1.9 Million</td>\n",
       "      <td>Hailing from Denmark, the Zenvo TSR-S debuted ...</td>\n",
       "    </tr>\n",
       "    <tr>\n",
       "      <th></th>\n",
       "      <td>Bentley Mulliner Batur</td>\n",
       "      <td>Price: $2.0 Million</td>\n",
       "      <td>The Hennessey Venom GT was a record-breaker, t...</td>\n",
       "    </tr>\n",
       "    <tr>\n",
       "      <th></th>\n",
       "      <td>Deus Vayanne</td>\n",
       "      <td>Price: $2.0 Million</td>\n",
       "      <td>With just 12 total units produced, the Bentley...</td>\n",
       "    </tr>\n",
       "    <tr>\n",
       "      <th></th>\n",
       "      <td>SSC Tuatara</td>\n",
       "      <td>Price: $2.0 Million*</td>\n",
       "      <td>To call the Hispano Suiza Carmen Boulogne beau...</td>\n",
       "    </tr>\n",
       "    <tr>\n",
       "      <th></th>\n",
       "      <td>Lotus Evija</td>\n",
       "      <td>Price: $2.1 Million</td>\n",
       "      <td>The electric onslaught is coming. Bentley says...</td>\n",
       "    </tr>\n",
       "    <tr>\n",
       "      <th></th>\n",
       "      <td>Aston Martin Vulcan</td>\n",
       "      <td>Price: $2.3 Million</td>\n",
       "      <td>The Deus Vayanne may not be a household name (...</td>\n",
       "    </tr>\n",
       "    <tr>\n",
       "      <th></th>\n",
       "      <td>Delage D12</td>\n",
       "      <td>Price: $2.3 Million</td>\n",
       "      <td>Although initially cloaked in controversy, SSC...</td>\n",
       "    </tr>\n",
       "    <tr>\n",
       "      <th></th>\n",
       "      <td>McLaren Speedtail</td>\n",
       "      <td>Price: $2.3 Million</td>\n",
       "      <td>With a new Emira sports car and an Eletre elec...</td>\n",
       "    </tr>\n",
       "    <tr>\n",
       "      <th></th>\n",
       "      <td>Rimac Nevera</td>\n",
       "      <td>Price: $2.4 Million</td>\n",
       "      <td>As with a few other cars on this list, the Ast...</td>\n",
       "    </tr>\n",
       "    <tr>\n",
       "      <th></th>\n",
       "      <td>Pagani Utopia</td>\n",
       "      <td>Price: $2.5 Million</td>\n",
       "      <td>You may have heard of Delage before. In the ea...</td>\n",
       "    </tr>\n",
       "    <tr>\n",
       "      <th></th>\n",
       "      <td>Pininfarina Battista</td>\n",
       "      <td>Price: $2.5 Million</td>\n",
       "      <td>What would you pay for the fastest production ...</td>\n",
       "    </tr>\n",
       "    <tr>\n",
       "      <th></th>\n",
       "      <td>Ferrari FXX K Evo</td>\n",
       "      <td>Price: $2.6 Million</td>\n",
       "      <td>The Rimac Nevera takes the title of most expen...</td>\n",
       "    </tr>\n",
       "    <tr>\n",
       "      <th></th>\n",
       "      <td>Gordon Murray T.50</td>\n",
       "      <td>Price: $2.6 Million</td>\n",
       "      <td>First came the Zonda, then the Huayra, and now...</td>\n",
       "    </tr>\n",
       "    <tr>\n",
       "      <th></th>\n",
       "      <td>Lamborghini Countach</td>\n",
       "      <td>Price: $2.6 Million</td>\n",
       "      <td>Aptly named after the company’s founder, Batti...</td>\n",
       "    </tr>\n",
       "    <tr>\n",
       "      <th></th>\n",
       "      <td>Mercedes-AMG Project One</td>\n",
       "      <td>Price: $2.7 Million</td>\n",
       "      <td>Sure, you could buy a normal LaFerrari (which ...</td>\n",
       "    </tr>\n",
       "    <tr>\n",
       "      <th></th>\n",
       "      <td>Aston Martin Victor</td>\n",
       "      <td>Price: $3.0 Million</td>\n",
       "      <td>If the name Gordon Murray sounds familiar, it’...</td>\n",
       "    </tr>\n",
       "    <tr>\n",
       "      <th></th>\n",
       "      <td>Hennessey Venom F5 Roadster</td>\n",
       "      <td>Price: $3.0 Million</td>\n",
       "      <td>The name Countach may be iconic, but is it wor...</td>\n",
       "    </tr>\n",
       "    <tr>\n",
       "      <th></th>\n",
       "      <td>Koenigsegg Jesko</td>\n",
       "      <td>Price: $3.2 Million</td>\n",
       "      <td>Mercedes has promised a production version of ...</td>\n",
       "    </tr>\n",
       "    <tr>\n",
       "      <th></th>\n",
       "      <td>Aston Martin Valkyrie</td>\n",
       "      <td>Price: $3.4 Million</td>\n",
       "      <td>The folks at Aston Martin know a thing or two ...</td>\n",
       "    </tr>\n",
       "    <tr>\n",
       "      <th></th>\n",
       "      <td>W Motors Lykan Hypersport</td>\n",
       "      <td>Price: $3.5 Million</td>\n",
       "      <td>$3.0 Million</td>\n",
       "    </tr>\n",
       "    <tr>\n",
       "      <th></th>\n",
       "      <td>McLaren Solus</td>\n",
       "      <td>Price: $3.6 Million</td>\n",
       "      <td>The same Hennessey Venom F5 hypercar we all kn...</td>\n",
       "    </tr>\n",
       "    <tr>\n",
       "      <th></th>\n",
       "      <td>Pagani Huayra Roadster BC</td>\n",
       "      <td>Price: $3.6 million</td>\n",
       "      <td>The Koenigsegg Jesko, apart from being the fas...</td>\n",
       "    </tr>\n",
       "    <tr>\n",
       "      <th></th>\n",
       "      <td>Bugatti Chiron Pur Sport</td>\n",
       "      <td>Price: $3.7 Million</td>\n",
       "      <td>The upcoming Aston Martin hybrid hypercar hasn...</td>\n",
       "    </tr>\n",
       "    <tr>\n",
       "      <th></th>\n",
       "      <td>Lamborghini Sian</td>\n",
       "      <td>Price: $3.9 Million</td>\n",
       "      <td>Dubai-based W Motors shocked the world with it...</td>\n",
       "    </tr>\n",
       "    <tr>\n",
       "      <th></th>\n",
       "      <td>Koenigsegg CC850</td>\n",
       "      <td>Price: $4.5 Million</td>\n",
       "      <td>$3.5 Million</td>\n",
       "    </tr>\n",
       "    <tr>\n",
       "      <th></th>\n",
       "      <td>Bugatti Chiron Super Sport 300+</td>\n",
       "      <td>Price: $4.7 Million</td>\n",
       "      <td>One seat, 829 horsepower, and a top speed of o...</td>\n",
       "    </tr>\n",
       "    <tr>\n",
       "      <th></th>\n",
       "      <td>Lamborghini Veneno</td>\n",
       "      <td>Price: $5.0 Million</td>\n",
       "      <td>Following Pagani’s past playbook, a roadster v...</td>\n",
       "    </tr>\n",
       "    <tr>\n",
       "      <th></th>\n",
       "      <td>Bugatti Bolide</td>\n",
       "      <td>Price: $5.4 Million</td>\n",
       "      <td>Another showstopper from the Geneva Motor Show...</td>\n",
       "    </tr>\n",
       "    <tr>\n",
       "      <th></th>\n",
       "      <td>Bugatti Mistral</td>\n",
       "      <td>Price: $5.8 Million</td>\n",
       "      <td>In several ways, the Sian represents a bridge ...</td>\n",
       "    </tr>\n",
       "    <tr>\n",
       "      <th></th>\n",
       "      <td>Pagani Huayra Imola</td>\n",
       "      <td>Price: $6.4 Million</td>\n",
       "      <td>The Koenigsegg CC850 was a surprise to be sure...</td>\n",
       "    </tr>\n",
       "    <tr>\n",
       "      <th></th>\n",
       "      <td>Bugatti Divo</td>\n",
       "      <td>Price: $7.4 Million</td>\n",
       "      <td>Earlier this year, Bugatti captured the collec...</td>\n",
       "    </tr>\n",
       "    <tr>\n",
       "      <th></th>\n",
       "      <td>SP Automotive Chaos</td>\n",
       "      <td>Price: $8.0 Million</td>\n",
       "      <td>Lamborghini built just 14 examples of the Aven...</td>\n",
       "    </tr>\n",
       "    <tr>\n",
       "      <th></th>\n",
       "      <td>Pagani Codalunga</td>\n",
       "      <td>Price: $9.0 Million</td>\n",
       "      <td>Produced in extremely limited numbers atop the...</td>\n",
       "    </tr>\n",
       "    <tr>\n",
       "      <th></th>\n",
       "      <td>Mercedes-Maybach Exelero</td>\n",
       "      <td>Price: $12.8 Million</td>\n",
       "      <td>The Bugatti Mistral sends the iconic W16 engin...</td>\n",
       "    </tr>\n",
       "    <tr>\n",
       "      <th></th>\n",
       "      <td>Bugatti Centodieci</td>\n",
       "      <td>Price: $13.4 Million</td>\n",
       "      <td>Even though the new Utopia marks the next big ...</td>\n",
       "    </tr>\n",
       "    <tr>\n",
       "      <th></th>\n",
       "      <td>Rolls-Royce Sweptail</td>\n",
       "      <td>Price: $28.0 Million (est.)</td>\n",
       "      <td>Among Bugatti’s recently debuted vehicles, the...</td>\n",
       "    </tr>\n",
       "  </tbody>\n",
       "</table>\n",
       "</div>"
      ],
      "text/plain": [
       "                        Car Title                        Price  \\\n",
       "                        Drako GTE          Price: $1.2 Million   \n",
       "                    De Tomaso P72          Price: $1.3 Million   \n",
       "                Ferrari LaFerrari          Price: $1.4 Million   \n",
       "                    Pagani Huayra          Price: $1.4 Million   \n",
       "                     McLaren Elva          Price: $1.7 Million   \n",
       "                      Czinger 21C          Price: $1.7 Million   \n",
       "                    Ferrari Monza          Price: $1.7 Million   \n",
       "               Gordon Murray T.33          Price: $1.7 Million   \n",
       "                Koenigsegg Gemera          Price: $1.7 Million   \n",
       "                      Zenvo TSR-S          Price: $1.7 Million   \n",
       "               Hennessey Venom F5          Price: $1.8 Million   \n",
       "                  Bentley Bacalar          Price: $1.9 Million   \n",
       "    Hispano Suiza Carmen Boulogne          Price: $1.9 Million   \n",
       "           Bentley Mulliner Batur          Price: $2.0 Million   \n",
       "                     Deus Vayanne          Price: $2.0 Million   \n",
       "                      SSC Tuatara         Price: $2.0 Million*   \n",
       "                      Lotus Evija          Price: $2.1 Million   \n",
       "              Aston Martin Vulcan          Price: $2.3 Million   \n",
       "                       Delage D12          Price: $2.3 Million   \n",
       "                McLaren Speedtail          Price: $2.3 Million   \n",
       "                     Rimac Nevera          Price: $2.4 Million   \n",
       "                    Pagani Utopia          Price: $2.5 Million   \n",
       "             Pininfarina Battista          Price: $2.5 Million   \n",
       "                Ferrari FXX K Evo          Price: $2.6 Million   \n",
       "               Gordon Murray T.50          Price: $2.6 Million   \n",
       "             Lamborghini Countach          Price: $2.6 Million   \n",
       "         Mercedes-AMG Project One          Price: $2.7 Million   \n",
       "              Aston Martin Victor          Price: $3.0 Million   \n",
       "      Hennessey Venom F5 Roadster          Price: $3.0 Million   \n",
       "                 Koenigsegg Jesko          Price: $3.2 Million   \n",
       "            Aston Martin Valkyrie          Price: $3.4 Million   \n",
       "        W Motors Lykan Hypersport          Price: $3.5 Million   \n",
       "                    McLaren Solus          Price: $3.6 Million   \n",
       "        Pagani Huayra Roadster BC          Price: $3.6 million   \n",
       "         Bugatti Chiron Pur Sport          Price: $3.7 Million   \n",
       "                 Lamborghini Sian          Price: $3.9 Million   \n",
       "                 Koenigsegg CC850          Price: $4.5 Million   \n",
       "  Bugatti Chiron Super Sport 300+          Price: $4.7 Million   \n",
       "               Lamborghini Veneno          Price: $5.0 Million   \n",
       "                   Bugatti Bolide          Price: $5.4 Million   \n",
       "                  Bugatti Mistral          Price: $5.8 Million   \n",
       "              Pagani Huayra Imola          Price: $6.4 Million   \n",
       "                     Bugatti Divo          Price: $7.4 Million   \n",
       "              SP Automotive Chaos          Price: $8.0 Million   \n",
       "                 Pagani Codalunga          Price: $9.0 Million   \n",
       "         Mercedes-Maybach Exelero         Price: $12.8 Million   \n",
       "               Bugatti Centodieci         Price: $13.4 Million   \n",
       "             Rolls-Royce Sweptail  Price: $28.0 Million (est.)   \n",
       "\n",
       "                                    Car Description  \n",
       "  When it comes to high-end hypercars and super-...  \n",
       "  But in order to find out which of these unatta...  \n",
       "  We should note, though: The prices listed here...  \n",
       "  The Drako GTE is a super sedan in every sense ...  \n",
       "  The De Tomaso P72 is basically the definition ...  \n",
       "  At $1.4 million new, the Ferrari LaFerrari is ...  \n",
       "  Inarguably one of the prettiest cars on this l...  \n",
       "  The McLaren Elva is one of the latest addition...  \n",
       "  You might not know the name Czinger yet, but t...  \n",
       "  Much like the roof-less McLaren Elva, the Ferr...  \n",
       "  The second and slightly more affordable superc...  \n",
       "  One of two Koenigsegg models on this list, the...  \n",
       "  Hailing from Denmark, the Zenvo TSR-S debuted ...  \n",
       "  The Hennessey Venom GT was a record-breaker, t...  \n",
       "  With just 12 total units produced, the Bentley...  \n",
       "  To call the Hispano Suiza Carmen Boulogne beau...  \n",
       "  The electric onslaught is coming. Bentley says...  \n",
       "  The Deus Vayanne may not be a household name (...  \n",
       "  Although initially cloaked in controversy, SSC...  \n",
       "  With a new Emira sports car and an Eletre elec...  \n",
       "  As with a few other cars on this list, the Ast...  \n",
       "  You may have heard of Delage before. In the ea...  \n",
       "  What would you pay for the fastest production ...  \n",
       "  The Rimac Nevera takes the title of most expen...  \n",
       "  First came the Zonda, then the Huayra, and now...  \n",
       "  Aptly named after the company’s founder, Batti...  \n",
       "  Sure, you could buy a normal LaFerrari (which ...  \n",
       "  If the name Gordon Murray sounds familiar, it’...  \n",
       "  The name Countach may be iconic, but is it wor...  \n",
       "  Mercedes has promised a production version of ...  \n",
       "  The folks at Aston Martin know a thing or two ...  \n",
       "                                       $3.0 Million  \n",
       "  The same Hennessey Venom F5 hypercar we all kn...  \n",
       "  The Koenigsegg Jesko, apart from being the fas...  \n",
       "  The upcoming Aston Martin hybrid hypercar hasn...  \n",
       "  Dubai-based W Motors shocked the world with it...  \n",
       "                                       $3.5 Million  \n",
       "  One seat, 829 horsepower, and a top speed of o...  \n",
       "  Following Pagani’s past playbook, a roadster v...  \n",
       "  Another showstopper from the Geneva Motor Show...  \n",
       "  In several ways, the Sian represents a bridge ...  \n",
       "  The Koenigsegg CC850 was a surprise to be sure...  \n",
       "  Earlier this year, Bugatti captured the collec...  \n",
       "  Lamborghini built just 14 examples of the Aven...  \n",
       "  Produced in extremely limited numbers atop the...  \n",
       "  The Bugatti Mistral sends the iconic W16 engin...  \n",
       "  Even though the new Utopia marks the next big ...  \n",
       "  Among Bugatti’s recently debuted vehicles, the...  "
      ]
     },
     "execution_count": 247,
     "metadata": {},
     "output_type": "execute_result"
    }
   ],
   "source": [
    "TOP_cars"
   ]
  },
  {
   "cell_type": "code",
   "execution_count": 248,
   "id": "61ea4c3a",
   "metadata": {},
   "outputs": [],
   "source": [
    "driver.close()"
   ]
  }
 ],
 "metadata": {
  "kernelspec": {
   "display_name": "Python 3 (ipykernel)",
   "language": "python",
   "name": "python3"
  },
  "language_info": {
   "codemirror_mode": {
    "name": "ipython",
    "version": 3
   },
   "file_extension": ".py",
   "mimetype": "text/x-python",
   "name": "python",
   "nbconvert_exporter": "python",
   "pygments_lexer": "ipython3",
   "version": "3.9.12"
  }
 },
 "nbformat": 4,
 "nbformat_minor": 5
}
